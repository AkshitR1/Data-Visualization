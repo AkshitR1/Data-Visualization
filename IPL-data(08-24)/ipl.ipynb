{
 "cells": [
  {
   "cell_type": "code",
   "execution_count": 1,
   "metadata": {},
   "outputs": [],
   "source": [
    "import numpy as np\n",
    "import pandas as pd\n",
    "import matplotlib.pyplot as plt\n",
    "import seaborn as sns\n",
    "import plotly.express as px"
   ]
  },
  {
   "cell_type": "code",
   "execution_count": 2,
   "metadata": {},
   "outputs": [
    {
     "data": {
      "text/html": [
       "<div>\n",
       "<style scoped>\n",
       "    .dataframe tbody tr th:only-of-type {\n",
       "        vertical-align: middle;\n",
       "    }\n",
       "\n",
       "    .dataframe tbody tr th {\n",
       "        vertical-align: top;\n",
       "    }\n",
       "\n",
       "    .dataframe thead th {\n",
       "        text-align: right;\n",
       "    }\n",
       "</style>\n",
       "<table border=\"1\" class=\"dataframe\">\n",
       "  <thead>\n",
       "    <tr style=\"text-align: right;\">\n",
       "      <th></th>\n",
       "      <th>id</th>\n",
       "      <th>season</th>\n",
       "      <th>city</th>\n",
       "      <th>date</th>\n",
       "      <th>match_type</th>\n",
       "      <th>player_of_match</th>\n",
       "      <th>venue</th>\n",
       "      <th>team1</th>\n",
       "      <th>team2</th>\n",
       "      <th>toss_winner</th>\n",
       "      <th>toss_decision</th>\n",
       "      <th>winner</th>\n",
       "      <th>result</th>\n",
       "      <th>result_margin</th>\n",
       "      <th>target_runs</th>\n",
       "      <th>target_overs</th>\n",
       "      <th>super_over</th>\n",
       "      <th>method</th>\n",
       "      <th>umpire1</th>\n",
       "      <th>umpire2</th>\n",
       "    </tr>\n",
       "  </thead>\n",
       "  <tbody>\n",
       "    <tr>\n",
       "      <th>0</th>\n",
       "      <td>335982</td>\n",
       "      <td>2007/08</td>\n",
       "      <td>Bangalore</td>\n",
       "      <td>2008-04-18</td>\n",
       "      <td>League</td>\n",
       "      <td>BB McCullum</td>\n",
       "      <td>M Chinnaswamy Stadium</td>\n",
       "      <td>Royal Challengers Bangalore</td>\n",
       "      <td>Kolkata Knight Riders</td>\n",
       "      <td>Royal Challengers Bangalore</td>\n",
       "      <td>field</td>\n",
       "      <td>Kolkata Knight Riders</td>\n",
       "      <td>runs</td>\n",
       "      <td>140.0</td>\n",
       "      <td>223.0</td>\n",
       "      <td>20.0</td>\n",
       "      <td>N</td>\n",
       "      <td>NaN</td>\n",
       "      <td>Asad Rauf</td>\n",
       "      <td>RE Koertzen</td>\n",
       "    </tr>\n",
       "    <tr>\n",
       "      <th>1</th>\n",
       "      <td>335983</td>\n",
       "      <td>2007/08</td>\n",
       "      <td>Chandigarh</td>\n",
       "      <td>2008-04-19</td>\n",
       "      <td>League</td>\n",
       "      <td>MEK Hussey</td>\n",
       "      <td>Punjab Cricket Association Stadium, Mohali</td>\n",
       "      <td>Kings XI Punjab</td>\n",
       "      <td>Chennai Super Kings</td>\n",
       "      <td>Chennai Super Kings</td>\n",
       "      <td>bat</td>\n",
       "      <td>Chennai Super Kings</td>\n",
       "      <td>runs</td>\n",
       "      <td>33.0</td>\n",
       "      <td>241.0</td>\n",
       "      <td>20.0</td>\n",
       "      <td>N</td>\n",
       "      <td>NaN</td>\n",
       "      <td>MR Benson</td>\n",
       "      <td>SL Shastri</td>\n",
       "    </tr>\n",
       "    <tr>\n",
       "      <th>2</th>\n",
       "      <td>335984</td>\n",
       "      <td>2007/08</td>\n",
       "      <td>Delhi</td>\n",
       "      <td>2008-04-19</td>\n",
       "      <td>League</td>\n",
       "      <td>MF Maharoof</td>\n",
       "      <td>Feroz Shah Kotla</td>\n",
       "      <td>Delhi Daredevils</td>\n",
       "      <td>Rajasthan Royals</td>\n",
       "      <td>Rajasthan Royals</td>\n",
       "      <td>bat</td>\n",
       "      <td>Delhi Daredevils</td>\n",
       "      <td>wickets</td>\n",
       "      <td>9.0</td>\n",
       "      <td>130.0</td>\n",
       "      <td>20.0</td>\n",
       "      <td>N</td>\n",
       "      <td>NaN</td>\n",
       "      <td>Aleem Dar</td>\n",
       "      <td>GA Pratapkumar</td>\n",
       "    </tr>\n",
       "    <tr>\n",
       "      <th>3</th>\n",
       "      <td>335985</td>\n",
       "      <td>2007/08</td>\n",
       "      <td>Mumbai</td>\n",
       "      <td>2008-04-20</td>\n",
       "      <td>League</td>\n",
       "      <td>MV Boucher</td>\n",
       "      <td>Wankhede Stadium</td>\n",
       "      <td>Mumbai Indians</td>\n",
       "      <td>Royal Challengers Bangalore</td>\n",
       "      <td>Mumbai Indians</td>\n",
       "      <td>bat</td>\n",
       "      <td>Royal Challengers Bangalore</td>\n",
       "      <td>wickets</td>\n",
       "      <td>5.0</td>\n",
       "      <td>166.0</td>\n",
       "      <td>20.0</td>\n",
       "      <td>N</td>\n",
       "      <td>NaN</td>\n",
       "      <td>SJ Davis</td>\n",
       "      <td>DJ Harper</td>\n",
       "    </tr>\n",
       "    <tr>\n",
       "      <th>4</th>\n",
       "      <td>335986</td>\n",
       "      <td>2007/08</td>\n",
       "      <td>Kolkata</td>\n",
       "      <td>2008-04-20</td>\n",
       "      <td>League</td>\n",
       "      <td>DJ Hussey</td>\n",
       "      <td>Eden Gardens</td>\n",
       "      <td>Kolkata Knight Riders</td>\n",
       "      <td>Deccan Chargers</td>\n",
       "      <td>Deccan Chargers</td>\n",
       "      <td>bat</td>\n",
       "      <td>Kolkata Knight Riders</td>\n",
       "      <td>wickets</td>\n",
       "      <td>5.0</td>\n",
       "      <td>111.0</td>\n",
       "      <td>20.0</td>\n",
       "      <td>N</td>\n",
       "      <td>NaN</td>\n",
       "      <td>BF Bowden</td>\n",
       "      <td>K Hariharan</td>\n",
       "    </tr>\n",
       "    <tr>\n",
       "      <th>...</th>\n",
       "      <td>...</td>\n",
       "      <td>...</td>\n",
       "      <td>...</td>\n",
       "      <td>...</td>\n",
       "      <td>...</td>\n",
       "      <td>...</td>\n",
       "      <td>...</td>\n",
       "      <td>...</td>\n",
       "      <td>...</td>\n",
       "      <td>...</td>\n",
       "      <td>...</td>\n",
       "      <td>...</td>\n",
       "      <td>...</td>\n",
       "      <td>...</td>\n",
       "      <td>...</td>\n",
       "      <td>...</td>\n",
       "      <td>...</td>\n",
       "      <td>...</td>\n",
       "      <td>...</td>\n",
       "      <td>...</td>\n",
       "    </tr>\n",
       "    <tr>\n",
       "      <th>1090</th>\n",
       "      <td>1426307</td>\n",
       "      <td>2024</td>\n",
       "      <td>Hyderabad</td>\n",
       "      <td>2024-05-19</td>\n",
       "      <td>League</td>\n",
       "      <td>Abhishek Sharma</td>\n",
       "      <td>Rajiv Gandhi International Stadium, Uppal, Hyd...</td>\n",
       "      <td>Punjab Kings</td>\n",
       "      <td>Sunrisers Hyderabad</td>\n",
       "      <td>Punjab Kings</td>\n",
       "      <td>bat</td>\n",
       "      <td>Sunrisers Hyderabad</td>\n",
       "      <td>wickets</td>\n",
       "      <td>4.0</td>\n",
       "      <td>215.0</td>\n",
       "      <td>20.0</td>\n",
       "      <td>N</td>\n",
       "      <td>NaN</td>\n",
       "      <td>Nitin Menon</td>\n",
       "      <td>VK Sharma</td>\n",
       "    </tr>\n",
       "    <tr>\n",
       "      <th>1091</th>\n",
       "      <td>1426309</td>\n",
       "      <td>2024</td>\n",
       "      <td>Ahmedabad</td>\n",
       "      <td>2024-05-21</td>\n",
       "      <td>Qualifier 1</td>\n",
       "      <td>MA Starc</td>\n",
       "      <td>Narendra Modi Stadium, Ahmedabad</td>\n",
       "      <td>Sunrisers Hyderabad</td>\n",
       "      <td>Kolkata Knight Riders</td>\n",
       "      <td>Sunrisers Hyderabad</td>\n",
       "      <td>bat</td>\n",
       "      <td>Kolkata Knight Riders</td>\n",
       "      <td>wickets</td>\n",
       "      <td>8.0</td>\n",
       "      <td>160.0</td>\n",
       "      <td>20.0</td>\n",
       "      <td>N</td>\n",
       "      <td>NaN</td>\n",
       "      <td>AK Chaudhary</td>\n",
       "      <td>R Pandit</td>\n",
       "    </tr>\n",
       "    <tr>\n",
       "      <th>1092</th>\n",
       "      <td>1426310</td>\n",
       "      <td>2024</td>\n",
       "      <td>Ahmedabad</td>\n",
       "      <td>2024-05-22</td>\n",
       "      <td>Eliminator</td>\n",
       "      <td>R Ashwin</td>\n",
       "      <td>Narendra Modi Stadium, Ahmedabad</td>\n",
       "      <td>Royal Challengers Bengaluru</td>\n",
       "      <td>Rajasthan Royals</td>\n",
       "      <td>Rajasthan Royals</td>\n",
       "      <td>field</td>\n",
       "      <td>Rajasthan Royals</td>\n",
       "      <td>wickets</td>\n",
       "      <td>4.0</td>\n",
       "      <td>173.0</td>\n",
       "      <td>20.0</td>\n",
       "      <td>N</td>\n",
       "      <td>NaN</td>\n",
       "      <td>KN Ananthapadmanabhan</td>\n",
       "      <td>MV Saidharshan Kumar</td>\n",
       "    </tr>\n",
       "    <tr>\n",
       "      <th>1093</th>\n",
       "      <td>1426311</td>\n",
       "      <td>2024</td>\n",
       "      <td>Chennai</td>\n",
       "      <td>2024-05-24</td>\n",
       "      <td>Qualifier 2</td>\n",
       "      <td>Shahbaz Ahmed</td>\n",
       "      <td>MA Chidambaram Stadium, Chepauk, Chennai</td>\n",
       "      <td>Sunrisers Hyderabad</td>\n",
       "      <td>Rajasthan Royals</td>\n",
       "      <td>Rajasthan Royals</td>\n",
       "      <td>field</td>\n",
       "      <td>Sunrisers Hyderabad</td>\n",
       "      <td>runs</td>\n",
       "      <td>36.0</td>\n",
       "      <td>176.0</td>\n",
       "      <td>20.0</td>\n",
       "      <td>N</td>\n",
       "      <td>NaN</td>\n",
       "      <td>Nitin Menon</td>\n",
       "      <td>VK Sharma</td>\n",
       "    </tr>\n",
       "    <tr>\n",
       "      <th>1094</th>\n",
       "      <td>1426312</td>\n",
       "      <td>2024</td>\n",
       "      <td>Chennai</td>\n",
       "      <td>2024-05-26</td>\n",
       "      <td>Final</td>\n",
       "      <td>MA Starc</td>\n",
       "      <td>MA Chidambaram Stadium, Chepauk, Chennai</td>\n",
       "      <td>Sunrisers Hyderabad</td>\n",
       "      <td>Kolkata Knight Riders</td>\n",
       "      <td>Sunrisers Hyderabad</td>\n",
       "      <td>bat</td>\n",
       "      <td>Kolkata Knight Riders</td>\n",
       "      <td>wickets</td>\n",
       "      <td>8.0</td>\n",
       "      <td>114.0</td>\n",
       "      <td>20.0</td>\n",
       "      <td>N</td>\n",
       "      <td>NaN</td>\n",
       "      <td>J Madanagopal</td>\n",
       "      <td>Nitin Menon</td>\n",
       "    </tr>\n",
       "  </tbody>\n",
       "</table>\n",
       "<p>1095 rows × 20 columns</p>\n",
       "</div>"
      ],
      "text/plain": [
       "           id   season        city        date   match_type  player_of_match  \\\n",
       "0      335982  2007/08   Bangalore  2008-04-18       League      BB McCullum   \n",
       "1      335983  2007/08  Chandigarh  2008-04-19       League       MEK Hussey   \n",
       "2      335984  2007/08       Delhi  2008-04-19       League      MF Maharoof   \n",
       "3      335985  2007/08      Mumbai  2008-04-20       League       MV Boucher   \n",
       "4      335986  2007/08     Kolkata  2008-04-20       League        DJ Hussey   \n",
       "...       ...      ...         ...         ...          ...              ...   \n",
       "1090  1426307     2024   Hyderabad  2024-05-19       League  Abhishek Sharma   \n",
       "1091  1426309     2024   Ahmedabad  2024-05-21  Qualifier 1         MA Starc   \n",
       "1092  1426310     2024   Ahmedabad  2024-05-22   Eliminator         R Ashwin   \n",
       "1093  1426311     2024     Chennai  2024-05-24  Qualifier 2    Shahbaz Ahmed   \n",
       "1094  1426312     2024     Chennai  2024-05-26        Final         MA Starc   \n",
       "\n",
       "                                                  venue  \\\n",
       "0                                 M Chinnaswamy Stadium   \n",
       "1            Punjab Cricket Association Stadium, Mohali   \n",
       "2                                      Feroz Shah Kotla   \n",
       "3                                      Wankhede Stadium   \n",
       "4                                          Eden Gardens   \n",
       "...                                                 ...   \n",
       "1090  Rajiv Gandhi International Stadium, Uppal, Hyd...   \n",
       "1091                   Narendra Modi Stadium, Ahmedabad   \n",
       "1092                   Narendra Modi Stadium, Ahmedabad   \n",
       "1093           MA Chidambaram Stadium, Chepauk, Chennai   \n",
       "1094           MA Chidambaram Stadium, Chepauk, Chennai   \n",
       "\n",
       "                            team1                        team2  \\\n",
       "0     Royal Challengers Bangalore        Kolkata Knight Riders   \n",
       "1                 Kings XI Punjab          Chennai Super Kings   \n",
       "2                Delhi Daredevils             Rajasthan Royals   \n",
       "3                  Mumbai Indians  Royal Challengers Bangalore   \n",
       "4           Kolkata Knight Riders              Deccan Chargers   \n",
       "...                           ...                          ...   \n",
       "1090                 Punjab Kings          Sunrisers Hyderabad   \n",
       "1091          Sunrisers Hyderabad        Kolkata Knight Riders   \n",
       "1092  Royal Challengers Bengaluru             Rajasthan Royals   \n",
       "1093          Sunrisers Hyderabad             Rajasthan Royals   \n",
       "1094          Sunrisers Hyderabad        Kolkata Knight Riders   \n",
       "\n",
       "                      toss_winner toss_decision                       winner  \\\n",
       "0     Royal Challengers Bangalore         field        Kolkata Knight Riders   \n",
       "1             Chennai Super Kings           bat          Chennai Super Kings   \n",
       "2                Rajasthan Royals           bat             Delhi Daredevils   \n",
       "3                  Mumbai Indians           bat  Royal Challengers Bangalore   \n",
       "4                 Deccan Chargers           bat        Kolkata Knight Riders   \n",
       "...                           ...           ...                          ...   \n",
       "1090                 Punjab Kings           bat          Sunrisers Hyderabad   \n",
       "1091          Sunrisers Hyderabad           bat        Kolkata Knight Riders   \n",
       "1092             Rajasthan Royals         field             Rajasthan Royals   \n",
       "1093             Rajasthan Royals         field          Sunrisers Hyderabad   \n",
       "1094          Sunrisers Hyderabad           bat        Kolkata Knight Riders   \n",
       "\n",
       "       result  result_margin  target_runs  target_overs super_over method  \\\n",
       "0        runs          140.0        223.0          20.0          N    NaN   \n",
       "1        runs           33.0        241.0          20.0          N    NaN   \n",
       "2     wickets            9.0        130.0          20.0          N    NaN   \n",
       "3     wickets            5.0        166.0          20.0          N    NaN   \n",
       "4     wickets            5.0        111.0          20.0          N    NaN   \n",
       "...       ...            ...          ...           ...        ...    ...   \n",
       "1090  wickets            4.0        215.0          20.0          N    NaN   \n",
       "1091  wickets            8.0        160.0          20.0          N    NaN   \n",
       "1092  wickets            4.0        173.0          20.0          N    NaN   \n",
       "1093     runs           36.0        176.0          20.0          N    NaN   \n",
       "1094  wickets            8.0        114.0          20.0          N    NaN   \n",
       "\n",
       "                    umpire1               umpire2  \n",
       "0                 Asad Rauf           RE Koertzen  \n",
       "1                 MR Benson            SL Shastri  \n",
       "2                 Aleem Dar        GA Pratapkumar  \n",
       "3                  SJ Davis             DJ Harper  \n",
       "4                 BF Bowden           K Hariharan  \n",
       "...                     ...                   ...  \n",
       "1090            Nitin Menon             VK Sharma  \n",
       "1091           AK Chaudhary              R Pandit  \n",
       "1092  KN Ananthapadmanabhan  MV Saidharshan Kumar  \n",
       "1093            Nitin Menon             VK Sharma  \n",
       "1094          J Madanagopal           Nitin Menon  \n",
       "\n",
       "[1095 rows x 20 columns]"
      ]
     },
     "execution_count": 2,
     "metadata": {},
     "output_type": "execute_result"
    }
   ],
   "source": [
    "ds = pd.read_csv('matches.csv')\n",
    "ds"
   ]
  },
  {
   "cell_type": "code",
   "execution_count": null,
   "metadata": {},
   "outputs": [],
   "source": []
  },
  {
   "cell_type": "code",
   "execution_count": 3,
   "metadata": {},
   "outputs": [
    {
     "data": {
      "application/vnd.plotly.v1+json": {
       "config": {
        "plotlyServerURL": "https://plot.ly"
       },
       "data": [
        {
         "hovertemplate": "result=runs<br>result_margin=%{x}<br>target_runs=%{y}<extra></extra>",
         "legendgroup": "runs",
         "marker": {
          "color": "#636efa",
          "symbol": "circle"
         },
         "mode": "markers",
         "name": "runs",
         "showlegend": true,
         "type": "scattergl",
         "x": [
          140,
          33,
          6,
          66,
          13,
          10,
          45,
          9,
          3,
          29,
          5,
          18,
          23,
          23,
          12,
          6,
          65,
          25,
          3,
          1,
          14,
          10,
          41,
          105,
          19,
          75,
          92,
          11,
          24,
          9,
          12,
          27,
          92,
          3,
          38,
          9,
          8,
          18,
          78,
          78,
          19,
          12,
          16,
          53,
          12,
          2,
          1,
          14,
          24,
          12,
          6,
          11,
          4,
          31,
          55,
          98,
          6,
          34,
          10,
          36,
          31,
          17,
          39,
          17,
          41,
          40,
          67,
          24,
          23,
          63,
          37,
          2,
          24,
          14,
          37,
          13,
          39,
          57,
          11,
          35,
          38,
          22,
          2,
          9,
          33,
          21,
          16,
          6,
          48,
          8,
          29,
          37,
          25,
          55,
          17,
          26,
          38,
          19,
          23,
          20,
          21,
          17,
          85,
          10,
          32,
          63,
          76,
          18,
          10,
          29,
          111,
          11,
          82,
          43,
          58,
          28,
          31,
          20,
          74,
          22,
          22,
          42,
          27,
          2,
          59,
          13,
          20,
          46,
          18,
          37,
          7,
          47,
          1,
          13,
          1,
          10,
          7,
          43,
          25,
          35,
          27,
          45,
          32,
          21,
          34,
          9,
          18,
          38,
          86,
          2,
          22,
          5,
          9,
          19,
          44,
          41,
          48,
          24,
          4,
          11,
          87,
          86,
          130,
          58,
          14,
          15,
          4,
          37,
          15,
          17,
          60,
          65,
          77,
          46,
          4,
          30,
          33,
          7,
          14,
          7,
          23,
          50,
          24,
          38,
          48,
          23,
          41,
          93,
          72,
          7,
          2,
          4,
          23,
          15,
          34,
          10,
          19,
          44,
          32,
          32,
          16,
          62,
          25,
          30,
          15,
          16,
          28,
          24,
          1,
          26,
          45,
          18,
          4,
          18,
          16,
          27,
          37,
          20,
          97,
          20,
          2,
          8,
          22,
          23,
          14,
          24,
          35,
          138,
          13,
          7,
          6,
          39,
          12,
          5,
          22,
          5,
          9,
          25,
          71,
          41,
          45,
          13,
          10,
          25,
          34,
          1,
          27,
          15,
          23,
          7,
          9,
          85,
          1,
          4,
          144,
          80,
          19,
          82,
          22,
          22,
          8,
          35,
          15,
          97,
          17,
          51,
          27,
          5,
          21,
          15,
          14,
          26,
          82,
          3,
          26,
          61,
          48,
          19,
          12,
          146,
          14,
          7,
          7,
          9,
          10,
          20,
          1,
          10,
          19,
          4,
          71,
          46,
          15,
          64,
          4,
          4,
          31,
          13,
          55,
          11,
          13,
          14,
          4,
          13,
          5,
          15,
          102,
          31,
          3,
          14,
          34,
          30,
          11,
          25,
          14,
          37,
          14,
          28,
          6,
          118,
          8,
          14,
          37,
          22,
          40,
          39,
          12,
          40,
          10,
          1,
          17,
          46,
          16,
          34,
          45,
          80,
          1,
          10,
          16,
          49,
          97,
          44,
          15,
          37,
          48,
          7,
          18,
          34,
          59,
          57,
          10,
          69,
          46,
          2,
          37,
          82,
          20,
          13,
          59,
          12,
          88,
          60,
          57,
          17,
          10,
          4,
          10,
          6,
          13,
          38,
          45,
          18,
          69,
          1,
          34,
          55,
          20,
          2,
          33,
          5,
          54,
          6,
          4,
          86,
          42,
          27,
          61,
          23,
          14,
          54,
          12,
          44,
          3,
          23,
          12,
          37,
          18,
          16,
          7,
          18,
          15,
          8,
          36,
          11,
          29,
          20,
          6,
          13,
          13,
          21,
          5,
          75,
          67,
          91,
          52,
          62,
          54,
          54,
          24,
          17,
          3,
          2,
          14,
          7,
          50,
          72,
          12,
          5,
          81,
          57,
          3,
          23,
          23,
          8,
          14,
          10,
          24,
          7,
          13,
          7,
          49,
          7,
          55,
          21,
          32,
          56,
          9,
          18,
          5,
          5,
          56,
          27,
          27,
          31,
          112,
          34,
          5,
          15,
          77,
          1,
          15,
          81,
          62,
          4,
          20,
          6,
          63,
          31,
          12,
          21,
          20,
          28,
          106,
          29,
          33,
          2,
          20,
          25,
          9,
          67,
          1,
          4,
          35,
          10,
          78,
          1,
          24,
          28,
          98,
          20,
          60,
          35,
          18,
          47,
          19,
          18,
          27,
          36
         ],
         "xaxis": "x",
         "y": [
          223,
          241,
          209,
          183,
          179,
          192,
          197,
          179,
          157,
          163,
          130,
          182,
          205,
          134,
          195,
          89,
          198,
          179,
          53,
          190,
          127,
          212,
          222,
          193,
          166,
          134,
          180,
          69,
          185,
          190,
          169,
          140,
          188,
          120,
          165,
          149,
          146,
          164,
          179,
          212,
          146,
          187,
          158,
          167,
          174,
          146,
          135,
          151,
          117,
          171,
          144,
          162,
          213,
          191,
          165,
          219,
          171,
          169,
          172,
          172,
          184,
          184,
          184,
          178,
          173,
          178,
          189,
          182,
          247,
          179,
          185,
          160,
          166,
          182,
          175,
          152,
          184,
          192,
          146,
          185,
          143,
          169,
          154,
          164,
          176,
          184,
          169,
          133,
          196,
          165,
          232,
          173,
          143,
          130,
          149,
          182,
          158,
          166,
          160,
          170,
          161,
          157,
          206,
          52,
          179,
          197,
          164,
          177,
          136,
          171,
          233,
          153,
          199,
          186,
          206,
          130,
          192,
          158,
          194,
          165,
          167,
          166,
          198,
          135,
          196,
          165,
          193,
          190,
          178,
          208,
          157,
          191,
          153,
          187,
          121,
          161,
          151,
          178,
          171,
          174,
          183,
          171,
          141,
          216,
          137,
          133,
          163,
          188,
          223,
          157,
          127,
          166,
          149,
          145,
          210,
          184,
          181,
          160,
          158,
          120,
          180,
          170,
          264,
          195,
          201,
          165,
          175,
          165,
          187,
          188,
          140,
          171,
          224,
          153,
          184,
          151,
          169,
          171,
          167,
          172,
          137,
          184,
          107,
          173,
          193,
          149,
          164,
          178,
          194,
          141,
          151,
          185,
          133,
          173,
          149,
          171,
          188,
          232,
          135,
          199,
          187,
          202,
          179,
          196,
          174,
          180,
          164,
          227,
          151,
          163,
          210,
          178,
          168,
          210,
          118,
          182,
          191,
          158,
          193,
          151,
          135,
          188,
          193,
          173,
          190,
          149,
          168,
          227,
          172,
          202,
          164,
          236,
          158,
          186,
          107,
          172,
          200,
          188,
          181,
          203,
          228,
          186,
          165,
          190,
          61,
          173,
          187,
          195,
          155,
          165,
          182,
          178,
          176,
          138,
          249,
          207,
          58,
          203,
          172,
          163,
          209,
          208,
          158,
          206,
          173,
          189,
          162,
          160,
          214,
          192,
          143,
          189,
          132,
          161,
          208,
          158,
          210,
          139,
          149,
          213,
          168,
          231,
          169,
          174,
          162,
          163,
          130,
          71,
          218,
          198,
          201,
          214,
          194,
          205,
          183,
          144,
          119,
          133,
          220,
          152,
          212,
          168,
          151,
          182,
          147,
          159,
          211,
          246,
          187,
          219,
          163,
          165,
          175,
          170,
          175,
          214,
          185,
          219,
          188,
          232,
          176,
          167,
          171,
          161,
          137,
          156,
          183,
          169,
          214,
          162,
          203,
          156,
          188,
          233,
          213,
          180,
          150,
          164,
          217,
          196,
          207,
          176,
          163,
          175,
          192,
          165,
          229,
          209,
          197,
          194,
          168,
          202,
          185,
          165,
          170,
          195,
          168,
          162,
          195,
          127,
          220,
          192,
          201,
          190,
          188,
          222,
          153,
          150,
          151,
          205,
          189,
          221,
          192,
          172,
          180,
          221,
          157,
          186,
          155,
          126,
          166,
          165,
          142,
          172,
          236,
          193,
          211,
          194,
          172,
          181,
          170,
          216,
          166,
          217,
          199,
          193,
          200,
          190,
          218,
          182,
          223,
          157,
          169,
          188,
          145,
          154,
          196,
          203,
          174,
          208,
          178,
          177,
          193,
          209,
          166,
          145,
          210,
          178,
          179,
          160,
          194,
          211,
          208,
          154,
          194,
          204,
          218,
          198,
          205,
          200,
          176,
          229,
          175,
          227,
          193,
          155,
          175,
          136,
          215,
          190,
          236,
          145,
          208,
          201,
          203,
          258,
          198,
          127,
          131,
          172,
          228,
          168,
          219,
          168,
          172,
          189,
          178,
          214,
          224,
          177,
          173,
          183,
          234,
          209,
          194,
          169,
          207,
          278,
          186,
          200,
          192,
          182,
          273,
          235,
          164,
          183,
          207,
          288,
          193,
          267,
          223,
          225,
          207,
          258,
          213,
          202,
          170,
          168,
          236,
          222,
          242,
          232,
          158,
          188,
          209,
          215,
          219,
          176
         ],
         "yaxis": "y"
        },
        {
         "hovertemplate": "result=wickets<br>result_margin=%{x}<br>target_runs=%{y}<extra></extra>",
         "legendgroup": "wickets",
         "marker": {
          "color": "#EF553B",
          "symbol": "circle"
         },
         "mode": "markers",
         "name": "wickets",
         "showlegend": true,
         "type": "scattergl",
         "x": [
          9,
          5,
          5,
          6,
          9,
          3,
          7,
          9,
          10,
          4,
          7,
          7,
          8,
          8,
          6,
          7,
          7,
          4,
          8,
          3,
          9,
          9,
          8,
          5,
          6,
          6,
          5,
          5,
          3,
          5,
          7,
          9,
          9,
          3,
          10,
          8,
          7,
          6,
          6,
          5,
          5,
          6,
          3,
          6,
          9,
          9,
          7,
          7,
          3,
          7,
          7,
          6,
          8,
          2,
          6,
          7,
          6,
          7,
          7,
          4,
          4,
          6,
          6,
          5,
          7,
          6,
          8,
          10,
          5,
          7,
          7,
          5,
          8,
          4,
          5,
          6,
          8,
          9,
          7,
          6,
          6,
          7,
          7,
          9,
          5,
          6,
          5,
          8,
          6,
          9,
          9,
          8,
          6,
          8,
          7,
          6,
          9,
          6,
          4,
          9,
          8,
          8,
          3,
          8,
          7,
          7,
          9,
          8,
          3,
          8,
          7,
          8,
          6,
          7,
          8,
          4,
          9,
          5,
          6,
          9,
          6,
          4,
          8,
          6,
          7,
          10,
          8,
          5,
          6,
          4,
          8,
          8,
          5,
          8,
          5,
          7,
          5,
          7,
          7,
          5,
          6,
          8,
          5,
          5,
          7,
          6,
          5,
          8,
          4,
          5,
          5,
          6,
          4,
          2,
          5,
          6,
          7,
          9,
          9,
          4,
          9,
          4,
          5,
          5,
          5,
          6,
          5,
          6,
          10,
          5,
          6,
          8,
          7,
          10,
          8,
          7,
          3,
          4,
          6,
          5,
          4,
          7,
          9,
          7,
          5,
          5,
          5,
          5,
          6,
          8,
          4,
          7,
          7,
          8,
          6,
          5,
          6,
          9,
          8,
          5,
          5,
          5,
          7,
          7,
          5,
          4,
          4,
          8,
          6,
          4,
          7,
          4,
          7,
          7,
          6,
          6,
          5,
          5,
          5,
          7,
          4,
          8,
          8,
          8,
          4,
          9,
          5,
          7,
          5,
          6,
          6,
          5,
          7,
          4,
          7,
          8,
          7,
          6,
          8,
          4,
          7,
          5,
          7,
          3,
          7,
          3,
          3,
          8,
          7,
          5,
          6,
          6,
          4,
          8,
          6,
          9,
          10,
          7,
          9,
          7,
          5,
          6,
          1,
          6,
          6,
          7,
          9,
          3,
          9,
          9,
          5,
          6,
          7,
          8,
          8,
          3,
          6,
          7,
          7,
          6,
          6,
          10,
          5,
          6,
          2,
          6,
          3,
          8,
          5,
          8,
          7,
          5,
          7,
          5,
          6,
          7,
          7,
          8,
          7,
          9,
          6,
          6,
          4,
          6,
          6,
          4,
          4,
          7,
          10,
          6,
          9,
          4,
          8,
          4,
          8,
          4,
          7,
          6,
          4,
          8,
          4,
          6,
          7,
          7,
          7,
          10,
          5,
          5,
          6,
          4,
          7,
          6,
          6,
          7,
          2,
          8,
          9,
          7,
          6,
          1,
          6,
          4,
          9,
          5,
          1,
          4,
          7,
          5,
          7,
          9,
          6,
          3,
          5,
          8,
          6,
          6,
          6,
          6,
          7,
          6,
          9,
          4,
          5,
          8,
          7,
          10,
          6,
          5,
          5,
          2,
          8,
          7,
          6,
          6,
          5,
          8,
          7,
          5,
          5,
          4,
          8,
          6,
          7,
          3,
          4,
          7,
          4,
          8,
          5,
          5,
          6,
          5,
          5,
          9,
          6,
          6,
          3,
          7,
          7,
          5,
          4,
          6,
          9,
          6,
          2,
          6,
          5,
          7,
          4,
          8,
          10,
          5,
          5,
          8,
          8,
          5,
          7,
          7,
          5,
          8,
          8,
          10,
          8,
          8,
          8,
          5,
          6,
          7,
          5,
          9,
          9,
          6,
          10,
          6,
          5,
          2,
          7,
          3,
          6,
          6,
          6,
          9,
          10,
          9,
          6,
          5,
          7,
          7,
          7,
          4,
          7,
          9,
          8,
          7,
          6,
          2,
          7,
          3,
          6,
          7,
          6,
          5,
          7,
          4,
          6,
          3,
          8,
          6,
          7,
          4,
          4,
          3,
          6,
          4,
          5,
          5,
          3,
          6,
          6,
          4,
          5,
          6,
          6,
          8,
          7,
          8,
          7,
          7,
          3,
          9,
          3,
          9,
          5,
          4,
          6,
          5,
          7,
          8,
          6,
          8,
          5,
          7,
          8,
          5,
          5,
          5,
          7,
          7,
          7,
          5,
          8,
          6,
          5,
          7,
          3,
          8,
          1,
          6,
          6,
          2,
          5,
          3,
          4,
          7,
          7,
          4,
          6,
          6,
          9,
          6,
          7,
          4,
          5,
          6,
          9,
          7,
          6,
          8,
          4,
          8,
          6,
          5,
          6,
          4,
          4,
          7,
          7,
          6,
          3,
          6,
          6,
          7,
          3,
          7,
          6,
          3,
          8,
          2,
          6,
          8,
          3,
          9,
          6,
          8,
          7,
          9,
          7,
          4,
          7,
          4,
          7,
          10,
          5,
          5,
          4,
          8,
          4,
          8
         ],
         "xaxis": "x",
         "y": [
          130,
          166,
          111,
          167,
          143,
          215,
          136,
          148,
          155,
          159,
          138,
          165,
          170,
          110,
          127,
          145,
          104,
          188,
          141,
          157,
          144,
          157,
          68,
          155,
          148,
          176,
          177,
          166,
          175,
          146,
          148,
          123,
          113,
          164,
          54,
          102,
          169,
          150,
          166,
          144,
          140,
          149,
          142,
          154,
          150,
          155,
          106,
          117,
          169,
          141,
          124,
          174,
          120,
          130,
          121,
          148,
          161,
          189,
          135,
          102,
          166,
          154,
          147,
          143,
          136,
          142,
          204,
          93,
          186,
          152,
          156,
          181,
          149,
          164,
          162,
          182,
          201,
          154,
          185,
          155,
          139,
          161,
          112,
          140,
          131,
          113,
          175,
          133,
          193,
          134,
          83,
          138,
          162,
          96,
          113,
          152,
          141,
          189,
          149,
          160,
          183,
          166,
          188,
          82,
          135,
          119,
          172,
          110,
          161,
          142,
          95,
          120,
          144,
          141,
          148,
          176,
          126,
          120,
          137,
          147,
          179,
          102,
          98,
          137,
          119,
          134,
          129,
          176,
          176,
          148,
          113,
          98,
          139,
          111,
          206,
          116,
          132,
          156,
          93,
          197,
          183,
          125,
          158,
          164,
          147,
          164,
          127,
          147,
          169,
          101,
          140,
          142,
          159,
          174,
          182,
          154,
          126,
          142,
          188,
          127,
          115,
          191,
          172,
          159,
          137,
          121,
          127,
          142,
          163,
          191,
          129,
          100,
          162,
          139,
          155,
          146,
          115,
          166,
          125,
          124,
          120,
          118,
          162,
          186,
          186,
          121,
          160,
          160,
          150,
          145,
          172,
          130,
          137,
          133,
          81,
          179,
          191,
          155,
          146,
          113,
          116,
          142,
          179,
          175,
          131,
          133,
          166,
          146,
          206,
          134,
          116,
          167,
          192,
          142,
          71,
          126,
          146,
          125,
          169,
          153,
          156,
          179,
          161,
          43,
          158,
          150,
          191,
          158,
          149,
          206,
          142,
          139,
          143,
          165,
          161,
          155,
          157,
          186,
          155,
          161,
          116,
          190,
          174,
          200,
          169,
          178,
          185,
          167,
          165,
          166,
          128,
          184,
          156,
          157,
          147,
          131,
          96,
          166,
          119,
          112,
          153,
          159,
          184,
          120,
          81,
          131,
          114,
          140,
          122,
          99,
          162,
          188,
          164,
          112,
          143,
          144,
          153,
          192,
          143,
          139,
          171,
          136,
          144,
          181,
          161,
          175,
          196,
          160,
          186,
          150,
          163,
          127,
          192,
          159,
          152,
          147,
          125,
          66,
          180,
          184,
          125,
          159,
          173,
          173,
          139,
          159,
          163,
          185,
          184,
          164,
          136,
          179,
          149,
          159,
          171,
          143,
          172,
          177,
          169,
          199,
          188,
          177,
          183,
          135,
          161,
          68,
          163,
          162,
          186,
          156,
          209,
          159,
          190,
          139,
          196,
          155,
          74,
          48,
          108,
          166,
          167,
          177,
          126,
          203,
          148,
          156,
          195,
          139,
          161,
          125,
          175,
          168,
          206,
          170,
          176,
          178,
          175,
          128,
          164,
          153,
          188,
          177,
          182,
          180,
          169,
          89,
          143,
          173,
          154,
          140,
          179,
          71,
          182,
          148,
          199,
          177,
          159,
          130,
          206,
          150,
          140,
          151,
          109,
          198,
          152,
          179,
          188,
          174,
          162,
          172,
          133,
          162,
          164,
          160,
          192,
          176,
          176,
          161,
          184,
          116,
          176,
          171,
          134,
          132,
          163,
          148,
          163,
          143,
          224,
          155,
          179,
          159,
          163,
          172,
          149,
          180,
          178,
          126,
          165,
          85,
          155,
          115,
          196,
          146,
          150,
          165,
          173,
          186,
          121,
          111,
          154,
          153,
          150,
          132,
          157,
          160,
          189,
          148,
          107,
          196,
          138,
          121,
          178,
          132,
          134,
          124,
          172,
          172,
          155,
          219,
          167,
          93,
          135,
          156,
          157,
          172,
          165,
          128,
          136,
          150,
          135,
          166,
          190,
          130,
          116,
          137,
          91,
          135,
          165,
          173,
          139,
          136,
          132,
          178,
          206,
          159,
          129,
          211,
          138,
          170,
          162,
          150,
          190,
          155,
          152,
          163,
          176,
          152,
          170,
          116,
          156,
          69,
          196,
          147,
          171,
          159,
          153,
          144,
          190,
          161,
          98,
          134,
          169,
          151,
          160,
          158,
          189,
          158,
          131,
          179,
          172,
          163,
          122,
          158,
          205,
          144,
          213,
          173,
          154,
          160,
          186,
          178,
          128,
          135,
          180,
          201,
          213,
          215,
          119,
          140,
          182,
          215,
          180,
          200,
          150,
          183,
          145,
          187,
          188,
          201,
          198,
          171,
          174,
          175,
          177,
          183,
          163,
          126,
          200,
          166,
          184,
          138,
          197,
          197,
          168,
          148,
          162,
          224,
          90,
          177,
          143,
          180,
          211,
          262,
          197,
          201,
          154,
          145,
          163,
          148,
          174,
          166,
          142,
          145,
          215,
          160,
          173,
          114
         ],
         "yaxis": "y"
        },
        {
         "hovertemplate": "result=tie<br>result_margin=%{x}<br>target_runs=%{y}<extra></extra>",
         "legendgroup": "tie",
         "marker": {
          "color": "#00cc96",
          "symbol": "circle"
         },
         "mode": "markers",
         "name": "tie",
         "showlegend": true,
         "type": "scattergl",
         "x": [
          null,
          null,
          null,
          null,
          null,
          null,
          null,
          null,
          null,
          null,
          null,
          null,
          null,
          null
         ],
         "xaxis": "x",
         "y": [
          151,
          137,
          131,
          153,
          153,
          192,
          154,
          186,
          163,
          158,
          202,
          164,
          177,
          160
         ],
         "yaxis": "y"
        },
        {
         "hovertemplate": "result=no result<br>result_margin=%{x}<br>target_runs=%{y}<extra></extra>",
         "legendgroup": "no result",
         "marker": {
          "color": "#ab63fa",
          "symbol": "circle"
         },
         "mode": "markers",
         "name": "no result",
         "showlegend": true,
         "type": "scattergl",
         "x": [
          null,
          null,
          null,
          null,
          null
         ],
         "xaxis": "x",
         "y": [
          null,
          null,
          188,
          63,
          null
         ],
         "yaxis": "y"
        }
       ],
       "layout": {
        "legend": {
         "title": {
          "text": "result"
         },
         "tracegroupgap": 0
        },
        "margin": {
         "t": 60
        },
        "template": {
         "data": {
          "bar": [
           {
            "error_x": {
             "color": "#2a3f5f"
            },
            "error_y": {
             "color": "#2a3f5f"
            },
            "marker": {
             "line": {
              "color": "#E5ECF6",
              "width": 0.5
             },
             "pattern": {
              "fillmode": "overlay",
              "size": 10,
              "solidity": 0.2
             }
            },
            "type": "bar"
           }
          ],
          "barpolar": [
           {
            "marker": {
             "line": {
              "color": "#E5ECF6",
              "width": 0.5
             },
             "pattern": {
              "fillmode": "overlay",
              "size": 10,
              "solidity": 0.2
             }
            },
            "type": "barpolar"
           }
          ],
          "carpet": [
           {
            "aaxis": {
             "endlinecolor": "#2a3f5f",
             "gridcolor": "white",
             "linecolor": "white",
             "minorgridcolor": "white",
             "startlinecolor": "#2a3f5f"
            },
            "baxis": {
             "endlinecolor": "#2a3f5f",
             "gridcolor": "white",
             "linecolor": "white",
             "minorgridcolor": "white",
             "startlinecolor": "#2a3f5f"
            },
            "type": "carpet"
           }
          ],
          "choropleth": [
           {
            "colorbar": {
             "outlinewidth": 0,
             "ticks": ""
            },
            "type": "choropleth"
           }
          ],
          "contour": [
           {
            "colorbar": {
             "outlinewidth": 0,
             "ticks": ""
            },
            "colorscale": [
             [
              0,
              "#0d0887"
             ],
             [
              0.1111111111111111,
              "#46039f"
             ],
             [
              0.2222222222222222,
              "#7201a8"
             ],
             [
              0.3333333333333333,
              "#9c179e"
             ],
             [
              0.4444444444444444,
              "#bd3786"
             ],
             [
              0.5555555555555556,
              "#d8576b"
             ],
             [
              0.6666666666666666,
              "#ed7953"
             ],
             [
              0.7777777777777778,
              "#fb9f3a"
             ],
             [
              0.8888888888888888,
              "#fdca26"
             ],
             [
              1,
              "#f0f921"
             ]
            ],
            "type": "contour"
           }
          ],
          "contourcarpet": [
           {
            "colorbar": {
             "outlinewidth": 0,
             "ticks": ""
            },
            "type": "contourcarpet"
           }
          ],
          "heatmap": [
           {
            "colorbar": {
             "outlinewidth": 0,
             "ticks": ""
            },
            "colorscale": [
             [
              0,
              "#0d0887"
             ],
             [
              0.1111111111111111,
              "#46039f"
             ],
             [
              0.2222222222222222,
              "#7201a8"
             ],
             [
              0.3333333333333333,
              "#9c179e"
             ],
             [
              0.4444444444444444,
              "#bd3786"
             ],
             [
              0.5555555555555556,
              "#d8576b"
             ],
             [
              0.6666666666666666,
              "#ed7953"
             ],
             [
              0.7777777777777778,
              "#fb9f3a"
             ],
             [
              0.8888888888888888,
              "#fdca26"
             ],
             [
              1,
              "#f0f921"
             ]
            ],
            "type": "heatmap"
           }
          ],
          "heatmapgl": [
           {
            "colorbar": {
             "outlinewidth": 0,
             "ticks": ""
            },
            "colorscale": [
             [
              0,
              "#0d0887"
             ],
             [
              0.1111111111111111,
              "#46039f"
             ],
             [
              0.2222222222222222,
              "#7201a8"
             ],
             [
              0.3333333333333333,
              "#9c179e"
             ],
             [
              0.4444444444444444,
              "#bd3786"
             ],
             [
              0.5555555555555556,
              "#d8576b"
             ],
             [
              0.6666666666666666,
              "#ed7953"
             ],
             [
              0.7777777777777778,
              "#fb9f3a"
             ],
             [
              0.8888888888888888,
              "#fdca26"
             ],
             [
              1,
              "#f0f921"
             ]
            ],
            "type": "heatmapgl"
           }
          ],
          "histogram": [
           {
            "marker": {
             "pattern": {
              "fillmode": "overlay",
              "size": 10,
              "solidity": 0.2
             }
            },
            "type": "histogram"
           }
          ],
          "histogram2d": [
           {
            "colorbar": {
             "outlinewidth": 0,
             "ticks": ""
            },
            "colorscale": [
             [
              0,
              "#0d0887"
             ],
             [
              0.1111111111111111,
              "#46039f"
             ],
             [
              0.2222222222222222,
              "#7201a8"
             ],
             [
              0.3333333333333333,
              "#9c179e"
             ],
             [
              0.4444444444444444,
              "#bd3786"
             ],
             [
              0.5555555555555556,
              "#d8576b"
             ],
             [
              0.6666666666666666,
              "#ed7953"
             ],
             [
              0.7777777777777778,
              "#fb9f3a"
             ],
             [
              0.8888888888888888,
              "#fdca26"
             ],
             [
              1,
              "#f0f921"
             ]
            ],
            "type": "histogram2d"
           }
          ],
          "histogram2dcontour": [
           {
            "colorbar": {
             "outlinewidth": 0,
             "ticks": ""
            },
            "colorscale": [
             [
              0,
              "#0d0887"
             ],
             [
              0.1111111111111111,
              "#46039f"
             ],
             [
              0.2222222222222222,
              "#7201a8"
             ],
             [
              0.3333333333333333,
              "#9c179e"
             ],
             [
              0.4444444444444444,
              "#bd3786"
             ],
             [
              0.5555555555555556,
              "#d8576b"
             ],
             [
              0.6666666666666666,
              "#ed7953"
             ],
             [
              0.7777777777777778,
              "#fb9f3a"
             ],
             [
              0.8888888888888888,
              "#fdca26"
             ],
             [
              1,
              "#f0f921"
             ]
            ],
            "type": "histogram2dcontour"
           }
          ],
          "mesh3d": [
           {
            "colorbar": {
             "outlinewidth": 0,
             "ticks": ""
            },
            "type": "mesh3d"
           }
          ],
          "parcoords": [
           {
            "line": {
             "colorbar": {
              "outlinewidth": 0,
              "ticks": ""
             }
            },
            "type": "parcoords"
           }
          ],
          "pie": [
           {
            "automargin": true,
            "type": "pie"
           }
          ],
          "scatter": [
           {
            "fillpattern": {
             "fillmode": "overlay",
             "size": 10,
             "solidity": 0.2
            },
            "type": "scatter"
           }
          ],
          "scatter3d": [
           {
            "line": {
             "colorbar": {
              "outlinewidth": 0,
              "ticks": ""
             }
            },
            "marker": {
             "colorbar": {
              "outlinewidth": 0,
              "ticks": ""
             }
            },
            "type": "scatter3d"
           }
          ],
          "scattercarpet": [
           {
            "marker": {
             "colorbar": {
              "outlinewidth": 0,
              "ticks": ""
             }
            },
            "type": "scattercarpet"
           }
          ],
          "scattergeo": [
           {
            "marker": {
             "colorbar": {
              "outlinewidth": 0,
              "ticks": ""
             }
            },
            "type": "scattergeo"
           }
          ],
          "scattergl": [
           {
            "marker": {
             "colorbar": {
              "outlinewidth": 0,
              "ticks": ""
             }
            },
            "type": "scattergl"
           }
          ],
          "scattermapbox": [
           {
            "marker": {
             "colorbar": {
              "outlinewidth": 0,
              "ticks": ""
             }
            },
            "type": "scattermapbox"
           }
          ],
          "scatterpolar": [
           {
            "marker": {
             "colorbar": {
              "outlinewidth": 0,
              "ticks": ""
             }
            },
            "type": "scatterpolar"
           }
          ],
          "scatterpolargl": [
           {
            "marker": {
             "colorbar": {
              "outlinewidth": 0,
              "ticks": ""
             }
            },
            "type": "scatterpolargl"
           }
          ],
          "scatterternary": [
           {
            "marker": {
             "colorbar": {
              "outlinewidth": 0,
              "ticks": ""
             }
            },
            "type": "scatterternary"
           }
          ],
          "surface": [
           {
            "colorbar": {
             "outlinewidth": 0,
             "ticks": ""
            },
            "colorscale": [
             [
              0,
              "#0d0887"
             ],
             [
              0.1111111111111111,
              "#46039f"
             ],
             [
              0.2222222222222222,
              "#7201a8"
             ],
             [
              0.3333333333333333,
              "#9c179e"
             ],
             [
              0.4444444444444444,
              "#bd3786"
             ],
             [
              0.5555555555555556,
              "#d8576b"
             ],
             [
              0.6666666666666666,
              "#ed7953"
             ],
             [
              0.7777777777777778,
              "#fb9f3a"
             ],
             [
              0.8888888888888888,
              "#fdca26"
             ],
             [
              1,
              "#f0f921"
             ]
            ],
            "type": "surface"
           }
          ],
          "table": [
           {
            "cells": {
             "fill": {
              "color": "#EBF0F8"
             },
             "line": {
              "color": "white"
             }
            },
            "header": {
             "fill": {
              "color": "#C8D4E3"
             },
             "line": {
              "color": "white"
             }
            },
            "type": "table"
           }
          ]
         },
         "layout": {
          "annotationdefaults": {
           "arrowcolor": "#2a3f5f",
           "arrowhead": 0,
           "arrowwidth": 1
          },
          "autotypenumbers": "strict",
          "coloraxis": {
           "colorbar": {
            "outlinewidth": 0,
            "ticks": ""
           }
          },
          "colorscale": {
           "diverging": [
            [
             0,
             "#8e0152"
            ],
            [
             0.1,
             "#c51b7d"
            ],
            [
             0.2,
             "#de77ae"
            ],
            [
             0.3,
             "#f1b6da"
            ],
            [
             0.4,
             "#fde0ef"
            ],
            [
             0.5,
             "#f7f7f7"
            ],
            [
             0.6,
             "#e6f5d0"
            ],
            [
             0.7,
             "#b8e186"
            ],
            [
             0.8,
             "#7fbc41"
            ],
            [
             0.9,
             "#4d9221"
            ],
            [
             1,
             "#276419"
            ]
           ],
           "sequential": [
            [
             0,
             "#0d0887"
            ],
            [
             0.1111111111111111,
             "#46039f"
            ],
            [
             0.2222222222222222,
             "#7201a8"
            ],
            [
             0.3333333333333333,
             "#9c179e"
            ],
            [
             0.4444444444444444,
             "#bd3786"
            ],
            [
             0.5555555555555556,
             "#d8576b"
            ],
            [
             0.6666666666666666,
             "#ed7953"
            ],
            [
             0.7777777777777778,
             "#fb9f3a"
            ],
            [
             0.8888888888888888,
             "#fdca26"
            ],
            [
             1,
             "#f0f921"
            ]
           ],
           "sequentialminus": [
            [
             0,
             "#0d0887"
            ],
            [
             0.1111111111111111,
             "#46039f"
            ],
            [
             0.2222222222222222,
             "#7201a8"
            ],
            [
             0.3333333333333333,
             "#9c179e"
            ],
            [
             0.4444444444444444,
             "#bd3786"
            ],
            [
             0.5555555555555556,
             "#d8576b"
            ],
            [
             0.6666666666666666,
             "#ed7953"
            ],
            [
             0.7777777777777778,
             "#fb9f3a"
            ],
            [
             0.8888888888888888,
             "#fdca26"
            ],
            [
             1,
             "#f0f921"
            ]
           ]
          },
          "colorway": [
           "#636efa",
           "#EF553B",
           "#00cc96",
           "#ab63fa",
           "#FFA15A",
           "#19d3f3",
           "#FF6692",
           "#B6E880",
           "#FF97FF",
           "#FECB52"
          ],
          "font": {
           "color": "#2a3f5f"
          },
          "geo": {
           "bgcolor": "white",
           "lakecolor": "white",
           "landcolor": "#E5ECF6",
           "showlakes": true,
           "showland": true,
           "subunitcolor": "white"
          },
          "hoverlabel": {
           "align": "left"
          },
          "hovermode": "closest",
          "mapbox": {
           "style": "light"
          },
          "paper_bgcolor": "white",
          "plot_bgcolor": "#E5ECF6",
          "polar": {
           "angularaxis": {
            "gridcolor": "white",
            "linecolor": "white",
            "ticks": ""
           },
           "bgcolor": "#E5ECF6",
           "radialaxis": {
            "gridcolor": "white",
            "linecolor": "white",
            "ticks": ""
           }
          },
          "scene": {
           "xaxis": {
            "backgroundcolor": "#E5ECF6",
            "gridcolor": "white",
            "gridwidth": 2,
            "linecolor": "white",
            "showbackground": true,
            "ticks": "",
            "zerolinecolor": "white"
           },
           "yaxis": {
            "backgroundcolor": "#E5ECF6",
            "gridcolor": "white",
            "gridwidth": 2,
            "linecolor": "white",
            "showbackground": true,
            "ticks": "",
            "zerolinecolor": "white"
           },
           "zaxis": {
            "backgroundcolor": "#E5ECF6",
            "gridcolor": "white",
            "gridwidth": 2,
            "linecolor": "white",
            "showbackground": true,
            "ticks": "",
            "zerolinecolor": "white"
           }
          },
          "shapedefaults": {
           "line": {
            "color": "#2a3f5f"
           }
          },
          "ternary": {
           "aaxis": {
            "gridcolor": "white",
            "linecolor": "white",
            "ticks": ""
           },
           "baxis": {
            "gridcolor": "white",
            "linecolor": "white",
            "ticks": ""
           },
           "bgcolor": "#E5ECF6",
           "caxis": {
            "gridcolor": "white",
            "linecolor": "white",
            "ticks": ""
           }
          },
          "title": {
           "x": 0.05
          },
          "xaxis": {
           "automargin": true,
           "gridcolor": "white",
           "linecolor": "white",
           "ticks": "",
           "title": {
            "standoff": 15
           },
           "zerolinecolor": "white",
           "zerolinewidth": 2
          },
          "yaxis": {
           "automargin": true,
           "gridcolor": "white",
           "linecolor": "white",
           "ticks": "",
           "title": {
            "standoff": 15
           },
           "zerolinecolor": "white",
           "zerolinewidth": 2
          }
         }
        },
        "xaxis": {
         "anchor": "y",
         "domain": [
          0,
          1
         ],
         "title": {
          "text": "result_margin"
         }
        },
        "yaxis": {
         "anchor": "x",
         "domain": [
          0,
          1
         ],
         "title": {
          "text": "target_runs"
         }
        }
       }
      }
     },
     "metadata": {},
     "output_type": "display_data"
    }
   ],
   "source": [
    "fig = px.scatter(data_frame=ds, y= 'target_runs', x='result_margin', color='result')\n",
    "fig.show()"
   ]
  },
  {
   "cell_type": "code",
   "execution_count": 4,
   "metadata": {},
   "outputs": [
    {
     "data": {
      "image/png": "[encoded data removed]",
      "text/plain": [
       "<Figure size 1200x700 with 1 Axes>"
      ]
     },
     "metadata": {},
     "output_type": "display_data"
    }
   ],
   "source": [
    "plt.figure(figsize=(12,7))\n",
    "sns.scatterplot(data = ds, y= 'target_runs', x='result_margin', hue='result', palette='rocket' )\n",
    "plt.show()"
   ]
  },
  {
   "cell_type": "code",
   "execution_count": 5,
   "metadata": {},
   "outputs": [
    {
     "data": {
      "application/vnd.plotly.v1+json": {
       "config": {
        "plotlyServerURL": "https://plot.ly"
       },
       "data": [
        {
         "alignmentgroup": "True",
         "bingroup": "x",
         "histfunc": "sum",
         "hovertemplate": "toss_decision=field<br>season=%{x}<br>sum of target_runs=%{y}<extra></extra>",
         "legendgroup": "field",
         "marker": {
          "color": "#636efa",
          "pattern": {
           "shape": ""
          }
         },
         "name": "field",
         "offsetgroup": "field",
         "orientation": "v",
         "showlegend": true,
         "type": "histogram",
         "x": [
          "2007/08",
          "2007/08",
          "2007/08",
          "2007/08",
          "2007/08",
          "2007/08",
          "2007/08",
          "2007/08",
          "2007/08",
          "2007/08",
          "2007/08",
          "2007/08",
          "2007/08",
          "2007/08",
          "2007/08",
          "2007/08",
          "2007/08",
          "2007/08",
          "2007/08",
          "2007/08",
          "2007/08",
          "2007/08",
          "2007/08",
          "2007/08",
          "2007/08",
          "2007/08",
          "2007/08",
          "2007/08",
          "2007/08",
          "2007/08",
          "2007/08",
          "2007/08",
          "2009",
          "2009",
          "2009",
          "2009",
          "2009",
          "2009",
          "2009",
          "2009",
          "2009",
          "2009",
          "2009",
          "2009",
          "2009",
          "2009",
          "2009",
          "2009",
          "2009",
          "2009",
          "2009",
          "2009",
          "2009",
          "2009",
          "2009/10",
          "2009/10",
          "2009/10",
          "2009/10",
          "2009/10",
          "2009/10",
          "2009/10",
          "2009/10",
          "2009/10",
          "2009/10",
          "2009/10",
          "2009/10",
          "2009/10",
          "2009/10",
          "2009/10",
          "2009/10",
          "2009/10",
          "2009/10",
          "2009/10",
          "2009/10",
          "2009/10",
          "2011",
          "2011",
          "2011",
          "2011",
          "2011",
          "2011",
          "2011",
          "2011",
          "2011",
          "2011",
          "2011",
          "2011",
          "2011",
          "2011",
          "2011",
          "2011",
          "2011",
          "2011",
          "2011",
          "2011",
          "2011",
          "2011",
          "2011",
          "2011",
          "2011",
          "2011",
          "2011",
          "2011",
          "2011",
          "2011",
          "2011",
          "2011",
          "2011",
          "2011",
          "2011",
          "2011",
          "2011",
          "2011",
          "2011",
          "2011",
          "2011",
          "2011",
          "2011",
          "2011",
          "2011",
          "2011",
          "2011",
          "2011",
          "2012",
          "2012",
          "2012",
          "2012",
          "2012",
          "2012",
          "2012",
          "2012",
          "2012",
          "2012",
          "2012",
          "2012",
          "2012",
          "2012",
          "2012",
          "2012",
          "2012",
          "2012",
          "2012",
          "2012",
          "2012",
          "2012",
          "2012",
          "2012",
          "2012",
          "2012",
          "2012",
          "2012",
          "2012",
          "2012",
          "2012",
          "2012",
          "2012",
          "2012",
          "2012",
          "2012",
          "2012",
          "2013",
          "2013",
          "2013",
          "2013",
          "2013",
          "2013",
          "2013",
          "2013",
          "2013",
          "2013",
          "2013",
          "2013",
          "2013",
          "2013",
          "2013",
          "2013",
          "2013",
          "2013",
          "2013",
          "2013",
          "2013",
          "2013",
          "2013",
          "2013",
          "2013",
          "2013",
          "2013",
          "2013",
          "2013",
          "2013",
          "2013",
          "2014",
          "2014",
          "2014",
          "2014",
          "2014",
          "2014",
          "2014",
          "2014",
          "2014",
          "2014",
          "2014",
          "2014",
          "2014",
          "2014",
          "2014",
          "2014",
          "2014",
          "2014",
          "2014",
          "2014",
          "2014",
          "2014",
          "2014",
          "2014",
          "2014",
          "2014",
          "2014",
          "2014",
          "2014",
          "2014",
          "2014",
          "2014",
          "2014",
          "2014",
          "2014",
          "2014",
          "2014",
          "2014",
          "2014",
          "2014",
          "2014",
          "2015",
          "2015",
          "2015",
          "2015",
          "2015",
          "2015",
          "2015",
          "2015",
          "2015",
          "2015",
          "2015",
          "2015",
          "2015",
          "2015",
          "2015",
          "2015",
          "2015",
          "2015",
          "2015",
          "2015",
          "2015",
          "2015",
          "2015",
          "2015",
          "2015",
          "2015",
          "2015",
          "2015",
          "2015",
          "2015",
          "2015",
          "2015",
          "2015",
          "2015",
          "2016",
          "2016",
          "2016",
          "2016",
          "2016",
          "2016",
          "2016",
          "2016",
          "2016",
          "2016",
          "2016",
          "2016",
          "2016",
          "2016",
          "2016",
          "2016",
          "2016",
          "2016",
          "2016",
          "2016",
          "2016",
          "2016",
          "2016",
          "2016",
          "2016",
          "2016",
          "2016",
          "2016",
          "2016",
          "2016",
          "2016",
          "2016",
          "2016",
          "2016",
          "2016",
          "2016",
          "2016",
          "2016",
          "2016",
          "2016",
          "2016",
          "2016",
          "2016",
          "2016",
          "2016",
          "2016",
          "2016",
          "2016",
          "2016",
          "2017",
          "2017",
          "2017",
          "2017",
          "2017",
          "2017",
          "2017",
          "2017",
          "2017",
          "2017",
          "2017",
          "2017",
          "2017",
          "2017",
          "2017",
          "2017",
          "2017",
          "2017",
          "2017",
          "2017",
          "2017",
          "2017",
          "2017",
          "2017",
          "2017",
          "2017",
          "2017",
          "2017",
          "2017",
          "2017",
          "2017",
          "2017",
          "2017",
          "2017",
          "2017",
          "2017",
          "2017",
          "2017",
          "2017",
          "2017",
          "2017",
          "2017",
          "2017",
          "2017",
          "2017",
          "2017",
          "2017",
          "2017",
          "2018",
          "2018",
          "2018",
          "2018",
          "2018",
          "2018",
          "2018",
          "2018",
          "2018",
          "2018",
          "2018",
          "2018",
          "2018",
          "2018",
          "2018",
          "2018",
          "2018",
          "2018",
          "2018",
          "2018",
          "2018",
          "2018",
          "2018",
          "2018",
          "2018",
          "2018",
          "2018",
          "2018",
          "2018",
          "2018",
          "2018",
          "2018",
          "2018",
          "2018",
          "2018",
          "2018",
          "2018",
          "2018",
          "2018",
          "2018",
          "2018",
          "2018",
          "2018",
          "2018",
          "2018",
          "2018",
          "2018",
          "2018",
          "2018",
          "2018",
          "2019",
          "2019",
          "2019",
          "2019",
          "2019",
          "2019",
          "2019",
          "2019",
          "2019",
          "2019",
          "2019",
          "2019",
          "2019",
          "2019",
          "2019",
          "2019",
          "2019",
          "2019",
          "2019",
          "2019",
          "2019",
          "2019",
          "2019",
          "2019",
          "2019",
          "2019",
          "2019",
          "2019",
          "2019",
          "2019",
          "2019",
          "2019",
          "2019",
          "2019",
          "2019",
          "2019",
          "2019",
          "2019",
          "2019",
          "2019",
          "2019",
          "2019",
          "2019",
          "2019",
          "2019",
          "2019",
          "2019",
          "2019",
          "2019",
          "2019",
          "2020/21",
          "2020/21",
          "2020/21",
          "2020/21",
          "2020/21",
          "2020/21",
          "2020/21",
          "2020/21",
          "2020/21",
          "2020/21",
          "2020/21",
          "2020/21",
          "2020/21",
          "2020/21",
          "2020/21",
          "2020/21",
          "2020/21",
          "2020/21",
          "2020/21",
          "2020/21",
          "2020/21",
          "2020/21",
          "2020/21",
          "2020/21",
          "2020/21",
          "2020/21",
          "2020/21",
          "2020/21",
          "2020/21",
          "2020/21",
          "2020/21",
          "2020/21",
          "2020/21",
          "2021",
          "2021",
          "2021",
          "2021",
          "2021",
          "2021",
          "2021",
          "2021",
          "2021",
          "2021",
          "2021",
          "2021",
          "2021",
          "2021",
          "2021",
          "2021",
          "2021",
          "2021",
          "2021",
          "2021",
          "2021",
          "2021",
          "2021",
          "2021",
          "2021",
          "2021",
          "2021",
          "2021",
          "2021",
          "2021",
          "2021",
          "2021",
          "2021",
          "2021",
          "2021",
          "2021",
          "2021",
          "2021",
          "2021",
          "2021",
          "2021",
          "2021",
          "2021",
          "2021",
          "2022",
          "2022",
          "2022",
          "2022",
          "2022",
          "2022",
          "2022",
          "2022",
          "2022",
          "2022",
          "2022",
          "2022",
          "2022",
          "2022",
          "2022",
          "2022",
          "2022",
          "2022",
          "2022",
          "2022",
          "2022",
          "2022",
          "2022",
          "2022",
          "2022",
          "2022",
          "2022",
          "2022",
          "2022",
          "2022",
          "2022",
          "2022",
          "2022",
          "2022",
          "2022",
          "2022",
          "2022",
          "2022",
          "2022",
          "2022",
          "2022",
          "2022",
          "2022",
          "2022",
          "2022",
          "2022",
          "2022",
          "2022",
          "2022",
          "2022",
          "2022",
          "2022",
          "2022",
          "2022",
          "2022",
          "2022",
          "2022",
          "2022",
          "2022",
          "2023",
          "2023",
          "2023",
          "2023",
          "2023",
          "2023",
          "2023",
          "2023",
          "2023",
          "2023",
          "2023",
          "2023",
          "2023",
          "2023",
          "2023",
          "2023",
          "2023",
          "2023",
          "2023",
          "2023",
          "2023",
          "2023",
          "2023",
          "2023",
          "2023",
          "2023",
          "2023",
          "2023",
          "2023",
          "2023",
          "2023",
          "2023",
          "2023",
          "2023",
          "2023",
          "2023",
          "2023",
          "2023",
          "2023",
          "2023",
          "2023",
          "2023",
          "2023",
          "2023",
          "2023",
          "2023",
          "2023",
          "2023",
          "2023",
          "2023",
          "2023",
          "2023",
          "2023",
          "2024",
          "2024",
          "2024",
          "2024",
          "2024",
          "2024",
          "2024",
          "2024",
          "2024",
          "2024",
          "2024",
          "2024",
          "2024",
          "2024",
          "2024",
          "2024",
          "2024",
          "2024",
          "2024",
          "2024",
          "2024",
          "2024",
          "2024",
          "2024",
          "2024",
          "2024",
          "2024",
          "2024",
          "2024",
          "2024",
          "2024",
          "2024",
          "2024",
          "2024",
          "2024",
          "2024",
          "2024",
          "2024",
          "2024",
          "2024",
          "2024",
          "2024",
          "2024",
          "2024",
          "2024",
          "2024",
          "2024",
          "2024",
          "2024",
          "2024",
          "2024",
          "2024"
         ],
         "xaxis": "x",
         "y": [
          223,
          209,
          215,
          183,
          136,
          155,
          192,
          165,
          157,
          163,
          127,
          145,
          104,
          188,
          141,
          182,
          157,
          157,
          195,
          68,
          198,
          179,
          155,
          148,
          190,
          176,
          177,
          146,
          123,
          222,
          193,
          164,
          166,
          54,
          69,
          151,
          166,
          149,
          165,
          164,
          212,
          106,
          169,
          124,
          174,
          174,
          121,
          161,
          135,
          102,
          166,
          154,
          147,
          144,
          162,
          143,
          136,
          142,
          219,
          93,
          171,
          137,
          172,
          184,
          181,
          184,
          173,
          164,
          185,
          161,
          175,
          152,
          175,
          192,
          193,
          138,
          141,
          189,
          176,
          160,
          183,
          166,
          188,
          82,
          135,
          133,
          196,
          165,
          172,
          232,
          173,
          110,
          143,
          161,
          130,
          149,
          95,
          182,
          120,
          144,
          160,
          141,
          170,
          161,
          157,
          176,
          206,
          179,
          197,
          164,
          147,
          179,
          102,
          171,
          98,
          137,
          119,
          199,
          129,
          176,
          176,
          148,
          186,
          113,
          98,
          130,
          192,
          158,
          194,
          165,
          166,
          111,
          198,
          116,
          135,
          93,
          165,
          164,
          193,
          127,
          190,
          208,
          101,
          159,
          174,
          182,
          171,
          142,
          127,
          174,
          115,
          172,
          159,
          141,
          121,
          216,
          142,
          133,
          188,
          223,
          129,
          157,
          127,
          145,
          139,
          155,
          166,
          125,
          158,
          153,
          120,
          118,
          186,
          264,
          121,
          201,
          165,
          172,
          191,
          224,
          146,
          184,
          151,
          116,
          142,
          175,
          171,
          167,
          172,
          184,
          107,
          146,
          134,
          116,
          192,
          194,
          141,
          151,
          71,
          133,
          125,
          173,
          153,
          156,
          171,
          179,
          188,
          232,
          135,
          199,
          43,
          158,
          150,
          187,
          206,
          142,
          202,
          165,
          155,
          157,
          196,
          186,
          174,
          180,
          155,
          161,
          116,
          190,
          164,
          174,
          227,
          200,
          169,
          151,
          163,
          178,
          185,
          178,
          167,
          128,
          156,
          210,
          147,
          192,
          118,
          182,
          191,
          131,
          96,
          151,
          135,
          null,
          166,
          119,
          188,
          112,
          193,
          190,
          168,
          227,
          202,
          107,
          172,
          188,
          140,
          203,
          99,
          162,
          228,
          188,
          112,
          144,
          192,
          143,
          139,
          171,
          136,
          186,
          165,
          144,
          161,
          190,
          61,
          173,
          175,
          196,
          187,
          195,
          155,
          160,
          186,
          150,
          165,
          163,
          127,
          192,
          182,
          178,
          159,
          176,
          152,
          147,
          249,
          207,
          184,
          58,
          203,
          125,
          159,
          173,
          172,
          139,
          159,
          163,
          163,
          208,
          185,
          184,
          164,
          136,
          179,
          206,
          159,
          171,
          143,
          172,
          173,
          177,
          162,
          160,
          214,
          199,
          188,
          143,
          177,
          189,
          132,
          161,
          183,
          135,
          161,
          208,
          158,
          68,
          210,
          162,
          186,
          156,
          209,
          139,
          149,
          213,
          159,
          190,
          168,
          196,
          231,
          155,
          174,
          74,
          163,
          48,
          108,
          166,
          167,
          177,
          126,
          203,
          71,
          148,
          156,
          195,
          139,
          218,
          198,
          201,
          214,
          161,
          205,
          125,
          175,
          183,
          144,
          119,
          206,
          133,
          220,
          170,
          176,
          212,
          168,
          151,
          178,
          175,
          128,
          182,
          153,
          147,
          211,
          246,
          182,
          180,
          169,
          89,
          143,
          187,
          219,
          163,
          154,
          140,
          170,
          175,
          179,
          71,
          182,
          214,
          185,
          219,
          188,
          177,
          186,
          232,
          176,
          167,
          159,
          171,
          130,
          206,
          137,
          150,
          140,
          151,
          109,
          198,
          152,
          179,
          188,
          174,
          162,
          156,
          172,
          183,
          214,
          162,
          164,
          160,
          162,
          192,
          176,
          203,
          176,
          156,
          161,
          233,
          213,
          63,
          180,
          184,
          176,
          171,
          134,
          163,
          148,
          163,
          158,
          164,
          217,
          196,
          207,
          176,
          224,
          202,
          163,
          175,
          192,
          229,
          197,
          185,
          164,
          155,
          115,
          195,
          127,
          150,
          220,
          165,
          173,
          186,
          121,
          111,
          154,
          192,
          153,
          150,
          201,
          132,
          160,
          189,
          188,
          222,
          153,
          150,
          148,
          107,
          196,
          189,
          221,
          178,
          132,
          134,
          124,
          172,
          172,
          155,
          180,
          219,
          221,
          167,
          186,
          156,
          157,
          155,
          126,
          166,
          128,
          136,
          150,
          135,
          166,
          190,
          130,
          137,
          91,
          142,
          135,
          172,
          165,
          173,
          136,
          193,
          132,
          178,
          206,
          159,
          211,
          129,
          211,
          138,
          194,
          172,
          181,
          170,
          170,
          162,
          150,
          190,
          155,
          152,
          216,
          166,
          163,
          217,
          199,
          193,
          176,
          200,
          190,
          152,
          170,
          218,
          182,
          116,
          156,
          223,
          69,
          169,
          188,
          145,
          196,
          147,
          154,
          159,
          203,
          153,
          174,
          208,
          178,
          177,
          209,
          166,
          161,
          98,
          210,
          160,
          194,
          160,
          189,
          208,
          158,
          179,
          154,
          194,
          204,
          172,
          218,
          163,
          198,
          205,
          200,
          158,
          144,
          213,
          173,
          176,
          154,
          229,
          175,
          160,
          186,
          178,
          227,
          193,
          155,
          175,
          128,
          135,
          215,
          190,
          236,
          208,
          201,
          258,
          180,
          null,
          215,
          140,
          228,
          200,
          150,
          219,
          168,
          189,
          178,
          214,
          187,
          188,
          177,
          201,
          198,
          173,
          234,
          171,
          175,
          209,
          169,
          177,
          207,
          278,
          186,
          183,
          126,
          182,
          200,
          166,
          184,
          235,
          138,
          183,
          197,
          197,
          148,
          162,
          207,
          288,
          224,
          90,
          193,
          177,
          267,
          223,
          211,
          225,
          262,
          258,
          197,
          201,
          213,
          145,
          163,
          170,
          148,
          168,
          236,
          174,
          222,
          242,
          232,
          158,
          188,
          209,
          215,
          219,
          173,
          176
         ],
         "yaxis": "y"
        },
        {
         "alignmentgroup": "True",
         "bingroup": "x",
         "histfunc": "sum",
         "hovertemplate": "toss_decision=bat<br>season=%{x}<br>sum of target_runs=%{y}<extra></extra>",
         "legendgroup": "bat",
         "marker": {
          "color": "#EF553B",
          "pattern": {
           "shape": ""
          }
         },
         "name": "bat",
         "offsetgroup": "bat",
         "orientation": "v",
         "showlegend": true,
         "type": "histogram",
         "x": [
          "2007/08",
          "2007/08",
          "2007/08",
          "2007/08",
          "2007/08",
          "2007/08",
          "2007/08",
          "2007/08",
          "2007/08",
          "2007/08",
          "2007/08",
          "2007/08",
          "2007/08",
          "2007/08",
          "2007/08",
          "2007/08",
          "2007/08",
          "2007/08",
          "2007/08",
          "2007/08",
          "2007/08",
          "2007/08",
          "2007/08",
          "2007/08",
          "2007/08",
          "2007/08",
          "2009",
          "2009",
          "2009",
          "2009",
          "2009",
          "2009",
          "2009",
          "2009",
          "2009",
          "2009",
          "2009",
          "2009",
          "2009",
          "2009",
          "2009",
          "2009",
          "2009",
          "2009",
          "2009",
          "2009",
          "2009",
          "2009",
          "2009",
          "2009",
          "2009",
          "2009",
          "2009",
          "2009",
          "2009",
          "2009",
          "2009",
          "2009",
          "2009",
          "2009",
          "2009",
          "2009/10",
          "2009/10",
          "2009/10",
          "2009/10",
          "2009/10",
          "2009/10",
          "2009/10",
          "2009/10",
          "2009/10",
          "2009/10",
          "2009/10",
          "2009/10",
          "2009/10",
          "2009/10",
          "2009/10",
          "2009/10",
          "2009/10",
          "2009/10",
          "2009/10",
          "2009/10",
          "2009/10",
          "2009/10",
          "2009/10",
          "2009/10",
          "2009/10",
          "2009/10",
          "2009/10",
          "2009/10",
          "2009/10",
          "2009/10",
          "2009/10",
          "2009/10",
          "2009/10",
          "2009/10",
          "2009/10",
          "2009/10",
          "2009/10",
          "2009/10",
          "2009/10",
          "2011",
          "2011",
          "2011",
          "2011",
          "2011",
          "2011",
          "2011",
          "2011",
          "2011",
          "2011",
          "2011",
          "2011",
          "2011",
          "2011",
          "2011",
          "2011",
          "2011",
          "2011",
          "2011",
          "2011",
          "2011",
          "2011",
          "2011",
          "2011",
          "2011",
          "2012",
          "2012",
          "2012",
          "2012",
          "2012",
          "2012",
          "2012",
          "2012",
          "2012",
          "2012",
          "2012",
          "2012",
          "2012",
          "2012",
          "2012",
          "2012",
          "2012",
          "2012",
          "2012",
          "2012",
          "2012",
          "2012",
          "2012",
          "2012",
          "2012",
          "2012",
          "2012",
          "2012",
          "2012",
          "2012",
          "2012",
          "2012",
          "2012",
          "2012",
          "2012",
          "2012",
          "2012",
          "2013",
          "2013",
          "2013",
          "2013",
          "2013",
          "2013",
          "2013",
          "2013",
          "2013",
          "2013",
          "2013",
          "2013",
          "2013",
          "2013",
          "2013",
          "2013",
          "2013",
          "2013",
          "2013",
          "2013",
          "2013",
          "2013",
          "2013",
          "2013",
          "2013",
          "2013",
          "2013",
          "2013",
          "2013",
          "2013",
          "2013",
          "2013",
          "2013",
          "2013",
          "2013",
          "2013",
          "2013",
          "2013",
          "2013",
          "2013",
          "2013",
          "2013",
          "2013",
          "2013",
          "2013",
          "2014",
          "2014",
          "2014",
          "2014",
          "2014",
          "2014",
          "2014",
          "2014",
          "2014",
          "2014",
          "2014",
          "2014",
          "2014",
          "2014",
          "2014",
          "2014",
          "2014",
          "2014",
          "2014",
          "2015",
          "2015",
          "2015",
          "2015",
          "2015",
          "2015",
          "2015",
          "2015",
          "2015",
          "2015",
          "2015",
          "2015",
          "2015",
          "2015",
          "2015",
          "2015",
          "2015",
          "2015",
          "2015",
          "2015",
          "2015",
          "2015",
          "2015",
          "2015",
          "2015",
          "2016",
          "2016",
          "2016",
          "2016",
          "2016",
          "2016",
          "2016",
          "2016",
          "2016",
          "2016",
          "2016",
          "2017",
          "2017",
          "2017",
          "2017",
          "2017",
          "2017",
          "2017",
          "2017",
          "2017",
          "2017",
          "2017",
          "2018",
          "2018",
          "2018",
          "2018",
          "2018",
          "2018",
          "2018",
          "2018",
          "2018",
          "2018",
          "2019",
          "2019",
          "2019",
          "2019",
          "2019",
          "2019",
          "2019",
          "2019",
          "2019",
          "2019",
          "2020/21",
          "2020/21",
          "2020/21",
          "2020/21",
          "2020/21",
          "2020/21",
          "2020/21",
          "2020/21",
          "2020/21",
          "2020/21",
          "2020/21",
          "2020/21",
          "2020/21",
          "2020/21",
          "2020/21",
          "2020/21",
          "2020/21",
          "2020/21",
          "2020/21",
          "2020/21",
          "2020/21",
          "2020/21",
          "2020/21",
          "2020/21",
          "2020/21",
          "2020/21",
          "2020/21",
          "2021",
          "2021",
          "2021",
          "2021",
          "2021",
          "2021",
          "2021",
          "2021",
          "2021",
          "2021",
          "2021",
          "2021",
          "2021",
          "2021",
          "2021",
          "2021",
          "2022",
          "2022",
          "2022",
          "2022",
          "2022",
          "2022",
          "2022",
          "2022",
          "2022",
          "2022",
          "2022",
          "2022",
          "2022",
          "2022",
          "2022",
          "2023",
          "2023",
          "2023",
          "2023",
          "2023",
          "2023",
          "2023",
          "2023",
          "2023",
          "2023",
          "2023",
          "2023",
          "2023",
          "2023",
          "2023",
          "2023",
          "2023",
          "2023",
          "2023",
          "2023",
          "2023",
          "2024",
          "2024",
          "2024",
          "2024",
          "2024",
          "2024",
          "2024",
          "2024",
          "2024",
          "2024",
          "2024",
          "2024",
          "2024",
          "2024",
          "2024",
          "2024",
          "2024",
          "2024",
          "2024"
         ],
         "xaxis": "x",
         "y": [
          241,
          130,
          166,
          111,
          167,
          143,
          148,
          159,
          179,
          138,
          197,
          170,
          179,
          110,
          130,
          205,
          144,
          134,
          89,
          53,
          127,
          212,
          166,
          175,
          148,
          113,
          134,
          102,
          180,
          185,
          190,
          169,
          169,
          150,
          140,
          188,
          144,
          140,
          120,
          149,
          146,
          142,
          154,
          150,
          179,
          155,
          146,
          187,
          117,
          141,
          158,
          167,
          120,
          130,
          146,
          148,
          151,
          189,
          135,
          117,
          171,
          213,
          191,
          204,
          165,
          186,
          169,
          152,
          172,
          156,
          149,
          184,
          178,
          178,
          162,
          189,
          182,
          182,
          247,
          179,
          201,
          185,
          160,
          166,
          154,
          182,
          155,
          139,
          112,
          184,
          140,
          131,
          113,
          133,
          146,
          134,
          185,
          143,
          83,
          169,
          154,
          162,
          96,
          113,
          164,
          152,
          149,
          184,
          169,
          119,
          142,
          158,
          166,
          148,
          52,
          126,
          120,
          137,
          177,
          136,
          233,
          153,
          134,
          null,
          206,
          167,
          139,
          206,
          132,
          156,
          196,
          197,
          183,
          125,
          158,
          147,
          164,
          147,
          169,
          178,
          157,
          191,
          153,
          140,
          187,
          142,
          121,
          161,
          151,
          178,
          154,
          126,
          188,
          183,
          171,
          191,
          137,
          127,
          137,
          163,
          163,
          191,
          166,
          149,
          100,
          131,
          210,
          162,
          146,
          115,
          184,
          181,
          160,
          180,
          170,
          124,
          120,
          162,
          186,
          160,
          160,
          150,
          145,
          195,
          175,
          165,
          130,
          137,
          187,
          188,
          133,
          81,
          140,
          179,
          155,
          171,
          153,
          113,
          179,
          169,
          137,
          173,
          131,
          193,
          133,
          166,
          149,
          164,
          206,
          167,
          178,
          185,
          142,
          126,
          146,
          153,
          149,
          169,
          161,
          191,
          158,
          149,
          139,
          143,
          179,
          161,
          210,
          165,
          166,
          184,
          168,
          157,
          158,
          193,
          173,
          149,
          153,
          172,
          159,
          184,
          164,
          236,
          158,
          186,
          120,
          81,
          131,
          200,
          114,
          188,
          181,
          122,
          164,
          143,
          153,
          181,
          138,
          125,
          66,
          180,
          173,
          209,
          158,
          149,
          189,
          169,
          192,
          154,
          163,
          139,
          169,
          162,
          130,
          194,
          168,
          152,
          164,
          159,
          188,
          177,
          165,
          173,
          175,
          148,
          199,
          161,
          133,
          169,
          188,
          163,
          116,
          132,
          150,
          143,
          165,
          155,
          179,
          209,
          194,
          168,
          202,
          165,
          170,
          159,
          163,
          195,
          168,
          162,
          172,
          149,
          180,
          178,
          177,
          126,
          165,
          85,
          196,
          146,
          190,
          157,
          151,
          205,
          138,
          121,
          192,
          160,
          172,
          157,
          93,
          135,
          172,
          165,
          165,
          116,
          236,
          139,
          157,
          171,
          196,
          144,
          190,
          193,
          145,
          178,
          134,
          179,
          211,
          169,
          151,
          158,
          131,
          122,
          205,
          136,
          145,
          203,
          198,
          201,
          213,
          127,
          131,
          172,
          119,
          182,
          215,
          180,
          168,
          183,
          172,
          145,
          224,
          183,
          174,
          194,
          200,
          163,
          192,
          273,
          164,
          168,
          143,
          180,
          207,
          154,
          202,
          166,
          142,
          145,
          215,
          160,
          114
         ],
         "yaxis": "y"
        }
       ],
       "layout": {
        "barmode": "relative",
        "legend": {
         "title": {
          "text": "toss_decision"
         },
         "tracegroupgap": 0
        },
        "margin": {
         "t": 60
        },
        "template": {
         "data": {
          "bar": [
           {
            "error_x": {
             "color": "#2a3f5f"
            },
            "error_y": {
             "color": "#2a3f5f"
            },
            "marker": {
             "line": {
              "color": "#E5ECF6",
              "width": 0.5
             },
             "pattern": {
              "fillmode": "overlay",
              "size": 10,
              "solidity": 0.2
             }
            },
            "type": "bar"
           }
          ],
          "barpolar": [
           {
            "marker": {
             "line": {
              "color": "#E5ECF6",
              "width": 0.5
             },
             "pattern": {
              "fillmode": "overlay",
              "size": 10,
              "solidity": 0.2
             }
            },
            "type": "barpolar"
           }
          ],
          "carpet": [
           {
            "aaxis": {
             "endlinecolor": "#2a3f5f",
             "gridcolor": "white",
             "linecolor": "white",
             "minorgridcolor": "white",
             "startlinecolor": "#2a3f5f"
            },
            "baxis": {
             "endlinecolor": "#2a3f5f",
             "gridcolor": "white",
             "linecolor": "white",
             "minorgridcolor": "white",
             "startlinecolor": "#2a3f5f"
            },
            "type": "carpet"
           }
          ],
          "choropleth": [
           {
            "colorbar": {
             "outlinewidth": 0,
             "ticks": ""
            },
            "type": "choropleth"
           }
          ],
          "contour": [
           {
            "colorbar": {
             "outlinewidth": 0,
             "ticks": ""
            },
            "colorscale": [
             [
              0,
              "#0d0887"
             ],
             [
              0.1111111111111111,
              "#46039f"
             ],
             [
              0.2222222222222222,
              "#7201a8"
             ],
             [
              0.3333333333333333,
              "#9c179e"
             ],
             [
              0.4444444444444444,
              "#bd3786"
             ],
             [
              0.5555555555555556,
              "#d8576b"
             ],
             [
              0.6666666666666666,
              "#ed7953"
             ],
             [
              0.7777777777777778,
              "#fb9f3a"
             ],
             [
              0.8888888888888888,
              "#fdca26"
             ],
             [
              1,
              "#f0f921"
             ]
            ],
            "type": "contour"
           }
          ],
          "contourcarpet": [
           {
            "colorbar": {
             "outlinewidth": 0,
             "ticks": ""
            },
            "type": "contourcarpet"
           }
          ],
          "heatmap": [
           {
            "colorbar": {
             "outlinewidth": 0,
             "ticks": ""
            },
            "colorscale": [
             [
              0,
              "#0d0887"
             ],
             [
              0.1111111111111111,
              "#46039f"
             ],
             [
              0.2222222222222222,
              "#7201a8"
             ],
             [
              0.3333333333333333,
              "#9c179e"
             ],
             [
              0.4444444444444444,
              "#bd3786"
             ],
             [
              0.5555555555555556,
              "#d8576b"
             ],
             [
              0.6666666666666666,
              "#ed7953"
             ],
             [
              0.7777777777777778,
              "#fb9f3a"
             ],
             [
              0.8888888888888888,
              "#fdca26"
             ],
             [
              1,
              "#f0f921"
             ]
            ],
            "type": "heatmap"
           }
          ],
          "heatmapgl": [
           {
            "colorbar": {
             "outlinewidth": 0,
             "ticks": ""
            },
            "colorscale": [
             [
              0,
              "#0d0887"
             ],
             [
              0.1111111111111111,
              "#46039f"
             ],
             [
              0.2222222222222222,
              "#7201a8"
             ],
             [
              0.3333333333333333,
              "#9c179e"
             ],
             [
              0.4444444444444444,
              "#bd3786"
             ],
             [
              0.5555555555555556,
              "#d8576b"
             ],
             [
              0.6666666666666666,
              "#ed7953"
             ],
             [
              0.7777777777777778,
              "#fb9f3a"
             ],
             [
              0.8888888888888888,
              "#fdca26"
             ],
             [
              1,
              "#f0f921"
             ]
            ],
            "type": "heatmapgl"
           }
          ],
          "histogram": [
           {
            "marker": {
             "pattern": {
              "fillmode": "overlay",
              "size": 10,
              "solidity": 0.2
             }
            },
            "type": "histogram"
           }
          ],
          "histogram2d": [
           {
            "colorbar": {
             "outlinewidth": 0,
             "ticks": ""
            },
            "colorscale": [
             [
              0,
              "#0d0887"
             ],
             [
              0.1111111111111111,
              "#46039f"
             ],
             [
              0.2222222222222222,
              "#7201a8"
             ],
             [
              0.3333333333333333,
              "#9c179e"
             ],
             [
              0.4444444444444444,
              "#bd3786"
             ],
             [
              0.5555555555555556,
              "#d8576b"
             ],
             [
              0.6666666666666666,
              "#ed7953"
             ],
             [
              0.7777777777777778,
              "#fb9f3a"
             ],
             [
              0.8888888888888888,
              "#fdca26"
             ],
             [
              1,
              "#f0f921"
             ]
            ],
            "type": "histogram2d"
           }
          ],
          "histogram2dcontour": [
           {
            "colorbar": {
             "outlinewidth": 0,
             "ticks": ""
            },
            "colorscale": [
             [
              0,
              "#0d0887"
             ],
             [
              0.1111111111111111,
              "#46039f"
             ],
             [
              0.2222222222222222,
              "#7201a8"
             ],
             [
              0.3333333333333333,
              "#9c179e"
             ],
             [
              0.4444444444444444,
              "#bd3786"
             ],
             [
              0.5555555555555556,
              "#d8576b"
             ],
             [
              0.6666666666666666,
              "#ed7953"
             ],
             [
              0.7777777777777778,
              "#fb9f3a"
             ],
             [
              0.8888888888888888,
              "#fdca26"
             ],
             [
              1,
              "#f0f921"
             ]
            ],
            "type": "histogram2dcontour"
           }
          ],
          "mesh3d": [
           {
            "colorbar": {
             "outlinewidth": 0,
             "ticks": ""
            },
            "type": "mesh3d"
           }
          ],
          "parcoords": [
           {
            "line": {
             "colorbar": {
              "outlinewidth": 0,
              "ticks": ""
             }
            },
            "type": "parcoords"
           }
          ],
          "pie": [
           {
            "automargin": true,
            "type": "pie"
           }
          ],
          "scatter": [
           {
            "fillpattern": {
             "fillmode": "overlay",
             "size": 10,
             "solidity": 0.2
            },
            "type": "scatter"
           }
          ],
          "scatter3d": [
           {
            "line": {
             "colorbar": {
              "outlinewidth": 0,
              "ticks": ""
             }
            },
            "marker": {
             "colorbar": {
              "outlinewidth": 0,
              "ticks": ""
             }
            },
            "type": "scatter3d"
           }
          ],
          "scattercarpet": [
           {
            "marker": {
             "colorbar": {
              "outlinewidth": 0,
              "ticks": ""
             }
            },
            "type": "scattercarpet"
           }
          ],
          "scattergeo": [
           {
            "marker": {
             "colorbar": {
              "outlinewidth": 0,
              "ticks": ""
             }
            },
            "type": "scattergeo"
           }
          ],
          "scattergl": [
           {
            "marker": {
             "colorbar": {
              "outlinewidth": 0,
              "ticks": ""
             }
            },
            "type": "scattergl"
           }
          ],
          "scattermapbox": [
           {
            "marker": {
             "colorbar": {
              "outlinewidth": 0,
              "ticks": ""
             }
            },
            "type": "scattermapbox"
           }
          ],
          "scatterpolar": [
           {
            "marker": {
             "colorbar": {
              "outlinewidth": 0,
              "ticks": ""
             }
            },
            "type": "scatterpolar"
           }
          ],
          "scatterpolargl": [
           {
            "marker": {
             "colorbar": {
              "outlinewidth": 0,
              "ticks": ""
             }
            },
            "type": "scatterpolargl"
           }
          ],
          "scatterternary": [
           {
            "marker": {
             "colorbar": {
              "outlinewidth": 0,
              "ticks": ""
             }
            },
            "type": "scatterternary"
           }
          ],
          "surface": [
           {
            "colorbar": {
             "outlinewidth": 0,
             "ticks": ""
            },
            "colorscale": [
             [
              0,
              "#0d0887"
             ],
             [
              0.1111111111111111,
              "#46039f"
             ],
             [
              0.2222222222222222,
              "#7201a8"
             ],
             [
              0.3333333333333333,
              "#9c179e"
             ],
             [
              0.4444444444444444,
              "#bd3786"
             ],
             [
              0.5555555555555556,
              "#d8576b"
             ],
             [
              0.6666666666666666,
              "#ed7953"
             ],
             [
              0.7777777777777778,
              "#fb9f3a"
             ],
             [
              0.8888888888888888,
              "#fdca26"
             ],
             [
              1,
              "#f0f921"
             ]
            ],
            "type": "surface"
           }
          ],
          "table": [
           {
            "cells": {
             "fill": {
              "color": "#EBF0F8"
             },
             "line": {
              "color": "white"
             }
            },
            "header": {
             "fill": {
              "color": "#C8D4E3"
             },
             "line": {
              "color": "white"
             }
            },
            "type": "table"
           }
          ]
         },
         "layout": {
          "annotationdefaults": {
           "arrowcolor": "#2a3f5f",
           "arrowhead": 0,
           "arrowwidth": 1
          },
          "autotypenumbers": "strict",
          "coloraxis": {
           "colorbar": {
            "outlinewidth": 0,
            "ticks": ""
           }
          },
          "colorscale": {
           "diverging": [
            [
             0,
             "#8e0152"
            ],
            [
             0.1,
             "#c51b7d"
            ],
            [
             0.2,
             "#de77ae"
            ],
            [
             0.3,
             "#f1b6da"
            ],
            [
             0.4,
             "#fde0ef"
            ],
            [
             0.5,
             "#f7f7f7"
            ],
            [
             0.6,
             "#e6f5d0"
            ],
            [
             0.7,
             "#b8e186"
            ],
            [
             0.8,
             "#7fbc41"
            ],
            [
             0.9,
             "#4d9221"
            ],
            [
             1,
             "#276419"
            ]
           ],
           "sequential": [
            [
             0,
             "#0d0887"
            ],
            [
             0.1111111111111111,
             "#46039f"
            ],
            [
             0.2222222222222222,
             "#7201a8"
            ],
            [
             0.3333333333333333,
             "#9c179e"
            ],
            [
             0.4444444444444444,
             "#bd3786"
            ],
            [
             0.5555555555555556,
             "#d8576b"
            ],
            [
             0.6666666666666666,
             "#ed7953"
            ],
            [
             0.7777777777777778,
             "#fb9f3a"
            ],
            [
             0.8888888888888888,
             "#fdca26"
            ],
            [
             1,
             "#f0f921"
            ]
           ],
           "sequentialminus": [
            [
             0,
             "#0d0887"
            ],
            [
             0.1111111111111111,
             "#46039f"
            ],
            [
             0.2222222222222222,
             "#7201a8"
            ],
            [
             0.3333333333333333,
             "#9c179e"
            ],
            [
             0.4444444444444444,
             "#bd3786"
            ],
            [
             0.5555555555555556,
             "#d8576b"
            ],
            [
             0.6666666666666666,
             "#ed7953"
            ],
            [
             0.7777777777777778,
             "#fb9f3a"
            ],
            [
             0.8888888888888888,
             "#fdca26"
            ],
            [
             1,
             "#f0f921"
            ]
           ]
          },
          "colorway": [
           "#636efa",
           "#EF553B",
           "#00cc96",
           "#ab63fa",
           "#FFA15A",
           "#19d3f3",
           "#FF6692",
           "#B6E880",
           "#FF97FF",
           "#FECB52"
          ],
          "font": {
           "color": "#2a3f5f"
          },
          "geo": {
           "bgcolor": "white",
           "lakecolor": "white",
           "landcolor": "#E5ECF6",
           "showlakes": true,
           "showland": true,
           "subunitcolor": "white"
          },
          "hoverlabel": {
           "align": "left"
          },
          "hovermode": "closest",
          "mapbox": {
           "style": "light"
          },
          "paper_bgcolor": "white",
          "plot_bgcolor": "#E5ECF6",
          "polar": {
           "angularaxis": {
            "gridcolor": "white",
            "linecolor": "white",
            "ticks": ""
           },
           "bgcolor": "#E5ECF6",
           "radialaxis": {
            "gridcolor": "white",
            "linecolor": "white",
            "ticks": ""
           }
          },
          "scene": {
           "xaxis": {
            "backgroundcolor": "#E5ECF6",
            "gridcolor": "white",
            "gridwidth": 2,
            "linecolor": "white",
            "showbackground": true,
            "ticks": "",
            "zerolinecolor": "white"
           },
           "yaxis": {
            "backgroundcolor": "#E5ECF6",
            "gridcolor": "white",
            "gridwidth": 2,
            "linecolor": "white",
            "showbackground": true,
            "ticks": "",
            "zerolinecolor": "white"
           },
           "zaxis": {
            "backgroundcolor": "#E5ECF6",
            "gridcolor": "white",
            "gridwidth": 2,
            "linecolor": "white",
            "showbackground": true,
            "ticks": "",
            "zerolinecolor": "white"
           }
          },
          "shapedefaults": {
           "line": {
            "color": "#2a3f5f"
           }
          },
          "ternary": {
           "aaxis": {
            "gridcolor": "white",
            "linecolor": "white",
            "ticks": ""
           },
           "baxis": {
            "gridcolor": "white",
            "linecolor": "white",
            "ticks": ""
           },
           "bgcolor": "#E5ECF6",
           "caxis": {
            "gridcolor": "white",
            "linecolor": "white",
            "ticks": ""
           }
          },
          "title": {
           "x": 0.05
          },
          "xaxis": {
           "automargin": true,
           "gridcolor": "white",
           "linecolor": "white",
           "ticks": "",
           "title": {
            "standoff": 15
           },
           "zerolinecolor": "white",
           "zerolinewidth": 2
          },
          "yaxis": {
           "automargin": true,
           "gridcolor": "white",
           "linecolor": "white",
           "ticks": "",
           "title": {
            "standoff": 15
           },
           "zerolinecolor": "white",
           "zerolinewidth": 2
          }
         }
        },
        "xaxis": {
         "anchor": "y",
         "domain": [
          0,
          1
         ],
         "title": {
          "text": "season"
         }
        },
        "yaxis": {
         "anchor": "x",
         "domain": [
          0,
          1
         ],
         "title": {
          "text": "sum of target_runs"
         }
        }
       }
      }
     },
     "metadata": {},
     "output_type": "display_data"
    }
   ],
   "source": [
    "fig = px.histogram(data_frame=ds, x='season', y='target_runs', color='toss_decision')\n",
    "fig.show()"
   ]
  },
  {
   "cell_type": "code",
   "execution_count": 6,
   "metadata": {},
   "outputs": [],
   "source": [
    "ds2024 = ds.tail(70)"
   ]
  },
  {
   "cell_type": "code",
   "execution_count": 7,
   "metadata": {},
   "outputs": [
    {
     "data": {
      "image/png": "[encoded data removed]",
      "text/plain": [
       "<Figure size 2000x700 with 1 Axes>"
      ]
     },
     "metadata": {},
     "output_type": "display_data"
    }
   ],
   "source": [
    "pom_count = ds2024['player_of_match'].value_counts()\n",
    "mult_pom = pom_count[pom_count > 1].index\n",
    "\n",
    "# Filter the original DataFrame\n",
    "filter_pom_ds2024 = ds2024[ds2024['player_of_match'].isin(mult_pom)]\n",
    "\n",
    "# Plotting\n",
    "plt.figure(figsize=(20,7))\n",
    "sns.countplot(data=filter_pom_ds2024, x='player_of_match',hue ='winner', palette='mako')\n",
    "plt.show()"
   ]
  },
  {
   "cell_type": "code",
   "execution_count": 8,
   "metadata": {},
   "outputs": [
    {
     "data": {
      "image/png": "[encoded data removed]",
      "text/plain": [
       "<Figure size 2000x700 with 1 Axes>"
      ]
     },
     "metadata": {},
     "output_type": "display_data"
    }
   ],
   "source": [
    "super_over_count = ds['super_over'].value_counts()\n",
    "mult_s_o = super_over_count[super_over_count > 1].index\n",
    "\n",
    "# Filter the original DataFrame\n",
    "filter_s_o_ds = ds[ds['super_over'].isin(mult_s_o)]\n",
    "plt.figure(figsize=(20,7))\n",
    "sns.countplot(data=filter_s_o_ds,x='season',hue='super_over',palette='mako')\n",
    "plt.show()"
   ]
  },
  {
   "cell_type": "code",
   "execution_count": 9,
   "metadata": {},
   "outputs": [
    {
     "data": {
      "application/vnd.plotly.v1+json": {
       "config": {
        "plotlyServerURL": "https://plot.ly"
       },
       "data": [
        {
         "alignmentgroup": "True",
         "bingroup": "x",
         "hovertemplate": "super_over=N<br>season=%{x}<br>count=%{y}<extra></extra>",
         "legendgroup": "N",
         "marker": {
          "color": "#636efa",
          "pattern": {
           "shape": ""
          }
         },
         "name": "N",
         "offsetgroup": "N",
         "orientation": "v",
         "showlegend": true,
         "type": "histogram",
         "x": [
          "2007/08",
          "2007/08",
          "2007/08",
          "2007/08",
          "2007/08",
          "2007/08",
          "2007/08",
          "2007/08",
          "2007/08",
          "2007/08",
          "2007/08",
          "2007/08",
          "2007/08",
          "2007/08",
          "2007/08",
          "2007/08",
          "2007/08",
          "2007/08",
          "2007/08",
          "2007/08",
          "2007/08",
          "2007/08",
          "2007/08",
          "2007/08",
          "2007/08",
          "2007/08",
          "2007/08",
          "2007/08",
          "2007/08",
          "2007/08",
          "2007/08",
          "2007/08",
          "2007/08",
          "2007/08",
          "2007/08",
          "2007/08",
          "2007/08",
          "2007/08",
          "2007/08",
          "2007/08",
          "2007/08",
          "2007/08",
          "2007/08",
          "2007/08",
          "2007/08",
          "2007/08",
          "2007/08",
          "2007/08",
          "2007/08",
          "2007/08",
          "2007/08",
          "2007/08",
          "2007/08",
          "2007/08",
          "2007/08",
          "2007/08",
          "2007/08",
          "2007/08",
          "2009",
          "2009",
          "2009",
          "2009",
          "2009",
          "2009",
          "2009",
          "2009",
          "2009",
          "2009",
          "2009",
          "2009",
          "2009",
          "2009",
          "2009",
          "2009",
          "2009",
          "2009",
          "2009",
          "2009",
          "2009",
          "2009",
          "2009",
          "2009",
          "2009",
          "2009",
          "2009",
          "2009",
          "2009",
          "2009",
          "2009",
          "2009",
          "2009",
          "2009",
          "2009",
          "2009",
          "2009",
          "2009",
          "2009",
          "2009",
          "2009",
          "2009",
          "2009",
          "2009",
          "2009",
          "2009",
          "2009",
          "2009",
          "2009",
          "2009",
          "2009",
          "2009",
          "2009",
          "2009",
          "2009",
          "2009",
          "2009/10",
          "2009/10",
          "2009/10",
          "2009/10",
          "2009/10",
          "2009/10",
          "2009/10",
          "2009/10",
          "2009/10",
          "2009/10",
          "2009/10",
          "2009/10",
          "2009/10",
          "2009/10",
          "2009/10",
          "2009/10",
          "2009/10",
          "2009/10",
          "2009/10",
          "2009/10",
          "2009/10",
          "2009/10",
          "2009/10",
          "2009/10",
          "2009/10",
          "2009/10",
          "2009/10",
          "2009/10",
          "2009/10",
          "2009/10",
          "2009/10",
          "2009/10",
          "2009/10",
          "2009/10",
          "2009/10",
          "2009/10",
          "2009/10",
          "2009/10",
          "2009/10",
          "2009/10",
          "2009/10",
          "2009/10",
          "2009/10",
          "2009/10",
          "2009/10",
          "2009/10",
          "2009/10",
          "2009/10",
          "2009/10",
          "2009/10",
          "2009/10",
          "2009/10",
          "2009/10",
          "2009/10",
          "2009/10",
          "2009/10",
          "2009/10",
          "2009/10",
          "2009/10",
          "2011",
          "2011",
          "2011",
          "2011",
          "2011",
          "2011",
          "2011",
          "2011",
          "2011",
          "2011",
          "2011",
          "2011",
          "2011",
          "2011",
          "2011",
          "2011",
          "2011",
          "2011",
          "2011",
          "2011",
          "2011",
          "2011",
          "2011",
          "2011",
          "2011",
          "2011",
          "2011",
          "2011",
          "2011",
          "2011",
          "2011",
          "2011",
          "2011",
          "2011",
          "2011",
          "2011",
          "2011",
          "2011",
          "2011",
          "2011",
          "2011",
          "2011",
          "2011",
          "2011",
          "2011",
          "2011",
          "2011",
          "2011",
          "2011",
          "2011",
          "2011",
          "2011",
          "2011",
          "2011",
          "2011",
          "2011",
          "2011",
          "2011",
          "2011",
          "2011",
          "2011",
          "2011",
          "2011",
          "2011",
          "2011",
          "2011",
          "2011",
          "2011",
          "2011",
          "2011",
          "2011",
          "2011",
          "2011",
          "2012",
          "2012",
          "2012",
          "2012",
          "2012",
          "2012",
          "2012",
          "2012",
          "2012",
          "2012",
          "2012",
          "2012",
          "2012",
          "2012",
          "2012",
          "2012",
          "2012",
          "2012",
          "2012",
          "2012",
          "2012",
          "2012",
          "2012",
          "2012",
          "2012",
          "2012",
          "2012",
          "2012",
          "2012",
          "2012",
          "2012",
          "2012",
          "2012",
          "2012",
          "2012",
          "2012",
          "2012",
          "2012",
          "2012",
          "2012",
          "2012",
          "2012",
          "2012",
          "2012",
          "2012",
          "2012",
          "2012",
          "2012",
          "2012",
          "2012",
          "2012",
          "2012",
          "2012",
          "2012",
          "2012",
          "2012",
          "2012",
          "2012",
          "2012",
          "2012",
          "2012",
          "2012",
          "2012",
          "2012",
          "2012",
          "2012",
          "2012",
          "2012",
          "2012",
          "2012",
          "2012",
          "2012",
          "2012",
          "2012",
          "2013",
          "2013",
          "2013",
          "2013",
          "2013",
          "2013",
          "2013",
          "2013",
          "2013",
          "2013",
          "2013",
          "2013",
          "2013",
          "2013",
          "2013",
          "2013",
          "2013",
          "2013",
          "2013",
          "2013",
          "2013",
          "2013",
          "2013",
          "2013",
          "2013",
          "2013",
          "2013",
          "2013",
          "2013",
          "2013",
          "2013",
          "2013",
          "2013",
          "2013",
          "2013",
          "2013",
          "2013",
          "2013",
          "2013",
          "2013",
          "2013",
          "2013",
          "2013",
          "2013",
          "2013",
          "2013",
          "2013",
          "2013",
          "2013",
          "2013",
          "2013",
          "2013",
          "2013",
          "2013",
          "2013",
          "2013",
          "2013",
          "2013",
          "2013",
          "2013",
          "2013",
          "2013",
          "2013",
          "2013",
          "2013",
          "2013",
          "2013",
          "2013",
          "2013",
          "2013",
          "2013",
          "2013",
          "2013",
          "2013",
          "2014",
          "2014",
          "2014",
          "2014",
          "2014",
          "2014",
          "2014",
          "2014",
          "2014",
          "2014",
          "2014",
          "2014",
          "2014",
          "2014",
          "2014",
          "2014",
          "2014",
          "2014",
          "2014",
          "2014",
          "2014",
          "2014",
          "2014",
          "2014",
          "2014",
          "2014",
          "2014",
          "2014",
          "2014",
          "2014",
          "2014",
          "2014",
          "2014",
          "2014",
          "2014",
          "2014",
          "2014",
          "2014",
          "2014",
          "2014",
          "2014",
          "2014",
          "2014",
          "2014",
          "2014",
          "2014",
          "2014",
          "2014",
          "2014",
          "2014",
          "2014",
          "2014",
          "2014",
          "2014",
          "2014",
          "2014",
          "2014",
          "2014",
          "2014",
          "2015",
          "2015",
          "2015",
          "2015",
          "2015",
          "2015",
          "2015",
          "2015",
          "2015",
          "2015",
          "2015",
          "2015",
          "2015",
          "2015",
          "2015",
          "2015",
          "2015",
          "2015",
          "2015",
          "2015",
          "2015",
          "2015",
          "2015",
          "2015",
          "2015",
          "2015",
          "2015",
          "2015",
          "2015",
          "2015",
          "2015",
          "2015",
          "2015",
          "2015",
          "2015",
          "2015",
          "2015",
          "2015",
          "2015",
          "2015",
          "2015",
          "2015",
          "2015",
          "2015",
          "2015",
          "2015",
          "2015",
          "2015",
          "2015",
          "2015",
          "2015",
          "2015",
          "2015",
          "2015",
          "2015",
          "2015",
          "2015",
          "2015",
          "2016",
          "2016",
          "2016",
          "2016",
          "2016",
          "2016",
          "2016",
          "2016",
          "2016",
          "2016",
          "2016",
          "2016",
          "2016",
          "2016",
          "2016",
          "2016",
          "2016",
          "2016",
          "2016",
          "2016",
          "2016",
          "2016",
          "2016",
          "2016",
          "2016",
          "2016",
          "2016",
          "2016",
          "2016",
          "2016",
          "2016",
          "2016",
          "2016",
          "2016",
          "2016",
          "2016",
          "2016",
          "2016",
          "2016",
          "2016",
          "2016",
          "2016",
          "2016",
          "2016",
          "2016",
          "2016",
          "2016",
          "2016",
          "2016",
          "2016",
          "2016",
          "2016",
          "2016",
          "2016",
          "2016",
          "2016",
          "2016",
          "2016",
          "2016",
          "2016",
          "2017",
          "2017",
          "2017",
          "2017",
          "2017",
          "2017",
          "2017",
          "2017",
          "2017",
          "2017",
          "2017",
          "2017",
          "2017",
          "2017",
          "2017",
          "2017",
          "2017",
          "2017",
          "2017",
          "2017",
          "2017",
          "2017",
          "2017",
          "2017",
          "2017",
          "2017",
          "2017",
          "2017",
          "2017",
          "2017",
          "2017",
          "2017",
          "2017",
          "2017",
          "2017",
          "2017",
          "2017",
          "2017",
          "2017",
          "2017",
          "2017",
          "2017",
          "2017",
          "2017",
          "2017",
          "2017",
          "2017",
          "2017",
          "2017",
          "2017",
          "2017",
          "2017",
          "2017",
          "2017",
          "2017",
          "2017",
          "2017",
          "2017",
          "2018",
          "2018",
          "2018",
          "2018",
          "2018",
          "2018",
          "2018",
          "2018",
          "2018",
          "2018",
          "2018",
          "2018",
          "2018",
          "2018",
          "2018",
          "2018",
          "2018",
          "2018",
          "2018",
          "2018",
          "2018",
          "2018",
          "2018",
          "2018",
          "2018",
          "2018",
          "2018",
          "2018",
          "2018",
          "2018",
          "2018",
          "2018",
          "2018",
          "2018",
          "2018",
          "2018",
          "2018",
          "2018",
          "2018",
          "2018",
          "2018",
          "2018",
          "2018",
          "2018",
          "2018",
          "2018",
          "2018",
          "2018",
          "2018",
          "2018",
          "2018",
          "2018",
          "2018",
          "2018",
          "2018",
          "2018",
          "2018",
          "2018",
          "2018",
          "2018",
          "2019",
          "2019",
          "2019",
          "2019",
          "2019",
          "2019",
          "2019",
          "2019",
          "2019",
          "2019",
          "2019",
          "2019",
          "2019",
          "2019",
          "2019",
          "2019",
          "2019",
          "2019",
          "2019",
          "2019",
          "2019",
          "2019",
          "2019",
          "2019",
          "2019",
          "2019",
          "2019",
          "2019",
          "2019",
          "2019",
          "2019",
          "2019",
          "2019",
          "2019",
          "2019",
          "2019",
          "2019",
          "2019",
          "2019",
          "2019",
          "2019",
          "2019",
          "2019",
          "2019",
          "2019",
          "2019",
          "2019",
          "2019",
          "2019",
          "2019",
          "2019",
          "2019",
          "2019",
          "2019",
          "2019",
          "2019",
          "2019",
          "2019",
          "2020/21",
          "2020/21",
          "2020/21",
          "2020/21",
          "2020/21",
          "2020/21",
          "2020/21",
          "2020/21",
          "2020/21",
          "2020/21",
          "2020/21",
          "2020/21",
          "2020/21",
          "2020/21",
          "2020/21",
          "2020/21",
          "2020/21",
          "2020/21",
          "2020/21",
          "2020/21",
          "2020/21",
          "2020/21",
          "2020/21",
          "2020/21",
          "2020/21",
          "2020/21",
          "2020/21",
          "2020/21",
          "2020/21",
          "2020/21",
          "2020/21",
          "2020/21",
          "2020/21",
          "2020/21",
          "2020/21",
          "2020/21",
          "2020/21",
          "2020/21",
          "2020/21",
          "2020/21",
          "2020/21",
          "2020/21",
          "2020/21",
          "2020/21",
          "2020/21",
          "2020/21",
          "2020/21",
          "2020/21",
          "2020/21",
          "2020/21",
          "2020/21",
          "2020/21",
          "2020/21",
          "2020/21",
          "2020/21",
          "2020/21",
          "2021",
          "2021",
          "2021",
          "2021",
          "2021",
          "2021",
          "2021",
          "2021",
          "2021",
          "2021",
          "2021",
          "2021",
          "2021",
          "2021",
          "2021",
          "2021",
          "2021",
          "2021",
          "2021",
          "2021",
          "2021",
          "2021",
          "2021",
          "2021",
          "2021",
          "2021",
          "2021",
          "2021",
          "2021",
          "2021",
          "2021",
          "2021",
          "2021",
          "2021",
          "2021",
          "2021",
          "2021",
          "2021",
          "2021",
          "2021",
          "2021",
          "2021",
          "2021",
          "2021",
          "2021",
          "2021",
          "2021",
          "2021",
          "2021",
          "2021",
          "2021",
          "2021",
          "2021",
          "2021",
          "2021",
          "2021",
          "2021",
          "2021",
          "2021",
          "2022",
          "2022",
          "2022",
          "2022",
          "2022",
          "2022",
          "2022",
          "2022",
          "2022",
          "2022",
          "2022",
          "2022",
          "2022",
          "2022",
          "2022",
          "2022",
          "2022",
          "2022",
          "2022",
          "2022",
          "2022",
          "2022",
          "2022",
          "2022",
          "2022",
          "2022",
          "2022",
          "2022",
          "2022",
          "2022",
          "2022",
          "2022",
          "2022",
          "2022",
          "2022",
          "2022",
          "2022",
          "2022",
          "2022",
          "2022",
          "2022",
          "2022",
          "2022",
          "2022",
          "2022",
          "2022",
          "2022",
          "2022",
          "2022",
          "2022",
          "2022",
          "2022",
          "2022",
          "2022",
          "2022",
          "2022",
          "2022",
          "2022",
          "2022",
          "2022",
          "2022",
          "2022",
          "2022",
          "2022",
          "2022",
          "2022",
          "2022",
          "2022",
          "2022",
          "2022",
          "2022",
          "2022",
          "2022",
          "2022",
          "2023",
          "2023",
          "2023",
          "2023",
          "2023",
          "2023",
          "2023",
          "2023",
          "2023",
          "2023",
          "2023",
          "2023",
          "2023",
          "2023",
          "2023",
          "2023",
          "2023",
          "2023",
          "2023",
          "2023",
          "2023",
          "2023",
          "2023",
          "2023",
          "2023",
          "2023",
          "2023",
          "2023",
          "2023",
          "2023",
          "2023",
          "2023",
          "2023",
          "2023",
          "2023",
          "2023",
          "2023",
          "2023",
          "2023",
          "2023",
          "2023",
          "2023",
          "2023",
          "2023",
          "2023",
          "2023",
          "2023",
          "2023",
          "2023",
          "2023",
          "2023",
          "2023",
          "2023",
          "2023",
          "2023",
          "2023",
          "2023",
          "2023",
          "2023",
          "2023",
          "2023",
          "2023",
          "2023",
          "2023",
          "2023",
          "2023",
          "2023",
          "2023",
          "2023",
          "2023",
          "2023",
          "2023",
          "2023",
          "2023",
          "2024",
          "2024",
          "2024",
          "2024",
          "2024",
          "2024",
          "2024",
          "2024",
          "2024",
          "2024",
          "2024",
          "2024",
          "2024",
          "2024",
          "2024",
          "2024",
          "2024",
          "2024",
          "2024",
          "2024",
          "2024",
          "2024",
          "2024",
          "2024",
          "2024",
          "2024",
          "2024",
          "2024",
          "2024",
          "2024",
          "2024",
          "2024",
          "2024",
          "2024",
          "2024",
          "2024",
          "2024",
          "2024",
          "2024",
          "2024",
          "2024",
          "2024",
          "2024",
          "2024",
          "2024",
          "2024",
          "2024",
          "2024",
          "2024",
          "2024",
          "2024",
          "2024",
          "2024",
          "2024",
          "2024",
          "2024",
          "2024",
          "2024",
          "2024",
          "2024",
          "2024",
          "2024",
          "2024",
          "2024",
          "2024",
          "2024",
          "2024",
          "2024",
          "2024",
          "2024",
          "2024"
         ],
         "xaxis": "x",
         "yaxis": "y"
        },
        {
         "alignmentgroup": "True",
         "bingroup": "x",
         "hovertemplate": "super_over=Y<br>season=%{x}<br>count=%{y}<extra></extra>",
         "legendgroup": "Y",
         "marker": {
          "color": "#EF553B",
          "pattern": {
           "shape": ""
          }
         },
         "name": "Y",
         "offsetgroup": "Y",
         "orientation": "v",
         "showlegend": true,
         "type": "histogram",
         "x": [
          "2009",
          "2009/10",
          "2013",
          "2013",
          "2014",
          "2015",
          "2017",
          "2019",
          "2019",
          "2020/21",
          "2020/21",
          "2020/21",
          "2020/21",
          "2021"
         ],
         "xaxis": "x",
         "yaxis": "y"
        }
       ],
       "layout": {
        "barmode": "relative",
        "legend": {
         "title": {
          "text": "super_over"
         },
         "tracegroupgap": 0
        },
        "margin": {
         "t": 60
        },
        "template": {
         "data": {
          "bar": [
           {
            "error_x": {
             "color": "#2a3f5f"
            },
            "error_y": {
             "color": "#2a3f5f"
            },
            "marker": {
             "line": {
              "color": "#E5ECF6",
              "width": 0.5
             },
             "pattern": {
              "fillmode": "overlay",
              "size": 10,
              "solidity": 0.2
             }
            },
            "type": "bar"
           }
          ],
          "barpolar": [
           {
            "marker": {
             "line": {
              "color": "#E5ECF6",
              "width": 0.5
             },
             "pattern": {
              "fillmode": "overlay",
              "size": 10,
              "solidity": 0.2
             }
            },
            "type": "barpolar"
           }
          ],
          "carpet": [
           {
            "aaxis": {
             "endlinecolor": "#2a3f5f",
             "gridcolor": "white",
             "linecolor": "white",
             "minorgridcolor": "white",
             "startlinecolor": "#2a3f5f"
            },
            "baxis": {
             "endlinecolor": "#2a3f5f",
             "gridcolor": "white",
             "linecolor": "white",
             "minorgridcolor": "white",
             "startlinecolor": "#2a3f5f"
            },
            "type": "carpet"
           }
          ],
          "choropleth": [
           {
            "colorbar": {
             "outlinewidth": 0,
             "ticks": ""
            },
            "type": "choropleth"
           }
          ],
          "contour": [
           {
            "colorbar": {
             "outlinewidth": 0,
             "ticks": ""
            },
            "colorscale": [
             [
              0,
              "#0d0887"
             ],
             [
              0.1111111111111111,
              "#46039f"
             ],
             [
              0.2222222222222222,
              "#7201a8"
             ],
             [
              0.3333333333333333,
              "#9c179e"
             ],
             [
              0.4444444444444444,
              "#bd3786"
             ],
             [
              0.5555555555555556,
              "#d8576b"
             ],
             [
              0.6666666666666666,
              "#ed7953"
             ],
             [
              0.7777777777777778,
              "#fb9f3a"
             ],
             [
              0.8888888888888888,
              "#fdca26"
             ],
             [
              1,
              "#f0f921"
             ]
            ],
            "type": "contour"
           }
          ],
          "contourcarpet": [
           {
            "colorbar": {
             "outlinewidth": 0,
             "ticks": ""
            },
            "type": "contourcarpet"
           }
          ],
          "heatmap": [
           {
            "colorbar": {
             "outlinewidth": 0,
             "ticks": ""
            },
            "colorscale": [
             [
              0,
              "#0d0887"
             ],
             [
              0.1111111111111111,
              "#46039f"
             ],
             [
              0.2222222222222222,
              "#7201a8"
             ],
             [
              0.3333333333333333,
              "#9c179e"
             ],
             [
              0.4444444444444444,
              "#bd3786"
             ],
             [
              0.5555555555555556,
              "#d8576b"
             ],
             [
              0.6666666666666666,
              "#ed7953"
             ],
             [
              0.7777777777777778,
              "#fb9f3a"
             ],
             [
              0.8888888888888888,
              "#fdca26"
             ],
             [
              1,
              "#f0f921"
             ]
            ],
            "type": "heatmap"
           }
          ],
          "heatmapgl": [
           {
            "colorbar": {
             "outlinewidth": 0,
             "ticks": ""
            },
            "colorscale": [
             [
              0,
              "#0d0887"
             ],
             [
              0.1111111111111111,
              "#46039f"
             ],
             [
              0.2222222222222222,
              "#7201a8"
             ],
             [
              0.3333333333333333,
              "#9c179e"
             ],
             [
              0.4444444444444444,
              "#bd3786"
             ],
             [
              0.5555555555555556,
              "#d8576b"
             ],
             [
              0.6666666666666666,
              "#ed7953"
             ],
             [
              0.7777777777777778,
              "#fb9f3a"
             ],
             [
              0.8888888888888888,
              "#fdca26"
             ],
             [
              1,
              "#f0f921"
             ]
            ],
            "type": "heatmapgl"
           }
          ],
          "histogram": [
           {
            "marker": {
             "pattern": {
              "fillmode": "overlay",
              "size": 10,
              "solidity": 0.2
             }
            },
            "type": "histogram"
           }
          ],
          "histogram2d": [
           {
            "colorbar": {
             "outlinewidth": 0,
             "ticks": ""
            },
            "colorscale": [
             [
              0,
              "#0d0887"
             ],
             [
              0.1111111111111111,
              "#46039f"
             ],
             [
              0.2222222222222222,
              "#7201a8"
             ],
             [
              0.3333333333333333,
              "#9c179e"
             ],
             [
              0.4444444444444444,
              "#bd3786"
             ],
             [
              0.5555555555555556,
              "#d8576b"
             ],
             [
              0.6666666666666666,
              "#ed7953"
             ],
             [
              0.7777777777777778,
              "#fb9f3a"
             ],
             [
              0.8888888888888888,
              "#fdca26"
             ],
             [
              1,
              "#f0f921"
             ]
            ],
            "type": "histogram2d"
           }
          ],
          "histogram2dcontour": [
           {
            "colorbar": {
             "outlinewidth": 0,
             "ticks": ""
            },
            "colorscale": [
             [
              0,
              "#0d0887"
             ],
             [
              0.1111111111111111,
              "#46039f"
             ],
             [
              0.2222222222222222,
              "#7201a8"
             ],
             [
              0.3333333333333333,
              "#9c179e"
             ],
             [
              0.4444444444444444,
              "#bd3786"
             ],
             [
              0.5555555555555556,
              "#d8576b"
             ],
             [
              0.6666666666666666,
              "#ed7953"
             ],
             [
              0.7777777777777778,
              "#fb9f3a"
             ],
             [
              0.8888888888888888,
              "#fdca26"
             ],
             [
              1,
              "#f0f921"
             ]
            ],
            "type": "histogram2dcontour"
           }
          ],
          "mesh3d": [
           {
            "colorbar": {
             "outlinewidth": 0,
             "ticks": ""
            },
            "type": "mesh3d"
           }
          ],
          "parcoords": [
           {
            "line": {
             "colorbar": {
              "outlinewidth": 0,
              "ticks": ""
             }
            },
            "type": "parcoords"
           }
          ],
          "pie": [
           {
            "automargin": true,
            "type": "pie"
           }
          ],
          "scatter": [
           {
            "fillpattern": {
             "fillmode": "overlay",
             "size": 10,
             "solidity": 0.2
            },
            "type": "scatter"
           }
          ],
          "scatter3d": [
           {
            "line": {
             "colorbar": {
              "outlinewidth": 0,
              "ticks": ""
             }
            },
            "marker": {
             "colorbar": {
              "outlinewidth": 0,
              "ticks": ""
             }
            },
            "type": "scatter3d"
           }
          ],
          "scattercarpet": [
           {
            "marker": {
             "colorbar": {
              "outlinewidth": 0,
              "ticks": ""
             }
            },
            "type": "scattercarpet"
           }
          ],
          "scattergeo": [
           {
            "marker": {
             "colorbar": {
              "outlinewidth": 0,
              "ticks": ""
             }
            },
            "type": "scattergeo"
           }
          ],
          "scattergl": [
           {
            "marker": {
             "colorbar": {
              "outlinewidth": 0,
              "ticks": ""
             }
            },
            "type": "scattergl"
           }
          ],
          "scattermapbox": [
           {
            "marker": {
             "colorbar": {
              "outlinewidth": 0,
              "ticks": ""
             }
            },
            "type": "scattermapbox"
           }
          ],
          "scatterpolar": [
           {
            "marker": {
             "colorbar": {
              "outlinewidth": 0,
              "ticks": ""
             }
            },
            "type": "scatterpolar"
           }
          ],
          "scatterpolargl": [
           {
            "marker": {
             "colorbar": {
              "outlinewidth": 0,
              "ticks": ""
             }
            },
            "type": "scatterpolargl"
           }
          ],
          "scatterternary": [
           {
            "marker": {
             "colorbar": {
              "outlinewidth": 0,
              "ticks": ""
             }
            },
            "type": "scatterternary"
           }
          ],
          "surface": [
           {
            "colorbar": {
             "outlinewidth": 0,
             "ticks": ""
            },
            "colorscale": [
             [
              0,
              "#0d0887"
             ],
             [
              0.1111111111111111,
              "#46039f"
             ],
             [
              0.2222222222222222,
              "#7201a8"
             ],
             [
              0.3333333333333333,
              "#9c179e"
             ],
             [
              0.4444444444444444,
              "#bd3786"
             ],
             [
              0.5555555555555556,
              "#d8576b"
             ],
             [
              0.6666666666666666,
              "#ed7953"
             ],
             [
              0.7777777777777778,
              "#fb9f3a"
             ],
             [
              0.8888888888888888,
              "#fdca26"
             ],
             [
              1,
              "#f0f921"
             ]
            ],
            "type": "surface"
           }
          ],
          "table": [
           {
            "cells": {
             "fill": {
              "color": "#EBF0F8"
             },
             "line": {
              "color": "white"
             }
            },
            "header": {
             "fill": {
              "color": "#C8D4E3"
             },
             "line": {
              "color": "white"
             }
            },
            "type": "table"
           }
          ]
         },
         "layout": {
          "annotationdefaults": {
           "arrowcolor": "#2a3f5f",
           "arrowhead": 0,
           "arrowwidth": 1
          },
          "autotypenumbers": "strict",
          "coloraxis": {
           "colorbar": {
            "outlinewidth": 0,
            "ticks": ""
           }
          },
          "colorscale": {
           "diverging": [
            [
             0,
             "#8e0152"
            ],
            [
             0.1,
             "#c51b7d"
            ],
            [
             0.2,
             "#de77ae"
            ],
            [
             0.3,
             "#f1b6da"
            ],
            [
             0.4,
             "#fde0ef"
            ],
            [
             0.5,
             "#f7f7f7"
            ],
            [
             0.6,
             "#e6f5d0"
            ],
            [
             0.7,
             "#b8e186"
            ],
            [
             0.8,
             "#7fbc41"
            ],
            [
             0.9,
             "#4d9221"
            ],
            [
             1,
             "#276419"
            ]
           ],
           "sequential": [
            [
             0,
             "#0d0887"
            ],
            [
             0.1111111111111111,
             "#46039f"
            ],
            [
             0.2222222222222222,
             "#7201a8"
            ],
            [
             0.3333333333333333,
             "#9c179e"
            ],
            [
             0.4444444444444444,
             "#bd3786"
            ],
            [
             0.5555555555555556,
             "#d8576b"
            ],
            [
             0.6666666666666666,
             "#ed7953"
            ],
            [
             0.7777777777777778,
             "#fb9f3a"
            ],
            [
             0.8888888888888888,
             "#fdca26"
            ],
            [
             1,
             "#f0f921"
            ]
           ],
           "sequentialminus": [
            [
             0,
             "#0d0887"
            ],
            [
             0.1111111111111111,
             "#46039f"
            ],
            [
             0.2222222222222222,
             "#7201a8"
            ],
            [
             0.3333333333333333,
             "#9c179e"
            ],
            [
             0.4444444444444444,
             "#bd3786"
            ],
            [
             0.5555555555555556,
             "#d8576b"
            ],
            [
             0.6666666666666666,
             "#ed7953"
            ],
            [
             0.7777777777777778,
             "#fb9f3a"
            ],
            [
             0.8888888888888888,
             "#fdca26"
            ],
            [
             1,
             "#f0f921"
            ]
           ]
          },
          "colorway": [
           "#636efa",
           "#EF553B",
           "#00cc96",
           "#ab63fa",
           "#FFA15A",
           "#19d3f3",
           "#FF6692",
           "#B6E880",
           "#FF97FF",
           "#FECB52"
          ],
          "font": {
           "color": "#2a3f5f"
          },
          "geo": {
           "bgcolor": "white",
           "lakecolor": "white",
           "landcolor": "#E5ECF6",
           "showlakes": true,
           "showland": true,
           "subunitcolor": "white"
          },
          "hoverlabel": {
           "align": "left"
          },
          "hovermode": "closest",
          "mapbox": {
           "style": "light"
          },
          "paper_bgcolor": "white",
          "plot_bgcolor": "#E5ECF6",
          "polar": {
           "angularaxis": {
            "gridcolor": "white",
            "linecolor": "white",
            "ticks": ""
           },
           "bgcolor": "#E5ECF6",
           "radialaxis": {
            "gridcolor": "white",
            "linecolor": "white",
            "ticks": ""
           }
          },
          "scene": {
           "xaxis": {
            "backgroundcolor": "#E5ECF6",
            "gridcolor": "white",
            "gridwidth": 2,
            "linecolor": "white",
            "showbackground": true,
            "ticks": "",
            "zerolinecolor": "white"
           },
           "yaxis": {
            "backgroundcolor": "#E5ECF6",
            "gridcolor": "white",
            "gridwidth": 2,
            "linecolor": "white",
            "showbackground": true,
            "ticks": "",
            "zerolinecolor": "white"
           },
           "zaxis": {
            "backgroundcolor": "#E5ECF6",
            "gridcolor": "white",
            "gridwidth": 2,
            "linecolor": "white",
            "showbackground": true,
            "ticks": "",
            "zerolinecolor": "white"
           }
          },
          "shapedefaults": {
           "line": {
            "color": "#2a3f5f"
           }
          },
          "ternary": {
           "aaxis": {
            "gridcolor": "white",
            "linecolor": "white",
            "ticks": ""
           },
           "baxis": {
            "gridcolor": "white",
            "linecolor": "white",
            "ticks": ""
           },
           "bgcolor": "#E5ECF6",
           "caxis": {
            "gridcolor": "white",
            "linecolor": "white",
            "ticks": ""
           }
          },
          "title": {
           "x": 0.05
          },
          "xaxis": {
           "automargin": true,
           "gridcolor": "white",
           "linecolor": "white",
           "ticks": "",
           "title": {
            "standoff": 15
           },
           "zerolinecolor": "white",
           "zerolinewidth": 2
          },
          "yaxis": {
           "automargin": true,
           "gridcolor": "white",
           "linecolor": "white",
           "ticks": "",
           "title": {
            "standoff": 15
           },
           "zerolinecolor": "white",
           "zerolinewidth": 2
          }
         }
        },
        "xaxis": {
         "anchor": "y",
         "domain": [
          0,
          1
         ],
         "title": {
          "text": "season"
         }
        },
        "yaxis": {
         "anchor": "x",
         "domain": [
          0,
          1
         ],
         "title": {
          "text": "count"
         }
        }
       }
      }
     },
     "metadata": {},
     "output_type": "display_data"
    }
   ],
   "source": [
    "fig=  px.histogram(data_frame= filter_s_o_ds, x=\"season\", color=\"super_over\")\n",
    "fig.show()"
   ]
  },
  {
   "cell_type": "code",
   "execution_count": 10,
   "metadata": {},
   "outputs": [
    {
     "data": {
      "application/vnd.plotly.v1+json": {
       "config": {
        "plotlyServerURL": "https://plot.ly"
       },
       "data": [
        {
         "alignmentgroup": "True",
         "bingroup": "x",
         "hovertemplate": "toss_winner=Royal Challengers Bangalore<br>season=%{x}<br>count=%{y}<extra></extra>",
         "legendgroup": "Royal Challengers Bangalore",
         "marker": {
          "color": "#636efa",
          "pattern": {
           "shape": ""
          }
         },
         "name": "Royal Challengers Bangalore",
         "offsetgroup": "Royal Challengers Bangalore",
         "orientation": "v",
         "showlegend": true,
         "type": "histogram",
         "x": [
          "2007/08",
          "2007/08",
          "2007/08",
          "2007/08",
          "2007/08",
          "2009",
          "2009",
          "2009",
          "2009",
          "2009",
          "2009",
          "2009",
          "2009",
          "2009/10",
          "2009/10",
          "2009/10",
          "2009/10",
          "2009/10",
          "2009/10",
          "2011",
          "2011",
          "2011",
          "2011",
          "2011",
          "2011",
          "2012",
          "2012",
          "2012",
          "2012",
          "2012",
          "2012",
          "2013",
          "2013",
          "2013",
          "2013",
          "2013",
          "2014",
          "2014",
          "2014",
          "2014",
          "2014",
          "2014",
          "2014",
          "2014",
          "2014",
          "2015",
          "2015",
          "2015",
          "2015",
          "2015",
          "2015",
          "2015",
          "2015",
          "2015",
          "2015",
          "2016",
          "2016",
          "2016",
          "2016",
          "2016",
          "2016",
          "2017",
          "2017",
          "2017",
          "2017",
          "2017",
          "2017",
          "2017",
          "2017",
          "2017",
          "2018",
          "2018",
          "2018",
          "2018",
          "2018",
          "2018",
          "2018",
          "2019",
          "2019",
          "2019",
          "2019",
          "2020/21",
          "2020/21",
          "2020/21",
          "2020/21",
          "2020/21",
          "2020/21",
          "2021",
          "2021",
          "2021",
          "2021",
          "2021",
          "2021",
          "2021",
          "2021",
          "2021",
          "2021",
          "2022",
          "2022",
          "2022",
          "2022",
          "2022",
          "2022",
          "2022",
          "2022",
          "2023",
          "2023",
          "2023",
          "2023",
          "2023",
          "2023",
          "2023",
          "2023"
         ],
         "xaxis": "x",
         "yaxis": "y"
        },
        {
         "alignmentgroup": "True",
         "bingroup": "x",
         "hovertemplate": "toss_winner=Chennai Super Kings<br>season=%{x}<br>count=%{y}<extra></extra>",
         "legendgroup": "Chennai Super Kings",
         "marker": {
          "color": "#EF553B",
          "pattern": {
           "shape": ""
          }
         },
         "name": "Chennai Super Kings",
         "offsetgroup": "Chennai Super Kings",
         "orientation": "v",
         "showlegend": true,
         "type": "histogram",
         "x": [
          "2007/08",
          "2007/08",
          "2007/08",
          "2007/08",
          "2007/08",
          "2009",
          "2009",
          "2009",
          "2009",
          "2009",
          "2009",
          "2009",
          "2009/10",
          "2009/10",
          "2009/10",
          "2009/10",
          "2009/10",
          "2009/10",
          "2009/10",
          "2009/10",
          "2009/10",
          "2009/10",
          "2011",
          "2011",
          "2011",
          "2011",
          "2011",
          "2011",
          "2011",
          "2011",
          "2011",
          "2012",
          "2012",
          "2012",
          "2012",
          "2012",
          "2012",
          "2012",
          "2013",
          "2013",
          "2013",
          "2013",
          "2013",
          "2013",
          "2013",
          "2013",
          "2014",
          "2014",
          "2014",
          "2014",
          "2014",
          "2014",
          "2014",
          "2014",
          "2014",
          "2014",
          "2015",
          "2015",
          "2015",
          "2015",
          "2015",
          "2015",
          "2015",
          "2015",
          "2015",
          "2015",
          "2018",
          "2018",
          "2018",
          "2018",
          "2018",
          "2018",
          "2018",
          "2018",
          "2018",
          "2018",
          "2018",
          "2019",
          "2019",
          "2019",
          "2019",
          "2019",
          "2019",
          "2019",
          "2019",
          "2019",
          "2019",
          "2019",
          "2019",
          "2020/21",
          "2020/21",
          "2020/21",
          "2020/21",
          "2020/21",
          "2020/21",
          "2020/21",
          "2020/21",
          "2021",
          "2021",
          "2021",
          "2021",
          "2021",
          "2021",
          "2022",
          "2022",
          "2022",
          "2022",
          "2022",
          "2022",
          "2023",
          "2023",
          "2023",
          "2023",
          "2023",
          "2023",
          "2023",
          "2023",
          "2023",
          "2023",
          "2024",
          "2024",
          "2024"
         ],
         "xaxis": "x",
         "yaxis": "y"
        },
        {
         "alignmentgroup": "True",
         "bingroup": "x",
         "hovertemplate": "toss_winner=Rajasthan Royals<br>season=%{x}<br>count=%{y}<extra></extra>",
         "legendgroup": "Rajasthan Royals",
         "marker": {
          "color": "#00cc96",
          "pattern": {
           "shape": ""
          }
         },
         "name": "Rajasthan Royals",
         "offsetgroup": "Rajasthan Royals",
         "orientation": "v",
         "showlegend": true,
         "type": "histogram",
         "x": [
          "2007/08",
          "2007/08",
          "2007/08",
          "2007/08",
          "2007/08",
          "2007/08",
          "2007/08",
          "2007/08",
          "2007/08",
          "2007/08",
          "2007/08",
          "2009",
          "2009",
          "2009",
          "2009",
          "2009/10",
          "2009/10",
          "2009/10",
          "2009/10",
          "2009/10",
          "2009/10",
          "2011",
          "2011",
          "2011",
          "2011",
          "2011",
          "2011",
          "2011",
          "2012",
          "2012",
          "2012",
          "2012",
          "2012",
          "2012",
          "2012",
          "2012",
          "2012",
          "2012",
          "2013",
          "2013",
          "2013",
          "2013",
          "2013",
          "2013",
          "2013",
          "2013",
          "2013",
          "2013",
          "2013",
          "2014",
          "2014",
          "2014",
          "2014",
          "2014",
          "2014",
          "2014",
          "2014",
          "2015",
          "2015",
          "2015",
          "2015",
          "2015",
          "2015",
          "2018",
          "2018",
          "2018",
          "2018",
          "2018",
          "2018",
          "2019",
          "2019",
          "2019",
          "2019",
          "2019",
          "2019",
          "2019",
          "2019",
          "2019",
          "2019",
          "2019",
          "2020/21",
          "2020/21",
          "2020/21",
          "2020/21",
          "2020/21",
          "2020/21",
          "2020/21",
          "2021",
          "2021",
          "2021",
          "2021",
          "2021",
          "2021",
          "2021",
          "2021",
          "2022",
          "2022",
          "2022",
          "2022",
          "2023",
          "2023",
          "2023",
          "2023",
          "2023",
          "2023",
          "2023",
          "2023",
          "2023",
          "2023",
          "2024",
          "2024",
          "2024",
          "2024",
          "2024",
          "2024",
          "2024",
          "2024",
          "2024",
          "2024",
          "2024"
         ],
         "xaxis": "x",
         "yaxis": "y"
        },
        {
         "alignmentgroup": "True",
         "bingroup": "x",
         "hovertemplate": "toss_winner=Mumbai Indians<br>season=%{x}<br>count=%{y}<extra></extra>",
         "legendgroup": "Mumbai Indians",
         "marker": {
          "color": "#ab63fa",
          "pattern": {
           "shape": ""
          }
         },
         "name": "Mumbai Indians",
         "offsetgroup": "Mumbai Indians",
         "orientation": "v",
         "showlegend": true,
         "type": "histogram",
         "x": [
          "2007/08",
          "2007/08",
          "2007/08",
          "2007/08",
          "2007/08",
          "2007/08",
          "2007/08",
          "2007/08",
          "2009",
          "2009",
          "2009",
          "2009",
          "2009",
          "2009",
          "2009/10",
          "2009/10",
          "2009/10",
          "2009/10",
          "2009/10",
          "2009/10",
          "2009/10",
          "2009/10",
          "2009/10",
          "2011",
          "2011",
          "2011",
          "2011",
          "2011",
          "2011",
          "2012",
          "2012",
          "2012",
          "2012",
          "2012",
          "2012",
          "2012",
          "2012",
          "2012",
          "2012",
          "2012",
          "2013",
          "2013",
          "2013",
          "2013",
          "2013",
          "2013",
          "2013",
          "2013",
          "2013",
          "2013",
          "2013",
          "2013",
          "2014",
          "2014",
          "2014",
          "2014",
          "2014",
          "2014",
          "2015",
          "2015",
          "2015",
          "2015",
          "2015",
          "2015",
          "2015",
          "2016",
          "2016",
          "2016",
          "2016",
          "2016",
          "2016",
          "2016",
          "2016",
          "2016",
          "2017",
          "2017",
          "2017",
          "2017",
          "2017",
          "2017",
          "2017",
          "2017",
          "2017",
          "2017",
          "2017",
          "2018",
          "2018",
          "2018",
          "2018",
          "2018",
          "2019",
          "2019",
          "2019",
          "2019",
          "2019",
          "2019",
          "2019",
          "2019",
          "2020/21",
          "2020/21",
          "2020/21",
          "2020/21",
          "2020/21",
          "2020/21",
          "2020/21",
          "2020/21",
          "2021",
          "2021",
          "2021",
          "2021",
          "2021",
          "2021",
          "2021",
          "2021",
          "2022",
          "2022",
          "2022",
          "2022",
          "2022",
          "2022",
          "2022",
          "2022",
          "2022",
          "2023",
          "2023",
          "2023",
          "2023",
          "2023",
          "2023",
          "2023",
          "2023",
          "2023",
          "2023",
          "2024",
          "2024",
          "2024",
          "2024",
          "2024",
          "2024",
          "2024",
          "2024",
          "2024",
          "2024"
         ],
         "xaxis": "x",
         "yaxis": "y"
        },
        {
         "alignmentgroup": "True",
         "bingroup": "x",
         "hovertemplate": "toss_winner=Deccan Chargers<br>season=%{x}<br>count=%{y}<extra></extra>",
         "legendgroup": "Deccan Chargers",
         "marker": {
          "color": "#FFA15A",
          "pattern": {
           "shape": ""
          }
         },
         "name": "Deccan Chargers",
         "offsetgroup": "Deccan Chargers",
         "orientation": "v",
         "showlegend": true,
         "type": "histogram",
         "x": [
          "2007/08",
          "2007/08",
          "2007/08",
          "2007/08",
          "2007/08",
          "2007/08",
          "2007/08",
          "2007/08",
          "2007/08",
          "2009",
          "2009",
          "2009",
          "2009",
          "2009",
          "2009",
          "2009",
          "2009",
          "2009",
          "2009",
          "2009/10",
          "2009/10",
          "2009/10",
          "2009/10",
          "2009/10",
          "2009/10",
          "2009/10",
          "2009/10",
          "2009/10",
          "2011",
          "2011",
          "2011",
          "2011",
          "2011",
          "2011",
          "2012",
          "2012",
          "2012",
          "2012",
          "2012",
          "2012",
          "2012",
          "2012",
          "2012"
         ],
         "xaxis": "x",
         "yaxis": "y"
        },
        {
         "alignmentgroup": "True",
         "bingroup": "x",
         "hovertemplate": "toss_winner=Kings XI Punjab<br>season=%{x}<br>count=%{y}<extra></extra>",
         "legendgroup": "Kings XI Punjab",
         "marker": {
          "color": "#19d3f3",
          "pattern": {
           "shape": ""
          }
         },
         "name": "Kings XI Punjab",
         "offsetgroup": "Kings XI Punjab",
         "orientation": "v",
         "showlegend": true,
         "type": "histogram",
         "x": [
          "2007/08",
          "2007/08",
          "2007/08",
          "2007/08",
          "2007/08",
          "2007/08",
          "2007/08",
          "2007/08",
          "2009",
          "2009",
          "2009",
          "2009",
          "2009",
          "2009",
          "2009/10",
          "2009/10",
          "2009/10",
          "2009/10",
          "2009/10",
          "2011",
          "2011",
          "2011",
          "2011",
          "2011",
          "2011",
          "2011",
          "2011",
          "2011",
          "2011",
          "2012",
          "2012",
          "2012",
          "2012",
          "2012",
          "2012",
          "2012",
          "2012",
          "2013",
          "2013",
          "2013",
          "2013",
          "2013",
          "2013",
          "2013",
          "2014",
          "2014",
          "2014",
          "2014",
          "2014",
          "2014",
          "2014",
          "2015",
          "2015",
          "2015",
          "2015",
          "2015",
          "2015",
          "2015",
          "2016",
          "2016",
          "2016",
          "2016",
          "2016",
          "2016",
          "2017",
          "2017",
          "2017",
          "2017",
          "2018",
          "2018",
          "2018",
          "2018",
          "2018",
          "2018",
          "2018",
          "2019",
          "2019",
          "2019",
          "2019",
          "2019",
          "2019",
          "2020/21",
          "2020/21",
          "2020/21",
          "2020/21"
         ],
         "xaxis": "x",
         "yaxis": "y"
        },
        {
         "alignmentgroup": "True",
         "bingroup": "x",
         "hovertemplate": "toss_winner=Kolkata Knight Riders<br>season=%{x}<br>count=%{y}<extra></extra>",
         "legendgroup": "Kolkata Knight Riders",
         "marker": {
          "color": "#FF6692",
          "pattern": {
           "shape": ""
          }
         },
         "name": "Kolkata Knight Riders",
         "offsetgroup": "Kolkata Knight Riders",
         "orientation": "v",
         "showlegend": true,
         "type": "histogram",
         "x": [
          "2007/08",
          "2007/08",
          "2007/08",
          "2007/08",
          "2007/08",
          "2007/08",
          "2009",
          "2009",
          "2009",
          "2009",
          "2009",
          "2009",
          "2009",
          "2009/10",
          "2009/10",
          "2009/10",
          "2009/10",
          "2009/10",
          "2009/10",
          "2009/10",
          "2011",
          "2011",
          "2011",
          "2011",
          "2011",
          "2011",
          "2011",
          "2012",
          "2012",
          "2012",
          "2012",
          "2012",
          "2012",
          "2012",
          "2013",
          "2013",
          "2013",
          "2013",
          "2013",
          "2013",
          "2013",
          "2013",
          "2013",
          "2013",
          "2013",
          "2013",
          "2014",
          "2014",
          "2014",
          "2014",
          "2014",
          "2014",
          "2014",
          "2014",
          "2014",
          "2015",
          "2015",
          "2015",
          "2015",
          "2015",
          "2015",
          "2015",
          "2015",
          "2016",
          "2016",
          "2016",
          "2016",
          "2016",
          "2016",
          "2017",
          "2017",
          "2017",
          "2017",
          "2017",
          "2017",
          "2017",
          "2017",
          "2017",
          "2018",
          "2018",
          "2018",
          "2018",
          "2018",
          "2018",
          "2018",
          "2018",
          "2018",
          "2019",
          "2019",
          "2019",
          "2019",
          "2019",
          "2020/21",
          "2020/21",
          "2020/21",
          "2020/21",
          "2020/21",
          "2020/21",
          "2021",
          "2021",
          "2021",
          "2021",
          "2021",
          "2021",
          "2021",
          "2021",
          "2022",
          "2022",
          "2022",
          "2022",
          "2022",
          "2022",
          "2022",
          "2022",
          "2023",
          "2023",
          "2023",
          "2023",
          "2023",
          "2024",
          "2024",
          "2024"
         ],
         "xaxis": "x",
         "yaxis": "y"
        },
        {
         "alignmentgroup": "True",
         "bingroup": "x",
         "hovertemplate": "toss_winner=Delhi Daredevils<br>season=%{x}<br>count=%{y}<extra></extra>",
         "legendgroup": "Delhi Daredevils",
         "marker": {
          "color": "#B6E880",
          "pattern": {
           "shape": ""
          }
         },
         "name": "Delhi Daredevils",
         "offsetgroup": "Delhi Daredevils",
         "orientation": "v",
         "showlegend": true,
         "type": "histogram",
         "x": [
          "2007/08",
          "2007/08",
          "2007/08",
          "2007/08",
          "2007/08",
          "2007/08",
          "2009",
          "2009",
          "2009",
          "2009",
          "2009",
          "2009",
          "2009",
          "2009",
          "2009",
          "2009/10",
          "2009/10",
          "2009/10",
          "2009/10",
          "2009/10",
          "2009/10",
          "2009/10",
          "2009/10",
          "2011",
          "2011",
          "2011",
          "2011",
          "2011",
          "2011",
          "2011",
          "2011",
          "2011",
          "2012",
          "2012",
          "2012",
          "2012",
          "2012",
          "2012",
          "2012",
          "2012",
          "2012",
          "2012",
          "2013",
          "2013",
          "2013",
          "2013",
          "2013",
          "2014",
          "2014",
          "2014",
          "2014",
          "2015",
          "2015",
          "2015",
          "2015",
          "2015",
          "2016",
          "2016",
          "2016",
          "2016",
          "2016",
          "2016",
          "2016",
          "2016",
          "2017",
          "2017",
          "2017",
          "2017",
          "2017",
          "2017",
          "2017",
          "2017",
          "2018",
          "2018",
          "2018",
          "2018",
          "2018",
          "2018",
          "2018",
          "2018"
         ],
         "xaxis": "x",
         "yaxis": "y"
        },
        {
         "alignmentgroup": "True",
         "bingroup": "x",
         "hovertemplate": "toss_winner=Kochi Tuskers Kerala<br>season=%{x}<br>count=%{y}<extra></extra>",
         "legendgroup": "Kochi Tuskers Kerala",
         "marker": {
          "color": "#FF97FF",
          "pattern": {
           "shape": ""
          }
         },
         "name": "Kochi Tuskers Kerala",
         "offsetgroup": "Kochi Tuskers Kerala",
         "orientation": "v",
         "showlegend": true,
         "type": "histogram",
         "x": [
          "2011",
          "2011",
          "2011",
          "2011",
          "2011",
          "2011",
          "2011",
          "2011"
         ],
         "xaxis": "x",
         "yaxis": "y"
        },
        {
         "alignmentgroup": "True",
         "bingroup": "x",
         "hovertemplate": "toss_winner=Pune Warriors<br>season=%{x}<br>count=%{y}<extra></extra>",
         "legendgroup": "Pune Warriors",
         "marker": {
          "color": "#FECB52",
          "pattern": {
           "shape": ""
          }
         },
         "name": "Pune Warriors",
         "offsetgroup": "Pune Warriors",
         "orientation": "v",
         "showlegend": true,
         "type": "histogram",
         "x": [
          "2011",
          "2011",
          "2011",
          "2011",
          "2011",
          "2012",
          "2012",
          "2012",
          "2012",
          "2012",
          "2012",
          "2013",
          "2013",
          "2013",
          "2013",
          "2013",
          "2013",
          "2013",
          "2013",
          "2013"
         ],
         "xaxis": "x",
         "yaxis": "y"
        },
        {
         "alignmentgroup": "True",
         "bingroup": "x",
         "hovertemplate": "toss_winner=Sunrisers Hyderabad<br>season=%{x}<br>count=%{y}<extra></extra>",
         "legendgroup": "Sunrisers Hyderabad",
         "marker": {
          "color": "#636efa",
          "pattern": {
           "shape": ""
          }
         },
         "name": "Sunrisers Hyderabad",
         "offsetgroup": "Sunrisers Hyderabad",
         "orientation": "v",
         "showlegend": true,
         "type": "histogram",
         "x": [
          "2013",
          "2013",
          "2013",
          "2013",
          "2013",
          "2013",
          "2013",
          "2014",
          "2014",
          "2014",
          "2014",
          "2014",
          "2014",
          "2014",
          "2015",
          "2015",
          "2015",
          "2015",
          "2015",
          "2015",
          "2016",
          "2016",
          "2016",
          "2016",
          "2016",
          "2016",
          "2016",
          "2016",
          "2016",
          "2016",
          "2017",
          "2017",
          "2017",
          "2017",
          "2017",
          "2018",
          "2018",
          "2018",
          "2018",
          "2018",
          "2018",
          "2018",
          "2019",
          "2019",
          "2019",
          "2019",
          "2020/21",
          "2020/21",
          "2020/21",
          "2020/21",
          "2020/21",
          "2020/21",
          "2020/21",
          "2020/21",
          "2020/21",
          "2020/21",
          "2020/21",
          "2021",
          "2021",
          "2021",
          "2021",
          "2021",
          "2021",
          "2021",
          "2022",
          "2022",
          "2022",
          "2022",
          "2022",
          "2022",
          "2022",
          "2022",
          "2022",
          "2022",
          "2023",
          "2023",
          "2023",
          "2023",
          "2023",
          "2023",
          "2023",
          "2024",
          "2024",
          "2024",
          "2024",
          "2024",
          "2024",
          "2024"
         ],
         "xaxis": "x",
         "yaxis": "y"
        },
        {
         "alignmentgroup": "True",
         "bingroup": "x",
         "hovertemplate": "toss_winner=Gujarat Lions<br>season=%{x}<br>count=%{y}<extra></extra>",
         "legendgroup": "Gujarat Lions",
         "marker": {
          "color": "#EF553B",
          "pattern": {
           "shape": ""
          }
         },
         "name": "Gujarat Lions",
         "offsetgroup": "Gujarat Lions",
         "orientation": "v",
         "showlegend": true,
         "type": "histogram",
         "x": [
          "2016",
          "2016",
          "2016",
          "2016",
          "2016",
          "2016",
          "2016",
          "2016",
          "2017",
          "2017",
          "2017",
          "2017",
          "2017",
          "2017",
          "2017"
         ],
         "xaxis": "x",
         "yaxis": "y"
        },
        {
         "alignmentgroup": "True",
         "bingroup": "x",
         "hovertemplate": "toss_winner=Rising Pune Supergiants<br>season=%{x}<br>count=%{y}<extra></extra>",
         "legendgroup": "Rising Pune Supergiants",
         "marker": {
          "color": "#00cc96",
          "pattern": {
           "shape": ""
          }
         },
         "name": "Rising Pune Supergiants",
         "offsetgroup": "Rising Pune Supergiants",
         "orientation": "v",
         "showlegend": true,
         "type": "histogram",
         "x": [
          "2016",
          "2016",
          "2016",
          "2016",
          "2016",
          "2016",
          "2016"
         ],
         "xaxis": "x",
         "yaxis": "y"
        },
        {
         "alignmentgroup": "True",
         "bingroup": "x",
         "hovertemplate": "toss_winner=Rising Pune Supergiant<br>season=%{x}<br>count=%{y}<extra></extra>",
         "legendgroup": "Rising Pune Supergiant",
         "marker": {
          "color": "#ab63fa",
          "pattern": {
           "shape": ""
          }
         },
         "name": "Rising Pune Supergiant",
         "offsetgroup": "Rising Pune Supergiant",
         "orientation": "v",
         "showlegend": true,
         "type": "histogram",
         "x": [
          "2017",
          "2017",
          "2017",
          "2017",
          "2017",
          "2017"
         ],
         "xaxis": "x",
         "yaxis": "y"
        },
        {
         "alignmentgroup": "True",
         "bingroup": "x",
         "hovertemplate": "toss_winner=Delhi Capitals<br>season=%{x}<br>count=%{y}<extra></extra>",
         "legendgroup": "Delhi Capitals",
         "marker": {
          "color": "#FFA15A",
          "pattern": {
           "shape": ""
          }
         },
         "name": "Delhi Capitals",
         "offsetgroup": "Delhi Capitals",
         "orientation": "v",
         "showlegend": true,
         "type": "histogram",
         "x": [
          "2019",
          "2019",
          "2019",
          "2019",
          "2019",
          "2019",
          "2019",
          "2019",
          "2019",
          "2019",
          "2020/21",
          "2020/21",
          "2020/21",
          "2020/21",
          "2020/21",
          "2020/21",
          "2020/21",
          "2020/21",
          "2020/21",
          "2020/21",
          "2021",
          "2021",
          "2021",
          "2021",
          "2021",
          "2021",
          "2021",
          "2021",
          "2022",
          "2022",
          "2022",
          "2022",
          "2022",
          "2022",
          "2022",
          "2022",
          "2023",
          "2023",
          "2023",
          "2023",
          "2023",
          "2023",
          "2023",
          "2024",
          "2024",
          "2024",
          "2024",
          "2024",
          "2024",
          "2024"
         ],
         "xaxis": "x",
         "yaxis": "y"
        },
        {
         "alignmentgroup": "True",
         "bingroup": "x",
         "hovertemplate": "toss_winner=Punjab Kings<br>season=%{x}<br>count=%{y}<extra></extra>",
         "legendgroup": "Punjab Kings",
         "marker": {
          "color": "#19d3f3",
          "pattern": {
           "shape": ""
          }
         },
         "name": "Punjab Kings",
         "offsetgroup": "Punjab Kings",
         "orientation": "v",
         "showlegend": true,
         "type": "histogram",
         "x": [
          "2021",
          "2021",
          "2021",
          "2021",
          "2021",
          "2022",
          "2022",
          "2022",
          "2022",
          "2023",
          "2023",
          "2023",
          "2023",
          "2023",
          "2024",
          "2024",
          "2024",
          "2024",
          "2024",
          "2024",
          "2024",
          "2024",
          "2024",
          "2024"
         ],
         "xaxis": "x",
         "yaxis": "y"
        },
        {
         "alignmentgroup": "True",
         "bingroup": "x",
         "hovertemplate": "toss_winner=Gujarat Titans<br>season=%{x}<br>count=%{y}<extra></extra>",
         "legendgroup": "Gujarat Titans",
         "marker": {
          "color": "#FF6692",
          "pattern": {
           "shape": ""
          }
         },
         "name": "Gujarat Titans",
         "offsetgroup": "Gujarat Titans",
         "orientation": "v",
         "showlegend": true,
         "type": "histogram",
         "x": [
          "2022",
          "2022",
          "2022",
          "2022",
          "2022",
          "2022",
          "2022",
          "2022",
          "2022",
          "2022",
          "2023",
          "2023",
          "2023",
          "2023",
          "2023",
          "2023",
          "2023",
          "2023",
          "2023",
          "2024",
          "2024",
          "2024"
         ],
         "xaxis": "x",
         "yaxis": "y"
        },
        {
         "alignmentgroup": "True",
         "bingroup": "x",
         "hovertemplate": "toss_winner=Lucknow Super Giants<br>season=%{x}<br>count=%{y}<extra></extra>",
         "legendgroup": "Lucknow Super Giants",
         "marker": {
          "color": "#B6E880",
          "pattern": {
           "shape": ""
          }
         },
         "name": "Lucknow Super Giants",
         "offsetgroup": "Lucknow Super Giants",
         "orientation": "v",
         "showlegend": true,
         "type": "histogram",
         "x": [
          "2022",
          "2022",
          "2022",
          "2022",
          "2022",
          "2022",
          "2022",
          "2023",
          "2023",
          "2023",
          "2024",
          "2024",
          "2024",
          "2024",
          "2024",
          "2024",
          "2024",
          "2024",
          "2024"
         ],
         "xaxis": "x",
         "yaxis": "y"
        },
        {
         "alignmentgroup": "True",
         "bingroup": "x",
         "hovertemplate": "toss_winner=Royal Challengers Bengaluru<br>season=%{x}<br>count=%{y}<extra></extra>",
         "legendgroup": "Royal Challengers Bengaluru",
         "marker": {
          "color": "#FF97FF",
          "pattern": {
           "shape": ""
          }
         },
         "name": "Royal Challengers Bengaluru",
         "offsetgroup": "Royal Challengers Bengaluru",
         "orientation": "v",
         "showlegend": true,
         "type": "histogram",
         "x": [
          "2024",
          "2024",
          "2024",
          "2024",
          "2024",
          "2024",
          "2024",
          "2024"
         ],
         "xaxis": "x",
         "yaxis": "y"
        }
       ],
       "layout": {
        "barmode": "relative",
        "legend": {
         "title": {
          "text": "toss_winner"
         },
         "tracegroupgap": 0
        },
        "margin": {
         "t": 60
        },
        "template": {
         "data": {
          "bar": [
           {
            "error_x": {
             "color": "#2a3f5f"
            },
            "error_y": {
             "color": "#2a3f5f"
            },
            "marker": {
             "line": {
              "color": "#E5ECF6",
              "width": 0.5
             },
             "pattern": {
              "fillmode": "overlay",
              "size": 10,
              "solidity": 0.2
             }
            },
            "type": "bar"
           }
          ],
          "barpolar": [
           {
            "marker": {
             "line": {
              "color": "#E5ECF6",
              "width": 0.5
             },
             "pattern": {
              "fillmode": "overlay",
              "size": 10,
              "solidity": 0.2
             }
            },
            "type": "barpolar"
           }
          ],
          "carpet": [
           {
            "aaxis": {
             "endlinecolor": "#2a3f5f",
             "gridcolor": "white",
             "linecolor": "white",
             "minorgridcolor": "white",
             "startlinecolor": "#2a3f5f"
            },
            "baxis": {
             "endlinecolor": "#2a3f5f",
             "gridcolor": "white",
             "linecolor": "white",
             "minorgridcolor": "white",
             "startlinecolor": "#2a3f5f"
            },
            "type": "carpet"
           }
          ],
          "choropleth": [
           {
            "colorbar": {
             "outlinewidth": 0,
             "ticks": ""
            },
            "type": "choropleth"
           }
          ],
          "contour": [
           {
            "colorbar": {
             "outlinewidth": 0,
             "ticks": ""
            },
            "colorscale": [
             [
              0,
              "#0d0887"
             ],
             [
              0.1111111111111111,
              "#46039f"
             ],
             [
              0.2222222222222222,
              "#7201a8"
             ],
             [
              0.3333333333333333,
              "#9c179e"
             ],
             [
              0.4444444444444444,
              "#bd3786"
             ],
             [
              0.5555555555555556,
              "#d8576b"
             ],
             [
              0.6666666666666666,
              "#ed7953"
             ],
             [
              0.7777777777777778,
              "#fb9f3a"
             ],
             [
              0.8888888888888888,
              "#fdca26"
             ],
             [
              1,
              "#f0f921"
             ]
            ],
            "type": "contour"
           }
          ],
          "contourcarpet": [
           {
            "colorbar": {
             "outlinewidth": 0,
             "ticks": ""
            },
            "type": "contourcarpet"
           }
          ],
          "heatmap": [
           {
            "colorbar": {
             "outlinewidth": 0,
             "ticks": ""
            },
            "colorscale": [
             [
              0,
              "#0d0887"
             ],
             [
              0.1111111111111111,
              "#46039f"
             ],
             [
              0.2222222222222222,
              "#7201a8"
             ],
             [
              0.3333333333333333,
              "#9c179e"
             ],
             [
              0.4444444444444444,
              "#bd3786"
             ],
             [
              0.5555555555555556,
              "#d8576b"
             ],
             [
              0.6666666666666666,
              "#ed7953"
             ],
             [
              0.7777777777777778,
              "#fb9f3a"
             ],
             [
              0.8888888888888888,
              "#fdca26"
             ],
             [
              1,
              "#f0f921"
             ]
            ],
            "type": "heatmap"
           }
          ],
          "heatmapgl": [
           {
            "colorbar": {
             "outlinewidth": 0,
             "ticks": ""
            },
            "colorscale": [
             [
              0,
              "#0d0887"
             ],
             [
              0.1111111111111111,
              "#46039f"
             ],
             [
              0.2222222222222222,
              "#7201a8"
             ],
             [
              0.3333333333333333,
              "#9c179e"
             ],
             [
              0.4444444444444444,
              "#bd3786"
             ],
             [
              0.5555555555555556,
              "#d8576b"
             ],
             [
              0.6666666666666666,
              "#ed7953"
             ],
             [
              0.7777777777777778,
              "#fb9f3a"
             ],
             [
              0.8888888888888888,
              "#fdca26"
             ],
             [
              1,
              "#f0f921"
             ]
            ],
            "type": "heatmapgl"
           }
          ],
          "histogram": [
           {
            "marker": {
             "pattern": {
              "fillmode": "overlay",
              "size": 10,
              "solidity": 0.2
             }
            },
            "type": "histogram"
           }
          ],
          "histogram2d": [
           {
            "colorbar": {
             "outlinewidth": 0,
             "ticks": ""
            },
            "colorscale": [
             [
              0,
              "#0d0887"
             ],
             [
              0.1111111111111111,
              "#46039f"
             ],
             [
              0.2222222222222222,
              "#7201a8"
             ],
             [
              0.3333333333333333,
              "#9c179e"
             ],
             [
              0.4444444444444444,
              "#bd3786"
             ],
             [
              0.5555555555555556,
              "#d8576b"
             ],
             [
              0.6666666666666666,
              "#ed7953"
             ],
             [
              0.7777777777777778,
              "#fb9f3a"
             ],
             [
              0.8888888888888888,
              "#fdca26"
             ],
             [
              1,
              "#f0f921"
             ]
            ],
            "type": "histogram2d"
           }
          ],
          "histogram2dcontour": [
           {
            "colorbar": {
             "outlinewidth": 0,
             "ticks": ""
            },
            "colorscale": [
             [
              0,
              "#0d0887"
             ],
             [
              0.1111111111111111,
              "#46039f"
             ],
             [
              0.2222222222222222,
              "#7201a8"
             ],
             [
              0.3333333333333333,
              "#9c179e"
             ],
             [
              0.4444444444444444,
              "#bd3786"
             ],
             [
              0.5555555555555556,
              "#d8576b"
             ],
             [
              0.6666666666666666,
              "#ed7953"
             ],
             [
              0.7777777777777778,
              "#fb9f3a"
             ],
             [
              0.8888888888888888,
              "#fdca26"
             ],
             [
              1,
              "#f0f921"
             ]
            ],
            "type": "histogram2dcontour"
           }
          ],
          "mesh3d": [
           {
            "colorbar": {
             "outlinewidth": 0,
             "ticks": ""
            },
            "type": "mesh3d"
           }
          ],
          "parcoords": [
           {
            "line": {
             "colorbar": {
              "outlinewidth": 0,
              "ticks": ""
             }
            },
            "type": "parcoords"
           }
          ],
          "pie": [
           {
            "automargin": true,
            "type": "pie"
           }
          ],
          "scatter": [
           {
            "fillpattern": {
             "fillmode": "overlay",
             "size": 10,
             "solidity": 0.2
            },
            "type": "scatter"
           }
          ],
          "scatter3d": [
           {
            "line": {
             "colorbar": {
              "outlinewidth": 0,
              "ticks": ""
             }
            },
            "marker": {
             "colorbar": {
              "outlinewidth": 0,
              "ticks": ""
             }
            },
            "type": "scatter3d"
           }
          ],
          "scattercarpet": [
           {
            "marker": {
             "colorbar": {
              "outlinewidth": 0,
              "ticks": ""
             }
            },
            "type": "scattercarpet"
           }
          ],
          "scattergeo": [
           {
            "marker": {
             "colorbar": {
              "outlinewidth": 0,
              "ticks": ""
             }
            },
            "type": "scattergeo"
           }
          ],
          "scattergl": [
           {
            "marker": {
             "colorbar": {
              "outlinewidth": 0,
              "ticks": ""
             }
            },
            "type": "scattergl"
           }
          ],
          "scattermapbox": [
           {
            "marker": {
             "colorbar": {
              "outlinewidth": 0,
              "ticks": ""
             }
            },
            "type": "scattermapbox"
           }
          ],
          "scatterpolar": [
           {
            "marker": {
             "colorbar": {
              "outlinewidth": 0,
              "ticks": ""
             }
            },
            "type": "scatterpolar"
           }
          ],
          "scatterpolargl": [
           {
            "marker": {
             "colorbar": {
              "outlinewidth": 0,
              "ticks": ""
             }
            },
            "type": "scatterpolargl"
           }
          ],
          "scatterternary": [
           {
            "marker": {
             "colorbar": {
              "outlinewidth": 0,
              "ticks": ""
             }
            },
            "type": "scatterternary"
           }
          ],
          "surface": [
           {
            "colorbar": {
             "outlinewidth": 0,
             "ticks": ""
            },
            "colorscale": [
             [
              0,
              "#0d0887"
             ],
             [
              0.1111111111111111,
              "#46039f"
             ],
             [
              0.2222222222222222,
              "#7201a8"
             ],
             [
              0.3333333333333333,
              "#9c179e"
             ],
             [
              0.4444444444444444,
              "#bd3786"
             ],
             [
              0.5555555555555556,
              "#d8576b"
             ],
             [
              0.6666666666666666,
              "#ed7953"
             ],
             [
              0.7777777777777778,
              "#fb9f3a"
             ],
             [
              0.8888888888888888,
              "#fdca26"
             ],
             [
              1,
              "#f0f921"
             ]
            ],
            "type": "surface"
           }
          ],
          "table": [
           {
            "cells": {
             "fill": {
              "color": "#EBF0F8"
             },
             "line": {
              "color": "white"
             }
            },
            "header": {
             "fill": {
              "color": "#C8D4E3"
             },
             "line": {
              "color": "white"
             }
            },
            "type": "table"
           }
          ]
         },
         "layout": {
          "annotationdefaults": {
           "arrowcolor": "#2a3f5f",
           "arrowhead": 0,
           "arrowwidth": 1
          },
          "autotypenumbers": "strict",
          "coloraxis": {
           "colorbar": {
            "outlinewidth": 0,
            "ticks": ""
           }
          },
          "colorscale": {
           "diverging": [
            [
             0,
             "#8e0152"
            ],
            [
             0.1,
             "#c51b7d"
            ],
            [
             0.2,
             "#de77ae"
            ],
            [
             0.3,
             "#f1b6da"
            ],
            [
             0.4,
             "#fde0ef"
            ],
            [
             0.5,
             "#f7f7f7"
            ],
            [
             0.6,
             "#e6f5d0"
            ],
            [
             0.7,
             "#b8e186"
            ],
            [
             0.8,
             "#7fbc41"
            ],
            [
             0.9,
             "#4d9221"
            ],
            [
             1,
             "#276419"
            ]
           ],
           "sequential": [
            [
             0,
             "#0d0887"
            ],
            [
             0.1111111111111111,
             "#46039f"
            ],
            [
             0.2222222222222222,
             "#7201a8"
            ],
            [
             0.3333333333333333,
             "#9c179e"
            ],
            [
             0.4444444444444444,
             "#bd3786"
            ],
            [
             0.5555555555555556,
             "#d8576b"
            ],
            [
             0.6666666666666666,
             "#ed7953"
            ],
            [
             0.7777777777777778,
             "#fb9f3a"
            ],
            [
             0.8888888888888888,
             "#fdca26"
            ],
            [
             1,
             "#f0f921"
            ]
           ],
           "sequentialminus": [
            [
             0,
             "#0d0887"
            ],
            [
             0.1111111111111111,
             "#46039f"
            ],
            [
             0.2222222222222222,
             "#7201a8"
            ],
            [
             0.3333333333333333,
             "#9c179e"
            ],
            [
             0.4444444444444444,
             "#bd3786"
            ],
            [
             0.5555555555555556,
             "#d8576b"
            ],
            [
             0.6666666666666666,
             "#ed7953"
            ],
            [
             0.7777777777777778,
             "#fb9f3a"
            ],
            [
             0.8888888888888888,
             "#fdca26"
            ],
            [
             1,
             "#f0f921"
            ]
           ]
          },
          "colorway": [
           "#636efa",
           "#EF553B",
           "#00cc96",
           "#ab63fa",
           "#FFA15A",
           "#19d3f3",
           "#FF6692",
           "#B6E880",
           "#FF97FF",
           "#FECB52"
          ],
          "font": {
           "color": "#2a3f5f"
          },
          "geo": {
           "bgcolor": "white",
           "lakecolor": "white",
           "landcolor": "#E5ECF6",
           "showlakes": true,
           "showland": true,
           "subunitcolor": "white"
          },
          "hoverlabel": {
           "align": "left"
          },
          "hovermode": "closest",
          "mapbox": {
           "style": "light"
          },
          "paper_bgcolor": "white",
          "plot_bgcolor": "#E5ECF6",
          "polar": {
           "angularaxis": {
            "gridcolor": "white",
            "linecolor": "white",
            "ticks": ""
           },
           "bgcolor": "#E5ECF6",
           "radialaxis": {
            "gridcolor": "white",
            "linecolor": "white",
            "ticks": ""
           }
          },
          "scene": {
           "xaxis": {
            "backgroundcolor": "#E5ECF6",
            "gridcolor": "white",
            "gridwidth": 2,
            "linecolor": "white",
            "showbackground": true,
            "ticks": "",
            "zerolinecolor": "white"
           },
           "yaxis": {
            "backgroundcolor": "#E5ECF6",
            "gridcolor": "white",
            "gridwidth": 2,
            "linecolor": "white",
            "showbackground": true,
            "ticks": "",
            "zerolinecolor": "white"
           },
           "zaxis": {
            "backgroundcolor": "#E5ECF6",
            "gridcolor": "white",
            "gridwidth": 2,
            "linecolor": "white",
            "showbackground": true,
            "ticks": "",
            "zerolinecolor": "white"
           }
          },
          "shapedefaults": {
           "line": {
            "color": "#2a3f5f"
           }
          },
          "ternary": {
           "aaxis": {
            "gridcolor": "white",
            "linecolor": "white",
            "ticks": ""
           },
           "baxis": {
            "gridcolor": "white",
            "linecolor": "white",
            "ticks": ""
           },
           "bgcolor": "#E5ECF6",
           "caxis": {
            "gridcolor": "white",
            "linecolor": "white",
            "ticks": ""
           }
          },
          "title": {
           "x": 0.05
          },
          "xaxis": {
           "automargin": true,
           "gridcolor": "white",
           "linecolor": "white",
           "ticks": "",
           "title": {
            "standoff": 15
           },
           "zerolinecolor": "white",
           "zerolinewidth": 2
          },
          "yaxis": {
           "automargin": true,
           "gridcolor": "white",
           "linecolor": "white",
           "ticks": "",
           "title": {
            "standoff": 15
           },
           "zerolinecolor": "white",
           "zerolinewidth": 2
          }
         }
        },
        "xaxis": {
         "anchor": "y",
         "domain": [
          0,
          1
         ],
         "title": {
          "text": "season"
         }
        },
        "yaxis": {
         "anchor": "x",
         "domain": [
          0,
          1
         ],
         "title": {
          "text": "count"
         }
        }
       }
      }
     },
     "metadata": {},
     "output_type": "display_data"
    }
   ],
   "source": [
    "\n",
    "fig = px.histogram(data_frame=ds,x='season',color='toss_winner')\n",
    "fig.show()"
   ]
  },
  {
   "cell_type": "code",
   "execution_count": 11,
   "metadata": {},
   "outputs": [
    {
     "data": {
      "application/vnd.plotly.v1+json": {
       "config": {
        "plotlyServerURL": "https://plot.ly"
       },
       "data": [
        {
         "alignmentgroup": "True",
         "bingroup": "x",
         "hovertemplate": "season=2007/08<br>winner=%{x}<br>count=%{y}<extra></extra>",
         "legendgroup": "2007/08",
         "marker": {
          "color": "#636efa",
          "pattern": {
           "shape": ""
          }
         },
         "name": "2007/08",
         "offsetgroup": "2007/08",
         "orientation": "v",
         "showlegend": true,
         "type": "histogram",
         "x": [
          "Kolkata Knight Riders",
          "Chennai Super Kings",
          "Delhi Daredevils",
          "Royal Challengers Bangalore",
          "Kolkata Knight Riders",
          "Rajasthan Royals",
          "Delhi Daredevils",
          "Chennai Super Kings",
          "Rajasthan Royals",
          "Kings XI Punjab",
          "Rajasthan Royals",
          "Chennai Super Kings",
          "Deccan Chargers",
          "Kings XI Punjab",
          "Chennai Super Kings",
          "Mumbai Indians",
          "Delhi Daredevils",
          "Kings XI Punjab",
          "Rajasthan Royals",
          "Delhi Daredevils",
          "Kings XI Punjab",
          "Royal Challengers Bangalore",
          "Mumbai Indians",
          "Rajasthan Royals",
          "Kings XI Punjab",
          "Deccan Chargers",
          "Mumbai Indians",
          "Chennai Super Kings",
          "Kolkata Knight Riders",
          "Rajasthan Royals",
          "Chennai Super Kings",
          "Kolkata Knight Riders",
          "Rajasthan Royals",
          "Kings XI Punjab",
          "Kolkata Knight Riders",
          "Mumbai Indians",
          "Delhi Daredevils",
          "Mumbai Indians",
          "Kings XI Punjab",
          "Rajasthan Royals",
          "Mumbai Indians",
          "Chennai Super Kings",
          "Delhi Daredevils",
          "Rajasthan Royals",
          "Kings XI Punjab",
          "Royal Challengers Bangalore",
          "Kings XI Punjab",
          "Delhi Daredevils",
          "Rajasthan Royals",
          "Royal Challengers Bangalore",
          "Kolkata Knight Riders",
          "Rajasthan Royals",
          "Chennai Super Kings",
          "Mumbai Indians",
          "Kings XI Punjab",
          "Rajasthan Royals",
          "Chennai Super Kings",
          "Rajasthan Royals"
         ],
         "xaxis": "x",
         "yaxis": "y"
        },
        {
         "alignmentgroup": "True",
         "bingroup": "x",
         "hovertemplate": "season=2009<br>winner=%{x}<br>count=%{y}<extra></extra>",
         "legendgroup": "2009",
         "marker": {
          "color": "#EF553B",
          "pattern": {
           "shape": ""
          }
         },
         "name": "2009",
         "offsetgroup": "2009",
         "orientation": "v",
         "showlegend": true,
         "type": "histogram",
         "x": [
          "Mumbai Indians",
          "Royal Challengers Bangalore",
          "Delhi Daredevils",
          "Deccan Chargers",
          "Chennai Super Kings",
          "Kolkata Knight Riders",
          "Deccan Chargers",
          "Delhi Daredevils",
          "Rajasthan Royals",
          "Kings XI Punjab",
          "Deccan Chargers",
          "Delhi Daredevils",
          "Kings XI Punjab",
          "Deccan Chargers",
          "Mumbai Indians",
          "Rajasthan Royals",
          "Royal Challengers Bangalore",
          "Kings XI Punjab",
          "Delhi Daredevils",
          "Chennai Super Kings",
          "Mumbai Indians",
          "Royal Challengers Bangalore",
          "Rajasthan Royals",
          "Chennai Super Kings",
          "Kings XI Punjab",
          "Royal Challengers Bangalore",
          "Chennai Super Kings",
          "Rajasthan Royals",
          "Delhi Daredevils",
          "Deccan Chargers",
          "Rajasthan Royals",
          "Chennai Super Kings",
          "Delhi Daredevils",
          "Kings XI Punjab",
          "Chennai Super Kings",
          "Mumbai Indians",
          "Delhi Daredevils",
          "Deccan Chargers",
          "Royal Challengers Bangalore",
          "Mumbai Indians",
          "Delhi Daredevils",
          "Royal Challengers Bangalore",
          "Rajasthan Royals",
          "Kings XI Punjab",
          "Chennai Super Kings",
          "Deccan Chargers",
          "Kings XI Punjab",
          "Delhi Daredevils",
          "Kolkata Knight Riders",
          "Royal Challengers Bangalore",
          "Kolkata Knight Riders",
          "Chennai Super Kings",
          "Delhi Daredevils",
          "Royal Challengers Bangalore",
          "Deccan Chargers",
          "Royal Challengers Bangalore",
          "Deccan Chargers"
         ],
         "xaxis": "x",
         "yaxis": "y"
        },
        {
         "alignmentgroup": "True",
         "bingroup": "x",
         "hovertemplate": "season=2009/10<br>winner=%{x}<br>count=%{y}<extra></extra>",
         "legendgroup": "2009/10",
         "marker": {
          "color": "#00cc96",
          "pattern": {
           "shape": ""
          }
         },
         "name": "2009/10",
         "offsetgroup": "2009/10",
         "orientation": "v",
         "showlegend": true,
         "type": "histogram",
         "x": [
          "Kolkata Knight Riders",
          "Mumbai Indians",
          "Delhi Daredevils",
          "Kolkata Knight Riders",
          "Deccan Chargers",
          "Delhi Daredevils",
          "Royal Challengers Bangalore",
          "Chennai Super Kings",
          "Mumbai Indians",
          "Royal Challengers Bangalore",
          "Chennai Super Kings",
          "Deccan Chargers",
          "Rajasthan Royals",
          "Royal Challengers Bangalore",
          "Deccan Chargers",
          "Kings XI Punjab",
          "Mumbai Indians",
          "Royal Challengers Bangalore",
          "Rajasthan Royals",
          "Mumbai Indians",
          "Delhi Daredevils",
          "Rajasthan Royals",
          "Kolkata Knight Riders",
          "Rajasthan Royals",
          "Mumbai Indians",
          "Delhi Daredevils",
          "Mumbai Indians",
          "Chennai Super Kings",
          "Delhi Daredevils",
          "Kolkata Knight Riders",
          "Royal Challengers Bangalore",
          "Chennai Super Kings",
          "Mumbai Indians",
          "Kings XI Punjab",
          "Delhi Daredevils",
          "Rajasthan Royals",
          "Chennai Super Kings",
          "Rajasthan Royals",
          "Kolkata Knight Riders",
          "Deccan Chargers",
          "Kings XI Punjab",
          "Deccan Chargers",
          "Royal Challengers Bangalore",
          "Kings XI Punjab",
          "Mumbai Indians",
          "Deccan Chargers",
          "Mumbai Indians",
          "Chennai Super Kings",
          "Royal Challengers Bangalore",
          "Delhi Daredevils",
          "Deccan Chargers",
          "Mumbai Indians",
          "Kolkata Knight Riders",
          "Chennai Super Kings",
          "Deccan Chargers",
          "Kolkata Knight Riders",
          "Mumbai Indians",
          "Chennai Super Kings",
          "Royal Challengers Bangalore",
          "Chennai Super Kings"
         ],
         "xaxis": "x",
         "yaxis": "y"
        },
        {
         "alignmentgroup": "True",
         "bingroup": "x",
         "hovertemplate": "season=2011<br>winner=%{x}<br>count=%{y}<extra></extra>",
         "legendgroup": "2011",
         "marker": {
          "color": "#ab63fa",
          "pattern": {
           "shape": ""
          }
         },
         "name": "2011",
         "offsetgroup": "2011",
         "orientation": "v",
         "showlegend": true,
         "type": "histogram",
         "x": [
          "Chennai Super Kings",
          "Rajasthan Royals",
          "Royal Challengers Bangalore",
          "Mumbai Indians",
          "Pune Warriors",
          "Kolkata Knight Riders",
          "Rajasthan Royals",
          "Mumbai Indians",
          "Kings XI Punjab",
          "Pune Warriors",
          "Deccan Chargers",
          "Kolkata Knight Riders",
          "Kochi Tuskers Kerala",
          "Chennai Super Kings",
          "Kings XI Punjab",
          "Delhi Daredevils",
          "Kolkata Knight Riders",
          "Kochi Tuskers Kerala",
          "Deccan Chargers",
          "Mumbai Indians",
          "Kochi Tuskers Kerala",
          "Kings XI Punjab",
          "Mumbai Indians",
          "Royal Challengers Bangalore",
          "Delhi Daredevils",
          "Mumbai Indians",
          "Rajasthan Royals",
          "Chennai Super Kings",
          "Royal Challengers Bangalore",
          "Chennai Super Kings",
          "Deccan Chargers",
          "Kolkata Knight Riders",
          "Rajasthan Royals",
          "Royal Challengers Bangalore",
          "Delhi Daredevils",
          "Kolkata Knight Riders",
          "Rajasthan Royals",
          "Chennai Super Kings",
          "Mumbai Indians",
          "Kochi Tuskers Kerala",
          "Kolkata Knight Riders",
          "Chennai Super Kings",
          "Mumbai Indians",
          "Kochi Tuskers Kerala",
          "Delhi Daredevils",
          "Royal Challengers Bangalore",
          "Kolkata Knight Riders",
          "Mumbai Indians",
          "Royal Challengers Bangalore",
          "Pune Warriors",
          "Chennai Super Kings",
          "Pune Warriors",
          "Kings XI Punjab",
          "Royal Challengers Bangalore",
          "Chennai Super Kings",
          "Kings XI Punjab",
          "Royal Challengers Bangalore",
          "Deccan Chargers",
          "Kings XI Punjab",
          "Kochi Tuskers Kerala",
          "Deccan Chargers",
          "Kings XI Punjab",
          "Chennai Super Kings",
          "Kolkata Knight Riders",
          "Rajasthan Royals",
          "Deccan Chargers",
          null,
          "Royal Challengers Bangalore",
          "Mumbai Indians",
          "Chennai Super Kings",
          "Mumbai Indians",
          "Royal Challengers Bangalore",
          "Chennai Super Kings"
         ],
         "xaxis": "x",
         "yaxis": "y"
        },
        {
         "alignmentgroup": "True",
         "bingroup": "x",
         "hovertemplate": "season=2012<br>winner=%{x}<br>count=%{y}<extra></extra>",
         "legendgroup": "2012",
         "marker": {
          "color": "#FFA15A",
          "pattern": {
           "shape": ""
          }
         },
         "name": "2012",
         "offsetgroup": "2012",
         "orientation": "v",
         "showlegend": true,
         "type": "histogram",
         "x": [
          "Mumbai Indians",
          "Delhi Daredevils",
          "Pune Warriors",
          "Rajasthan Royals",
          "Royal Challengers Bangalore",
          "Chennai Super Kings",
          "Rajasthan Royals",
          "Pune Warriors",
          "Mumbai Indians",
          "Kolkata Knight Riders",
          "Delhi Daredevils",
          "Mumbai Indians",
          "Chennai Super Kings",
          "Kings XI Punjab",
          "Kolkata Knight Riders",
          "Pune Warriors",
          "Kings XI Punjab",
          "Rajasthan Royals",
          "Delhi Daredevils",
          "Rajasthan Royals",
          "Royal Challengers Bangalore",
          "Kolkata Knight Riders",
          "Delhi Daredevils",
          "Chennai Super Kings",
          "Royal Challengers Bangalore",
          "Chennai Super Kings",
          "Pune Warriors",
          "Kings XI Punjab",
          "Kolkata Knight Riders",
          "Royal Challengers Bangalore",
          "Delhi Daredevils",
          "Mumbai Indians",
          "Deccan Chargers",
          "Delhi Daredevils",
          "Kings XI Punjab",
          "Kolkata Knight Riders",
          "Delhi Daredevils",
          "Mumbai Indians",
          "Kolkata Knight Riders",
          "Deccan Chargers",
          "Delhi Daredevils",
          "Kings XI Punjab",
          "Mumbai Indians",
          "Chennai Super Kings",
          "Kolkata Knight Riders",
          "Rajasthan Royals",
          "Mumbai Indians",
          "Royal Challengers Bangalore",
          "Kolkata Knight Riders",
          "Rajasthan Royals",
          "Kings XI Punjab",
          "Royal Challengers Bangalore",
          "Delhi Daredevils",
          "Chennai Super Kings",
          "Royal Challengers Bangalore",
          "Mumbai Indians",
          "Chennai Super Kings",
          "Rajasthan Royals",
          "Kings XI Punjab",
          "Mumbai Indians",
          "Chennai Super Kings",
          "Delhi Daredevils",
          "Kolkata Knight Riders",
          "Kings XI Punjab",
          "Royal Challengers Bangalore",
          "Deccan Chargers",
          "Delhi Daredevils",
          "Kolkata Knight Riders",
          "Deccan Chargers",
          "Mumbai Indians",
          "Kolkata Knight Riders",
          "Chennai Super Kings",
          "Chennai Super Kings",
          "Kolkata Knight Riders"
         ],
         "xaxis": "x",
         "yaxis": "y"
        },
        {
         "alignmentgroup": "True",
         "bingroup": "x",
         "hovertemplate": "season=2013<br>winner=%{x}<br>count=%{y}<extra></extra>",
         "legendgroup": "2013",
         "marker": {
          "color": "#19d3f3",
          "pattern": {
           "shape": ""
          }
         },
         "name": "2013",
         "offsetgroup": "2013",
         "orientation": "v",
         "showlegend": true,
         "type": "histogram",
         "x": [
          "Kolkata Knight Riders",
          "Royal Challengers Bangalore",
          "Sunrisers Hyderabad",
          "Rajasthan Royals",
          "Mumbai Indians",
          "Kings XI Punjab",
          "Sunrisers Hyderabad",
          "Rajasthan Royals",
          "Mumbai Indians",
          "Royal Challengers Bangalore",
          "Chennai Super Kings",
          "Royal Challengers Bangalore",
          "Pune Warriors",
          "Sunrisers Hyderabad",
          "Mumbai Indians",
          "Chennai Super Kings",
          "Kolkata Knight Riders",
          "Rajasthan Royals",
          "Pune Warriors",
          "Kings XI Punjab",
          "Royal Challengers Bangalore",
          "Sunrisers Hyderabad",
          "Rajasthan Royals",
          "Chennai Super Kings",
          "Sunrisers Hyderabad",
          "Chennai Super Kings",
          "Royal Challengers Bangalore",
          "Delhi Daredevils",
          "Kings XI Punjab",
          "Chennai Super Kings",
          "Royal Challengers Bangalore",
          "Kings XI Punjab",
          "Mumbai Indians",
          "Chennai Super Kings",
          "Kolkata Knight Riders",
          "Rajasthan Royals",
          "Mumbai Indians",
          "Chennai Super Kings",
          "Delhi Daredevils",
          "Rajasthan Royals",
          "Mumbai Indians",
          "Chennai Super Kings",
          "Sunrisers Hyderabad",
          "Delhi Daredevils",
          "Chennai Super Kings",
          "Royal Challengers Bangalore",
          "Kolkata Knight Riders",
          "Sunrisers Hyderabad",
          "Mumbai Indians",
          "Rajasthan Royals",
          "Kings XI Punjab",
          "Rajasthan Royals",
          "Mumbai Indians",
          "Chennai Super Kings",
          "Rajasthan Royals",
          "Kolkata Knight Riders",
          "Royal Challengers Bangalore",
          "Mumbai Indians",
          "Sunrisers Hyderabad",
          "Kolkata Knight Riders",
          "Rajasthan Royals",
          "Mumbai Indians",
          "Kings XI Punjab",
          "Chennai Super Kings",
          "Pune Warriors",
          "Mumbai Indians",
          "Kings XI Punjab",
          "Sunrisers Hyderabad",
          "Kings XI Punjab",
          "Royal Challengers Bangalore",
          "Pune Warriors",
          "Sunrisers Hyderabad",
          "Chennai Super Kings",
          "Rajasthan Royals",
          "Mumbai Indians",
          "Mumbai Indians"
         ],
         "xaxis": "x",
         "yaxis": "y"
        },
        {
         "alignmentgroup": "True",
         "bingroup": "x",
         "hovertemplate": "season=2014<br>winner=%{x}<br>count=%{y}<extra></extra>",
         "legendgroup": "2014",
         "marker": {
          "color": "#FF6692",
          "pattern": {
           "shape": ""
          }
         },
         "name": "2014",
         "offsetgroup": "2014",
         "orientation": "v",
         "showlegend": true,
         "type": "histogram",
         "x": [
          "Kolkata Knight Riders",
          "Royal Challengers Bangalore",
          "Kings XI Punjab",
          "Rajasthan Royals",
          "Royal Challengers Bangalore",
          "Delhi Daredevils",
          "Kings XI Punjab",
          "Chennai Super Kings",
          "Kings XI Punjab",
          "Chennai Super Kings",
          "Kolkata Knight Riders",
          "Sunrisers Hyderabad",
          "Chennai Super Kings",
          "Rajasthan Royals",
          "Kings XI Punjab",
          "Delhi Daredevils",
          "Chennai Super Kings",
          "Kings XI Punjab",
          "Rajasthan Royals",
          "Sunrisers Hyderabad",
          "Chennai Super Kings",
          "Mumbai Indians",
          "Rajasthan Royals",
          "Royal Challengers Bangalore",
          "Rajasthan Royals",
          "Chennai Super Kings",
          "Mumbai Indians",
          "Kolkata Knight Riders",
          "Kings XI Punjab",
          "Sunrisers Hyderabad",
          "Kings XI Punjab",
          "Sunrisers Hyderabad",
          "Chennai Super Kings",
          "Kolkata Knight Riders",
          "Rajasthan Royals",
          "Mumbai Indians",
          "Chennai Super Kings",
          "Royal Challengers Bangalore",
          "Kings XI Punjab",
          "Kolkata Knight Riders",
          "Rajasthan Royals",
          "Royal Challengers Bangalore",
          "Kolkata Knight Riders",
          "Mumbai Indians",
          "Kings XI Punjab",
          "Sunrisers Hyderabad",
          "Kolkata Knight Riders",
          "Mumbai Indians",
          "Kolkata Knight Riders",
          "Sunrisers Hyderabad",
          "Mumbai Indians",
          "Kings XI Punjab",
          "Chennai Super Kings",
          "Kolkata Knight Riders",
          "Kings XI Punjab",
          "Mumbai Indians",
          "Kolkata Knight Riders",
          "Chennai Super Kings",
          "Kings XI Punjab",
          "Kolkata Knight Riders"
         ],
         "xaxis": "x",
         "yaxis": "y"
        },
        {
         "alignmentgroup": "True",
         "bingroup": "x",
         "hovertemplate": "season=2015<br>winner=%{x}<br>count=%{y}<extra></extra>",
         "legendgroup": "2015",
         "marker": {
          "color": "#B6E880",
          "pattern": {
           "shape": ""
          }
         },
         "name": "2015",
         "offsetgroup": "2015",
         "orientation": "v",
         "showlegend": true,
         "type": "histogram",
         "x": [
          "Kolkata Knight Riders",
          "Chennai Super Kings",
          "Rajasthan Royals",
          "Chennai Super Kings",
          "Royal Challengers Bangalore",
          "Rajasthan Royals",
          "Kings XI Punjab",
          "Sunrisers Hyderabad",
          "Rajasthan Royals",
          "Delhi Daredevils",
          "Rajasthan Royals",
          "Chennai Super Kings",
          "Delhi Daredevils",
          "Kolkata Knight Riders",
          "Rajasthan Royals",
          "Mumbai Indians",
          "Kolkata Knight Riders",
          "Kings XI Punjab",
          "Sunrisers Hyderabad",
          "Chennai Super Kings",
          "Delhi Daredevils",
          "Royal Challengers Bangalore",
          "Mumbai Indians",
          "Chennai Super Kings",
          "Royal Challengers Bangalore",
          "Sunrisers Hyderabad",
          "Chennai Super Kings",
          null,
          "Kolkata Knight Riders",
          "Delhi Daredevils",
          "Mumbai Indians",
          "Royal Challengers Bangalore",
          "Sunrisers Hyderabad",
          "Mumbai Indians",
          "Rajasthan Royals",
          "Chennai Super Kings",
          "Kolkata Knight Riders",
          "Mumbai Indians",
          "Royal Challengers Bangalore",
          "Kolkata Knight Riders",
          "Sunrisers Hyderabad",
          "Mumbai Indians",
          "Kolkata Knight Riders",
          "Sunrisers Hyderabad",
          "Royal Challengers Bangalore",
          "Chennai Super Kings",
          "Sunrisers Hyderabad",
          "Delhi Daredevils",
          "Kings XI Punjab",
          "Mumbai Indians",
          "Royal Challengers Bangalore",
          "Chennai Super Kings",
          "Rajasthan Royals",
          null,
          "Mumbai Indians",
          "Mumbai Indians",
          "Royal Challengers Bangalore",
          "Chennai Super Kings",
          "Mumbai Indians"
         ],
         "xaxis": "x",
         "yaxis": "y"
        },
        {
         "alignmentgroup": "True",
         "bingroup": "x",
         "hovertemplate": "season=2016<br>winner=%{x}<br>count=%{y}<extra></extra>",
         "legendgroup": "2016",
         "marker": {
          "color": "#FF97FF",
          "pattern": {
           "shape": ""
          }
         },
         "name": "2016",
         "offsetgroup": "2016",
         "orientation": "v",
         "showlegend": true,
         "type": "histogram",
         "x": [
          "Rising Pune Supergiants",
          "Kolkata Knight Riders",
          "Gujarat Lions",
          "Royal Challengers Bangalore",
          "Mumbai Indians",
          "Gujarat Lions",
          "Delhi Daredevils",
          "Kolkata Knight Riders",
          "Gujarat Lions",
          "Kings XI Punjab",
          "Delhi Daredevils",
          "Sunrisers Hyderabad",
          "Kolkata Knight Riders",
          "Mumbai Indians",
          "Sunrisers Hyderabad",
          "Royal Challengers Bangalore",
          "Delhi Daredevils",
          "Sunrisers Hyderabad",
          "Gujarat Lions",
          "Kolkata Knight Riders",
          "Mumbai Indians",
          "Rising Pune Supergiants",
          "Gujarat Lions",
          "Mumbai Indians",
          "Gujarat Lions",
          "Delhi Daredevils",
          "Sunrisers Hyderabad",
          "Kings XI Punjab",
          "Mumbai Indians",
          "Kolkata Knight Riders",
          "Delhi Daredevils",
          "Kolkata Knight Riders",
          "Rising Pune Supergiants",
          "Sunrisers Hyderabad",
          "Royal Challengers Bangalore",
          "Kings XI Punjab",
          "Sunrisers Hyderabad",
          "Gujarat Lions",
          "Royal Challengers Bangalore",
          "Sunrisers Hyderabad",
          "Mumbai Indians",
          "Delhi Daredevils",
          "Kings XI Punjab",
          "Royal Challengers Bangalore",
          "Kolkata Knight Riders",
          "Sunrisers Hyderabad",
          "Mumbai Indians",
          "Royal Challengers Bangalore",
          "Rising Pune Supergiants",
          "Royal Challengers Bangalore",
          "Gujarat Lions",
          "Delhi Daredevils",
          "Rising Pune Supergiants",
          "Gujarat Lions",
          "Kolkata Knight Riders",
          "Royal Challengers Bangalore",
          "Royal Challengers Bangalore",
          "Sunrisers Hyderabad",
          "Sunrisers Hyderabad",
          "Sunrisers Hyderabad"
         ],
         "xaxis": "x",
         "yaxis": "y"
        },
        {
         "alignmentgroup": "True",
         "bingroup": "x",
         "hovertemplate": "season=2017<br>winner=%{x}<br>count=%{y}<extra></extra>",
         "legendgroup": "2017",
         "marker": {
          "color": "#FECB52",
          "pattern": {
           "shape": ""
          }
         },
         "name": "2017",
         "offsetgroup": "2017",
         "orientation": "v",
         "showlegend": true,
         "type": "histogram",
         "x": [
          "Sunrisers Hyderabad",
          "Rising Pune Supergiant",
          "Kolkata Knight Riders",
          "Kings XI Punjab",
          "Royal Challengers Bangalore",
          "Sunrisers Hyderabad",
          "Mumbai Indians",
          "Kings XI Punjab",
          "Delhi Daredevils",
          "Mumbai Indians",
          "Kolkata Knight Riders",
          "Mumbai Indians",
          "Gujarat Lions",
          "Kolkata Knight Riders",
          "Delhi Daredevils",
          "Mumbai Indians",
          "Rising Pune Supergiant",
          "Kolkata Knight Riders",
          "Sunrisers Hyderabad",
          "Royal Challengers Bangalore",
          "Sunrisers Hyderabad",
          "Mumbai Indians",
          "Gujarat Lions",
          "Mumbai Indians",
          "Rising Pune Supergiant",
          "Kings XI Punjab",
          "Kolkata Knight Riders",
          "Rising Pune Supergiant",
          "Kolkata Knight Riders",
          "Gujarat Lions",
          "Kolkata Knight Riders",
          "Sunrisers Hyderabad",
          "Rising Pune Supergiant",
          "Mumbai Indians",
          "Kings XI Punjab",
          "Sunrisers Hyderabad",
          "Mumbai Indians",
          "Rising Pune Supergiant",
          "Delhi Daredevils",
          "Rising Pune Supergiant",
          "Delhi Daredevils",
          "Kings XI Punjab",
          "Rising Pune Supergiant",
          "Mumbai Indians",
          "Kolkata Knight Riders",
          "Gujarat Lions",
          "Sunrisers Hyderabad",
          "Kings XI Punjab",
          "Delhi Daredevils",
          "Kings XI Punjab",
          "Delhi Daredevils",
          "Sunrisers Hyderabad",
          "Mumbai Indians",
          "Rising Pune Supergiant",
          "Royal Challengers Bangalore",
          "Rising Pune Supergiant",
          "Kolkata Knight Riders",
          "Mumbai Indians",
          "Mumbai Indians"
         ],
         "xaxis": "x",
         "yaxis": "y"
        },
        {
         "alignmentgroup": "True",
         "bingroup": "x",
         "hovertemplate": "season=2018<br>winner=%{x}<br>count=%{y}<extra></extra>",
         "legendgroup": "2018",
         "marker": {
          "color": "#636efa",
          "pattern": {
           "shape": ""
          }
         },
         "name": "2018",
         "offsetgroup": "2018",
         "orientation": "v",
         "showlegend": true,
         "type": "histogram",
         "x": [
          "Chennai Super Kings",
          "Kings XI Punjab",
          "Kolkata Knight Riders",
          "Sunrisers Hyderabad",
          "Chennai Super Kings",
          "Rajasthan Royals",
          "Sunrisers Hyderabad",
          "Royal Challengers Bangalore",
          "Delhi Daredevils",
          "Sunrisers Hyderabad",
          "Rajasthan Royals",
          "Kings XI Punjab",
          "Kolkata Knight Riders",
          "Mumbai Indians",
          "Kolkata Knight Riders",
          "Kings XI Punjab",
          "Chennai Super Kings",
          "Kings XI Punjab",
          "Royal Challengers Bangalore",
          "Chennai Super Kings",
          "Rajasthan Royals",
          "Kings XI Punjab",
          "Sunrisers Hyderabad",
          "Chennai Super Kings",
          "Sunrisers Hyderabad",
          "Delhi Daredevils",
          "Mumbai Indians",
          "Sunrisers Hyderabad",
          "Kolkata Knight Riders",
          "Chennai Super Kings",
          "Royal Challengers Bangalore",
          "Delhi Daredevils",
          "Kolkata Knight Riders",
          "Mumbai Indians",
          "Chennai Super Kings",
          "Sunrisers Hyderabad",
          "Mumbai Indians",
          "Kings XI Punjab",
          "Sunrisers Hyderabad",
          "Rajasthan Royals",
          "Mumbai Indians",
          "Sunrisers Hyderabad",
          "Rajasthan Royals",
          "Kolkata Knight Riders",
          "Royal Challengers Bangalore",
          "Chennai Super Kings",
          "Rajasthan Royals",
          "Royal Challengers Bangalore",
          "Kolkata Knight Riders",
          "Mumbai Indians",
          "Royal Challengers Bangalore",
          "Delhi Daredevils",
          "Rajasthan Royals",
          "Kolkata Knight Riders",
          "Delhi Daredevils",
          "Chennai Super Kings",
          "Chennai Super Kings",
          "Kolkata Knight Riders",
          "Sunrisers Hyderabad",
          "Chennai Super Kings"
         ],
         "xaxis": "x",
         "yaxis": "y"
        },
        {
         "alignmentgroup": "True",
         "bingroup": "x",
         "hovertemplate": "season=2019<br>winner=%{x}<br>count=%{y}<extra></extra>",
         "legendgroup": "2019",
         "marker": {
          "color": "#EF553B",
          "pattern": {
           "shape": ""
          }
         },
         "name": "2019",
         "offsetgroup": "2019",
         "orientation": "v",
         "showlegend": true,
         "type": "histogram",
         "x": [
          "Chennai Super Kings",
          "Kolkata Knight Riders",
          "Delhi Capitals",
          "Kings XI Punjab",
          "Chennai Super Kings",
          "Kolkata Knight Riders",
          "Mumbai Indians",
          "Sunrisers Hyderabad",
          "Kings XI Punjab",
          "Delhi Capitals",
          "Sunrisers Hyderabad",
          "Chennai Super Kings",
          "Kings XI Punjab",
          "Rajasthan Royals",
          "Mumbai Indians",
          "Sunrisers Hyderabad",
          "Kolkata Knight Riders",
          "Chennai Super Kings",
          "Mumbai Indians",
          "Delhi Capitals",
          "Kolkata Knight Riders",
          "Kings XI Punjab",
          "Chennai Super Kings",
          "Mumbai Indians",
          "Chennai Super Kings",
          "Delhi Capitals",
          "Rajasthan Royals",
          "Royal Challengers Bangalore",
          "Chennai Super Kings",
          "Delhi Capitals",
          "Mumbai Indians",
          "Kings XI Punjab",
          "Sunrisers Hyderabad",
          "Mumbai Indians",
          "Royal Challengers Bangalore",
          "Rajasthan Royals",
          "Delhi Capitals",
          "Sunrisers Hyderabad",
          "Royal Challengers Bangalore",
          "Delhi Capitals",
          "Chennai Super Kings",
          "Royal Challengers Bangalore",
          "Rajasthan Royals",
          "Mumbai Indians",
          "Rajasthan Royals",
          "Delhi Capitals",
          "Kolkata Knight Riders",
          "Sunrisers Hyderabad",
          null,
          "Chennai Super Kings",
          "Mumbai Indians",
          "Kolkata Knight Riders",
          "Delhi Capitals",
          "Royal Challengers Bangalore",
          "Kings XI Punjab",
          "Mumbai Indians",
          "Mumbai Indians",
          "Delhi Capitals",
          "Chennai Super Kings",
          "Mumbai Indians"
         ],
         "xaxis": "x",
         "yaxis": "y"
        },
        {
         "alignmentgroup": "True",
         "bingroup": "x",
         "hovertemplate": "season=2020/21<br>winner=%{x}<br>count=%{y}<extra></extra>",
         "legendgroup": "2020/21",
         "marker": {
          "color": "#00cc96",
          "pattern": {
           "shape": ""
          }
         },
         "name": "2020/21",
         "offsetgroup": "2020/21",
         "orientation": "v",
         "showlegend": true,
         "type": "histogram",
         "x": [
          "Chennai Super Kings",
          "Delhi Capitals",
          "Royal Challengers Bangalore",
          "Rajasthan Royals",
          "Mumbai Indians",
          "Kings XI Punjab",
          "Delhi Capitals",
          "Kolkata Knight Riders",
          "Rajasthan Royals",
          "Royal Challengers Bangalore",
          "Sunrisers Hyderabad",
          "Kolkata Knight Riders",
          "Mumbai Indians",
          "Sunrisers Hyderabad",
          "Royal Challengers Bangalore",
          "Delhi Capitals",
          "Chennai Super Kings",
          "Mumbai Indians",
          "Delhi Capitals",
          "Mumbai Indians",
          "Kolkata Knight Riders",
          "Sunrisers Hyderabad",
          "Delhi Capitals",
          "Kolkata Knight Riders",
          "Royal Challengers Bangalore",
          "Rajasthan Royals",
          "Mumbai Indians",
          "Royal Challengers Bangalore",
          "Chennai Super Kings",
          "Delhi Capitals",
          "Kings XI Punjab",
          "Mumbai Indians",
          "Delhi Capitals",
          "Royal Challengers Bangalore",
          "Kolkata Knight Riders",
          "Kings XI Punjab",
          "Rajasthan Royals",
          "Kings XI Punjab",
          "Royal Challengers Bangalore",
          "Sunrisers Hyderabad",
          "Mumbai Indians",
          "Kolkata Knight Riders",
          "Kings XI Punjab",
          "Rajasthan Royals",
          "Chennai Super Kings",
          "Kings XI Punjab",
          "Sunrisers Hyderabad",
          "Mumbai Indians",
          "Chennai Super Kings",
          "Rajasthan Royals",
          "Sunrisers Hyderabad",
          "Mumbai Indians",
          "Chennai Super Kings",
          "Kolkata Knight Riders",
          "Delhi Capitals",
          "Sunrisers Hyderabad",
          "Mumbai Indians",
          "Sunrisers Hyderabad",
          "Delhi Capitals",
          "Mumbai Indians"
         ],
         "xaxis": "x",
         "yaxis": "y"
        },
        {
         "alignmentgroup": "True",
         "bingroup": "x",
         "hovertemplate": "season=2021<br>winner=%{x}<br>count=%{y}<extra></extra>",
         "legendgroup": "2021",
         "marker": {
          "color": "#ab63fa",
          "pattern": {
           "shape": ""
          }
         },
         "name": "2021",
         "offsetgroup": "2021",
         "orientation": "v",
         "showlegend": true,
         "type": "histogram",
         "x": [
          "Royal Challengers Bangalore",
          "Delhi Capitals",
          "Kolkata Knight Riders",
          "Punjab Kings",
          "Mumbai Indians",
          "Royal Challengers Bangalore",
          "Rajasthan Royals",
          "Chennai Super Kings",
          "Mumbai Indians",
          "Royal Challengers Bangalore",
          "Delhi Capitals",
          "Chennai Super Kings",
          "Delhi Capitals",
          "Sunrisers Hyderabad",
          "Chennai Super Kings",
          "Royal Challengers Bangalore",
          "Punjab Kings",
          "Rajasthan Royals",
          "Chennai Super Kings",
          "Delhi Capitals",
          "Kolkata Knight Riders",
          "Royal Challengers Bangalore",
          "Chennai Super Kings",
          "Mumbai Indians",
          "Delhi Capitals",
          "Punjab Kings",
          "Mumbai Indians",
          "Rajasthan Royals",
          "Delhi Capitals",
          "Chennai Super Kings",
          "Kolkata Knight Riders",
          "Rajasthan Royals",
          "Delhi Capitals",
          "Kolkata Knight Riders",
          "Chennai Super Kings",
          "Delhi Capitals",
          "Punjab Kings",
          "Chennai Super Kings",
          "Royal Challengers Bangalore",
          "Sunrisers Hyderabad",
          "Kolkata Knight Riders",
          "Mumbai Indians",
          "Royal Challengers Bangalore",
          "Chennai Super Kings",
          "Punjab Kings",
          "Rajasthan Royals",
          "Delhi Capitals",
          "Royal Challengers Bangalore",
          "Kolkata Knight Riders",
          "Delhi Capitals",
          "Mumbai Indians",
          "Sunrisers Hyderabad",
          "Punjab Kings",
          "Kolkata Knight Riders",
          "Mumbai Indians",
          "Royal Challengers Bangalore",
          "Chennai Super Kings",
          "Kolkata Knight Riders",
          "Kolkata Knight Riders",
          "Chennai Super Kings"
         ],
         "xaxis": "x",
         "yaxis": "y"
        },
        {
         "alignmentgroup": "True",
         "bingroup": "x",
         "hovertemplate": "season=2022<br>winner=%{x}<br>count=%{y}<extra></extra>",
         "legendgroup": "2022",
         "marker": {
          "color": "#FFA15A",
          "pattern": {
           "shape": ""
          }
         },
         "name": "2022",
         "offsetgroup": "2022",
         "orientation": "v",
         "showlegend": true,
         "type": "histogram",
         "x": [
          "Kolkata Knight Riders",
          "Delhi Capitals",
          "Punjab Kings",
          "Gujarat Titans",
          "Rajasthan Royals",
          "Royal Challengers Bangalore",
          "Lucknow Super Giants",
          "Kolkata Knight Riders",
          "Rajasthan Royals",
          "Gujarat Titans",
          "Punjab Kings",
          "Lucknow Super Giants",
          "Royal Challengers Bangalore",
          "Kolkata Knight Riders",
          "Lucknow Super Giants",
          "Gujarat Titans",
          "Sunrisers Hyderabad",
          "Royal Challengers Bangalore",
          "Delhi Capitals",
          "Rajasthan Royals",
          "Sunrisers Hyderabad",
          "Chennai Super Kings",
          "Punjab Kings",
          "Gujarat Titans",
          "Sunrisers Hyderabad",
          "Lucknow Super Giants",
          "Royal Challengers Bangalore",
          "Sunrisers Hyderabad",
          "Gujarat Titans",
          "Rajasthan Royals",
          "Royal Challengers Bangalore",
          "Delhi Capitals",
          "Chennai Super Kings",
          "Rajasthan Royals",
          "Gujarat Titans",
          "Sunrisers Hyderabad",
          "Lucknow Super Giants",
          "Punjab Kings",
          "Rajasthan Royals",
          "Gujarat Titans",
          "Delhi Capitals",
          "Lucknow Super Giants",
          "Gujarat Titans",
          "Mumbai Indians",
          "Lucknow Super Giants",
          "Chennai Super Kings",
          "Kolkata Knight Riders",
          "Punjab Kings",
          "Royal Challengers Bangalore",
          "Delhi Capitals",
          "Mumbai Indians",
          "Rajasthan Royals",
          "Lucknow Super Giants",
          "Royal Challengers Bangalore",
          "Chennai Super Kings",
          "Kolkata Knight Riders",
          "Gujarat Titans",
          "Delhi Capitals",
          "Mumbai Indians",
          "Punjab Kings",
          "Kolkata Knight Riders",
          "Gujarat Titans",
          "Rajasthan Royals",
          "Delhi Capitals",
          "Sunrisers Hyderabad",
          "Lucknow Super Giants",
          "Royal Challengers Bangalore",
          "Rajasthan Royals",
          "Mumbai Indians",
          "Punjab Kings",
          "Gujarat Titans",
          "Royal Challengers Bangalore",
          "Rajasthan Royals",
          "Gujarat Titans"
         ],
         "xaxis": "x",
         "yaxis": "y"
        },
        {
         "alignmentgroup": "True",
         "bingroup": "x",
         "hovertemplate": "season=2023<br>winner=%{x}<br>count=%{y}<extra></extra>",
         "legendgroup": "2023",
         "marker": {
          "color": "#19d3f3",
          "pattern": {
           "shape": ""
          }
         },
         "name": "2023",
         "offsetgroup": "2023",
         "orientation": "v",
         "showlegend": true,
         "type": "histogram",
         "x": [
          "Gujarat Titans",
          "Punjab Kings",
          "Lucknow Super Giants",
          "Rajasthan Royals",
          "Royal Challengers Bangalore",
          "Chennai Super Kings",
          "Gujarat Titans",
          "Punjab Kings",
          "Kolkata Knight Riders",
          "Lucknow Super Giants",
          "Rajasthan Royals",
          "Chennai Super Kings",
          "Kolkata Knight Riders",
          "Sunrisers Hyderabad",
          "Lucknow Super Giants",
          "Mumbai Indians",
          "Rajasthan Royals",
          "Gujarat Titans",
          "Sunrisers Hyderabad",
          "Royal Challengers Bangalore",
          "Punjab Kings",
          "Mumbai Indians",
          "Rajasthan Royals",
          "Chennai Super Kings",
          "Mumbai Indians",
          "Lucknow Super Giants",
          "Royal Challengers Bangalore",
          "Delhi Capitals",
          "Chennai Super Kings",
          "Gujarat Titans",
          "Punjab Kings",
          "Royal Challengers Bangalore",
          "Chennai Super Kings",
          "Delhi Capitals",
          "Gujarat Titans",
          "Kolkata Knight Riders",
          "Rajasthan Royals",
          "Lucknow Super Giants",
          "Gujarat Titans",
          "Sunrisers Hyderabad",
          "Punjab Kings",
          "Mumbai Indians",
          "Royal Challengers Bangalore",
          "Delhi Capitals",
          null,
          "Mumbai Indians",
          "Kolkata Knight Riders",
          "Gujarat Titans",
          "Chennai Super Kings",
          "Delhi Capitals",
          "Gujarat Titans",
          "Sunrisers Hyderabad",
          "Kolkata Knight Riders",
          "Mumbai Indians",
          "Chennai Super Kings",
          "Rajasthan Royals",
          "Mumbai Indians",
          "Lucknow Super Giants",
          "Punjab Kings",
          "Royal Challengers Bangalore",
          "Kolkata Knight Riders",
          "Gujarat Titans",
          "Lucknow Super Giants",
          "Delhi Capitals",
          "Royal Challengers Bangalore",
          "Rajasthan Royals",
          "Chennai Super Kings",
          "Lucknow Super Giants",
          "Mumbai Indians",
          "Gujarat Titans",
          "Chennai Super Kings",
          "Mumbai Indians",
          "Gujarat Titans",
          "Chennai Super Kings"
         ],
         "xaxis": "x",
         "yaxis": "y"
        },
        {
         "alignmentgroup": "True",
         "bingroup": "x",
         "hovertemplate": "season=2024<br>winner=%{x}<br>count=%{y}<extra></extra>",
         "legendgroup": "2024",
         "marker": {
          "color": "#FF6692",
          "pattern": {
           "shape": ""
          }
         },
         "name": "2024",
         "offsetgroup": "2024",
         "orientation": "v",
         "showlegend": true,
         "type": "histogram",
         "x": [
          "Chennai Super Kings",
          "Punjab Kings",
          "Kolkata Knight Riders",
          "Rajasthan Royals",
          "Gujarat Titans",
          "Royal Challengers Bengaluru",
          "Chennai Super Kings",
          "Sunrisers Hyderabad",
          "Rajasthan Royals",
          "Kolkata Knight Riders",
          "Lucknow Super Giants",
          "Gujarat Titans",
          "Delhi Capitals",
          "Rajasthan Royals",
          "Lucknow Super Giants",
          "Kolkata Knight Riders",
          "Punjab Kings",
          "Sunrisers Hyderabad",
          "Rajasthan Royals",
          "Mumbai Indians",
          "Lucknow Super Giants",
          "Chennai Super Kings",
          "Sunrisers Hyderabad",
          "Gujarat Titans",
          "Mumbai Indians",
          "Delhi Capitals",
          "Rajasthan Royals",
          "Kolkata Knight Riders",
          "Chennai Super Kings",
          "Sunrisers Hyderabad",
          "Rajasthan Royals",
          "Delhi Capitals",
          "Mumbai Indians",
          "Lucknow Super Giants",
          "Sunrisers Hyderabad",
          "Kolkata Knight Riders",
          "Gujarat Titans",
          "Rajasthan Royals",
          "Lucknow Super Giants",
          "Delhi Capitals",
          "Royal Challengers Bengaluru",
          "Punjab Kings",
          "Delhi Capitals",
          "Rajasthan Royals",
          "Royal Challengers Bengaluru",
          "Chennai Super Kings",
          "Kolkata Knight Riders",
          "Lucknow Super Giants",
          "Punjab Kings",
          "Sunrisers Hyderabad",
          "Kolkata Knight Riders",
          "Royal Challengers Bengaluru",
          "Chennai Super Kings",
          "Kolkata Knight Riders",
          "Mumbai Indians",
          "Delhi Capitals",
          "Sunrisers Hyderabad",
          "Royal Challengers Bengaluru",
          "Gujarat Titans",
          "Kolkata Knight Riders",
          "Chennai Super Kings",
          "Royal Challengers Bengaluru",
          "Delhi Capitals",
          "Punjab Kings",
          "Lucknow Super Giants",
          "Royal Challengers Bengaluru",
          "Sunrisers Hyderabad",
          "Kolkata Knight Riders",
          "Rajasthan Royals",
          "Sunrisers Hyderabad",
          "Kolkata Knight Riders"
         ],
         "xaxis": "x",
         "yaxis": "y"
        }
       ],
       "layout": {
        "barmode": "relative",
        "legend": {
         "title": {
          "text": "season"
         },
         "tracegroupgap": 0
        },
        "margin": {
         "t": 60
        },
        "template": {
         "data": {
          "bar": [
           {
            "error_x": {
             "color": "#2a3f5f"
            },
            "error_y": {
             "color": "#2a3f5f"
            },
            "marker": {
             "line": {
              "color": "#E5ECF6",
              "width": 0.5
             },
             "pattern": {
              "fillmode": "overlay",
              "size": 10,
              "solidity": 0.2
             }
            },
            "type": "bar"
           }
          ],
          "barpolar": [
           {
            "marker": {
             "line": {
              "color": "#E5ECF6",
              "width": 0.5
             },
             "pattern": {
              "fillmode": "overlay",
              "size": 10,
              "solidity": 0.2
             }
            },
            "type": "barpolar"
           }
          ],
          "carpet": [
           {
            "aaxis": {
             "endlinecolor": "#2a3f5f",
             "gridcolor": "white",
             "linecolor": "white",
             "minorgridcolor": "white",
             "startlinecolor": "#2a3f5f"
            },
            "baxis": {
             "endlinecolor": "#2a3f5f",
             "gridcolor": "white",
             "linecolor": "white",
             "minorgridcolor": "white",
             "startlinecolor": "#2a3f5f"
            },
            "type": "carpet"
           }
          ],
          "choropleth": [
           {
            "colorbar": {
             "outlinewidth": 0,
             "ticks": ""
            },
            "type": "choropleth"
           }
          ],
          "contour": [
           {
            "colorbar": {
             "outlinewidth": 0,
             "ticks": ""
            },
            "colorscale": [
             [
              0,
              "#0d0887"
             ],
             [
              0.1111111111111111,
              "#46039f"
             ],
             [
              0.2222222222222222,
              "#7201a8"
             ],
             [
              0.3333333333333333,
              "#9c179e"
             ],
             [
              0.4444444444444444,
              "#bd3786"
             ],
             [
              0.5555555555555556,
              "#d8576b"
             ],
             [
              0.6666666666666666,
              "#ed7953"
             ],
             [
              0.7777777777777778,
              "#fb9f3a"
             ],
             [
              0.8888888888888888,
              "#fdca26"
             ],
             [
              1,
              "#f0f921"
             ]
            ],
            "type": "contour"
           }
          ],
          "contourcarpet": [
           {
            "colorbar": {
             "outlinewidth": 0,
             "ticks": ""
            },
            "type": "contourcarpet"
           }
          ],
          "heatmap": [
           {
            "colorbar": {
             "outlinewidth": 0,
             "ticks": ""
            },
            "colorscale": [
             [
              0,
              "#0d0887"
             ],
             [
              0.1111111111111111,
              "#46039f"
             ],
             [
              0.2222222222222222,
              "#7201a8"
             ],
             [
              0.3333333333333333,
              "#9c179e"
             ],
             [
              0.4444444444444444,
              "#bd3786"
             ],
             [
              0.5555555555555556,
              "#d8576b"
             ],
             [
              0.6666666666666666,
              "#ed7953"
             ],
             [
              0.7777777777777778,
              "#fb9f3a"
             ],
             [
              0.8888888888888888,
              "#fdca26"
             ],
             [
              1,
              "#f0f921"
             ]
            ],
            "type": "heatmap"
           }
          ],
          "heatmapgl": [
           {
            "colorbar": {
             "outlinewidth": 0,
             "ticks": ""
            },
            "colorscale": [
             [
              0,
              "#0d0887"
             ],
             [
              0.1111111111111111,
              "#46039f"
             ],
             [
              0.2222222222222222,
              "#7201a8"
             ],
             [
              0.3333333333333333,
              "#9c179e"
             ],
             [
              0.4444444444444444,
              "#bd3786"
             ],
             [
              0.5555555555555556,
              "#d8576b"
             ],
             [
              0.6666666666666666,
              "#ed7953"
             ],
             [
              0.7777777777777778,
              "#fb9f3a"
             ],
             [
              0.8888888888888888,
              "#fdca26"
             ],
             [
              1,
              "#f0f921"
             ]
            ],
            "type": "heatmapgl"
           }
          ],
          "histogram": [
           {
            "marker": {
             "pattern": {
              "fillmode": "overlay",
              "size": 10,
              "solidity": 0.2
             }
            },
            "type": "histogram"
           }
          ],
          "histogram2d": [
           {
            "colorbar": {
             "outlinewidth": 0,
             "ticks": ""
            },
            "colorscale": [
             [
              0,
              "#0d0887"
             ],
             [
              0.1111111111111111,
              "#46039f"
             ],
             [
              0.2222222222222222,
              "#7201a8"
             ],
             [
              0.3333333333333333,
              "#9c179e"
             ],
             [
              0.4444444444444444,
              "#bd3786"
             ],
             [
              0.5555555555555556,
              "#d8576b"
             ],
             [
              0.6666666666666666,
              "#ed7953"
             ],
             [
              0.7777777777777778,
              "#fb9f3a"
             ],
             [
              0.8888888888888888,
              "#fdca26"
             ],
             [
              1,
              "#f0f921"
             ]
            ],
            "type": "histogram2d"
           }
          ],
          "histogram2dcontour": [
           {
            "colorbar": {
             "outlinewidth": 0,
             "ticks": ""
            },
            "colorscale": [
             [
              0,
              "#0d0887"
             ],
             [
              0.1111111111111111,
              "#46039f"
             ],
             [
              0.2222222222222222,
              "#7201a8"
             ],
             [
              0.3333333333333333,
              "#9c179e"
             ],
             [
              0.4444444444444444,
              "#bd3786"
             ],
             [
              0.5555555555555556,
              "#d8576b"
             ],
             [
              0.6666666666666666,
              "#ed7953"
             ],
             [
              0.7777777777777778,
              "#fb9f3a"
             ],
             [
              0.8888888888888888,
              "#fdca26"
             ],
             [
              1,
              "#f0f921"
             ]
            ],
            "type": "histogram2dcontour"
           }
          ],
          "mesh3d": [
           {
            "colorbar": {
             "outlinewidth": 0,
             "ticks": ""
            },
            "type": "mesh3d"
           }
          ],
          "parcoords": [
           {
            "line": {
             "colorbar": {
              "outlinewidth": 0,
              "ticks": ""
             }
            },
            "type": "parcoords"
           }
          ],
          "pie": [
           {
            "automargin": true,
            "type": "pie"
           }
          ],
          "scatter": [
           {
            "fillpattern": {
             "fillmode": "overlay",
             "size": 10,
             "solidity": 0.2
            },
            "type": "scatter"
           }
          ],
          "scatter3d": [
           {
            "line": {
             "colorbar": {
              "outlinewidth": 0,
              "ticks": ""
             }
            },
            "marker": {
             "colorbar": {
              "outlinewidth": 0,
              "ticks": ""
             }
            },
            "type": "scatter3d"
           }
          ],
          "scattercarpet": [
           {
            "marker": {
             "colorbar": {
              "outlinewidth": 0,
              "ticks": ""
             }
            },
            "type": "scattercarpet"
           }
          ],
          "scattergeo": [
           {
            "marker": {
             "colorbar": {
              "outlinewidth": 0,
              "ticks": ""
             }
            },
            "type": "scattergeo"
           }
          ],
          "scattergl": [
           {
            "marker": {
             "colorbar": {
              "outlinewidth": 0,
              "ticks": ""
             }
            },
            "type": "scattergl"
           }
          ],
          "scattermapbox": [
           {
            "marker": {
             "colorbar": {
              "outlinewidth": 0,
              "ticks": ""
             }
            },
            "type": "scattermapbox"
           }
          ],
          "scatterpolar": [
           {
            "marker": {
             "colorbar": {
              "outlinewidth": 0,
              "ticks": ""
             }
            },
            "type": "scatterpolar"
           }
          ],
          "scatterpolargl": [
           {
            "marker": {
             "colorbar": {
              "outlinewidth": 0,
              "ticks": ""
             }
            },
            "type": "scatterpolargl"
           }
          ],
          "scatterternary": [
           {
            "marker": {
             "colorbar": {
              "outlinewidth": 0,
              "ticks": ""
             }
            },
            "type": "scatterternary"
           }
          ],
          "surface": [
           {
            "colorbar": {
             "outlinewidth": 0,
             "ticks": ""
            },
            "colorscale": [
             [
              0,
              "#0d0887"
             ],
             [
              0.1111111111111111,
              "#46039f"
             ],
             [
              0.2222222222222222,
              "#7201a8"
             ],
             [
              0.3333333333333333,
              "#9c179e"
             ],
             [
              0.4444444444444444,
              "#bd3786"
             ],
             [
              0.5555555555555556,
              "#d8576b"
             ],
             [
              0.6666666666666666,
              "#ed7953"
             ],
             [
              0.7777777777777778,
              "#fb9f3a"
             ],
             [
              0.8888888888888888,
              "#fdca26"
             ],
             [
              1,
              "#f0f921"
             ]
            ],
            "type": "surface"
           }
          ],
          "table": [
           {
            "cells": {
             "fill": {
              "color": "#EBF0F8"
             },
             "line": {
              "color": "white"
             }
            },
            "header": {
             "fill": {
              "color": "#C8D4E3"
             },
             "line": {
              "color": "white"
             }
            },
            "type": "table"
           }
          ]
         },
         "layout": {
          "annotationdefaults": {
           "arrowcolor": "#2a3f5f",
           "arrowhead": 0,
           "arrowwidth": 1
          },
          "autotypenumbers": "strict",
          "coloraxis": {
           "colorbar": {
            "outlinewidth": 0,
            "ticks": ""
           }
          },
          "colorscale": {
           "diverging": [
            [
             0,
             "#8e0152"
            ],
            [
             0.1,
             "#c51b7d"
            ],
            [
             0.2,
             "#de77ae"
            ],
            [
             0.3,
             "#f1b6da"
            ],
            [
             0.4,
             "#fde0ef"
            ],
            [
             0.5,
             "#f7f7f7"
            ],
            [
             0.6,
             "#e6f5d0"
            ],
            [
             0.7,
             "#b8e186"
            ],
            [
             0.8,
             "#7fbc41"
            ],
            [
             0.9,
             "#4d9221"
            ],
            [
             1,
             "#276419"
            ]
           ],
           "sequential": [
            [
             0,
             "#0d0887"
            ],
            [
             0.1111111111111111,
             "#46039f"
            ],
            [
             0.2222222222222222,
             "#7201a8"
            ],
            [
             0.3333333333333333,
             "#9c179e"
            ],
            [
             0.4444444444444444,
             "#bd3786"
            ],
            [
             0.5555555555555556,
             "#d8576b"
            ],
            [
             0.6666666666666666,
             "#ed7953"
            ],
            [
             0.7777777777777778,
             "#fb9f3a"
            ],
            [
             0.8888888888888888,
             "#fdca26"
            ],
            [
             1,
             "#f0f921"
            ]
           ],
           "sequentialminus": [
            [
             0,
             "#0d0887"
            ],
            [
             0.1111111111111111,
             "#46039f"
            ],
            [
             0.2222222222222222,
             "#7201a8"
            ],
            [
             0.3333333333333333,
             "#9c179e"
            ],
            [
             0.4444444444444444,
             "#bd3786"
            ],
            [
             0.5555555555555556,
             "#d8576b"
            ],
            [
             0.6666666666666666,
             "#ed7953"
            ],
            [
             0.7777777777777778,
             "#fb9f3a"
            ],
            [
             0.8888888888888888,
             "#fdca26"
            ],
            [
             1,
             "#f0f921"
            ]
           ]
          },
          "colorway": [
           "#636efa",
           "#EF553B",
           "#00cc96",
           "#ab63fa",
           "#FFA15A",
           "#19d3f3",
           "#FF6692",
           "#B6E880",
           "#FF97FF",
           "#FECB52"
          ],
          "font": {
           "color": "#2a3f5f"
          },
          "geo": {
           "bgcolor": "white",
           "lakecolor": "white",
           "landcolor": "#E5ECF6",
           "showlakes": true,
           "showland": true,
           "subunitcolor": "white"
          },
          "hoverlabel": {
           "align": "left"
          },
          "hovermode": "closest",
          "mapbox": {
           "style": "light"
          },
          "paper_bgcolor": "white",
          "plot_bgcolor": "#E5ECF6",
          "polar": {
           "angularaxis": {
            "gridcolor": "white",
            "linecolor": "white",
            "ticks": ""
           },
           "bgcolor": "#E5ECF6",
           "radialaxis": {
            "gridcolor": "white",
            "linecolor": "white",
            "ticks": ""
           }
          },
          "scene": {
           "xaxis": {
            "backgroundcolor": "#E5ECF6",
            "gridcolor": "white",
            "gridwidth": 2,
            "linecolor": "white",
            "showbackground": true,
            "ticks": "",
            "zerolinecolor": "white"
           },
           "yaxis": {
            "backgroundcolor": "#E5ECF6",
            "gridcolor": "white",
            "gridwidth": 2,
            "linecolor": "white",
            "showbackground": true,
            "ticks": "",
            "zerolinecolor": "white"
           },
           "zaxis": {
            "backgroundcolor": "#E5ECF6",
            "gridcolor": "white",
            "gridwidth": 2,
            "linecolor": "white",
            "showbackground": true,
            "ticks": "",
            "zerolinecolor": "white"
           }
          },
          "shapedefaults": {
           "line": {
            "color": "#2a3f5f"
           }
          },
          "ternary": {
           "aaxis": {
            "gridcolor": "white",
            "linecolor": "white",
            "ticks": ""
           },
           "baxis": {
            "gridcolor": "white",
            "linecolor": "white",
            "ticks": ""
           },
           "bgcolor": "#E5ECF6",
           "caxis": {
            "gridcolor": "white",
            "linecolor": "white",
            "ticks": ""
           }
          },
          "title": {
           "x": 0.05
          },
          "xaxis": {
           "automargin": true,
           "gridcolor": "white",
           "linecolor": "white",
           "ticks": "",
           "title": {
            "standoff": 15
           },
           "zerolinecolor": "white",
           "zerolinewidth": 2
          },
          "yaxis": {
           "automargin": true,
           "gridcolor": "white",
           "linecolor": "white",
           "ticks": "",
           "title": {
            "standoff": 15
           },
           "zerolinecolor": "white",
           "zerolinewidth": 2
          }
         }
        },
        "xaxis": {
         "anchor": "y",
         "domain": [
          0,
          1
         ],
         "title": {
          "text": "winner"
         }
        },
        "yaxis": {
         "anchor": "x",
         "domain": [
          0,
          1
         ],
         "title": {
          "text": "count"
         }
        }
       }
      }
     },
     "metadata": {},
     "output_type": "display_data"
    }
   ],
   "source": [
    "fig = px.histogram(data_frame=ds,x='winner',color='season')\n",
    "fig.show()\n"
   ]
  },
  {
   "cell_type": "code",
   "execution_count": 12,
   "metadata": {},
   "outputs": [
    {
     "data": {
      "image/png": "[encoded data removed]",
      "text/plain": [
       "<Figure size 2500x1000 with 1 Axes>"
      ]
     },
     "metadata": {},
     "output_type": "display_data"
    }
   ],
   "source": [
    "plt.figure(figsize=(25,10))\n",
    "sns.countplot(data=ds2024,x='winner',hue='season', palette='rocket')\n",
    "plt.show()"
   ]
  },
  {
   "cell_type": "code",
   "execution_count": 13,
   "metadata": {},
   "outputs": [
    {
     "data": {
      "image/png": "[encoded data removed]",
      "text/plain": [
       "<Figure size 2500x1000 with 1 Axes>"
      ]
     },
     "metadata": {},
     "output_type": "display_data"
    }
   ],
   "source": [
    "last_4 = ds[ds['season'].isin(['2021','2022','2023','2024'])]\n",
    "plt.figure(figsize=(25,10))\n",
    "sns.countplot(data=last_4,x='winner',hue='season', palette='rocket')\n",
    "plt.show()"
   ]
  },
  {
   "cell_type": "code",
   "execution_count": 14,
   "metadata": {},
   "outputs": [
    {
     "data": {
      "image/png": "[encoded data removed]",
      "text/plain": [
       "<Figure size 1000x600 with 1 Axes>"
      ]
     },
     "metadata": {},
     "output_type": "display_data"
    }
   ],
   "source": [
    "Virat_POM = ds[ds['player_of_match'].isin(['V Kohli'])]\n",
    "plt.figure(figsize=(10,6))\n",
    "sns.scatterplot(data=Virat_POM,x='season',y='target_runs',hue='winner',palette='mako')\n",
    "plt.show()"
   ]
  },
  {
   "cell_type": "code",
   "execution_count": 15,
   "metadata": {},
   "outputs": [
    {
     "data": {
      "image/png": "[encoded data removed]",
      "text/plain": [
       "<Figure size 1000x700 with 1 Axes>"
      ]
     },
     "metadata": {},
     "output_type": "display_data"
    }
   ],
   "source": [
    "Dhoni_POM = ds[ds['player_of_match'].isin(['MS Dhoni'])]\n",
    "plt.figure(figsize=(10,7))\n",
    "sns.scatterplot(data=Dhoni_POM,x='season',y='target_runs',hue='winner',palette='mako')\n",
    "plt.show()"
   ]
  },
  {
   "cell_type": "code",
   "execution_count": 16,
   "metadata": {},
   "outputs": [
    {
     "data": {
      "application/vnd.plotly.v1+json": {
       "config": {
        "plotlyServerURL": "https://plot.ly"
       },
       "data": [
        {
         "hovertemplate": "winner=Royal Challengers Bangalore<br>season=%{x}<br>target_runs=%{y}<extra></extra>",
         "legendgroup": "Royal Challengers Bangalore",
         "marker": {
          "color": "#636efa",
          "symbol": "circle"
         },
         "mode": "markers",
         "name": "Royal Challengers Bangalore",
         "orientation": "v",
         "showlegend": true,
         "type": "scatter",
         "x": [
          "2011",
          "2013",
          "2016",
          "2016",
          "2016",
          "2023"
         ],
         "xaxis": "x",
         "y": [
          161,
          153,
          192,
          184,
          139,
          187
         ],
         "yaxis": "y"
        }
       ],
       "layout": {
        "height": 700,
        "legend": {
         "title": {
          "text": "winner"
         },
         "tracegroupgap": 0
        },
        "margin": {
         "t": 60
        },
        "template": {
         "data": {
          "bar": [
           {
            "error_x": {
             "color": "#2a3f5f"
            },
            "error_y": {
             "color": "#2a3f5f"
            },
            "marker": {
             "line": {
              "color": "#E5ECF6",
              "width": 0.5
             },
             "pattern": {
              "fillmode": "overlay",
              "size": 10,
              "solidity": 0.2
             }
            },
            "type": "bar"
           }
          ],
          "barpolar": [
           {
            "marker": {
             "line": {
              "color": "#E5ECF6",
              "width": 0.5
             },
             "pattern": {
              "fillmode": "overlay",
              "size": 10,
              "solidity": 0.2
             }
            },
            "type": "barpolar"
           }
          ],
          "carpet": [
           {
            "aaxis": {
             "endlinecolor": "#2a3f5f",
             "gridcolor": "white",
             "linecolor": "white",
             "minorgridcolor": "white",
             "startlinecolor": "#2a3f5f"
            },
            "baxis": {
             "endlinecolor": "#2a3f5f",
             "gridcolor": "white",
             "linecolor": "white",
             "minorgridcolor": "white",
             "startlinecolor": "#2a3f5f"
            },
            "type": "carpet"
           }
          ],
          "choropleth": [
           {
            "colorbar": {
             "outlinewidth": 0,
             "ticks": ""
            },
            "type": "choropleth"
           }
          ],
          "contour": [
           {
            "colorbar": {
             "outlinewidth": 0,
             "ticks": ""
            },
            "colorscale": [
             [
              0,
              "#0d0887"
             ],
             [
              0.1111111111111111,
              "#46039f"
             ],
             [
              0.2222222222222222,
              "#7201a8"
             ],
             [
              0.3333333333333333,
              "#9c179e"
             ],
             [
              0.4444444444444444,
              "#bd3786"
             ],
             [
              0.5555555555555556,
              "#d8576b"
             ],
             [
              0.6666666666666666,
              "#ed7953"
             ],
             [
              0.7777777777777778,
              "#fb9f3a"
             ],
             [
              0.8888888888888888,
              "#fdca26"
             ],
             [
              1,
              "#f0f921"
             ]
            ],
            "type": "contour"
           }
          ],
          "contourcarpet": [
           {
            "colorbar": {
             "outlinewidth": 0,
             "ticks": ""
            },
            "type": "contourcarpet"
           }
          ],
          "heatmap": [
           {
            "colorbar": {
             "outlinewidth": 0,
             "ticks": ""
            },
            "colorscale": [
             [
              0,
              "#0d0887"
             ],
             [
              0.1111111111111111,
              "#46039f"
             ],
             [
              0.2222222222222222,
              "#7201a8"
             ],
             [
              0.3333333333333333,
              "#9c179e"
             ],
             [
              0.4444444444444444,
              "#bd3786"
             ],
             [
              0.5555555555555556,
              "#d8576b"
             ],
             [
              0.6666666666666666,
              "#ed7953"
             ],
             [
              0.7777777777777778,
              "#fb9f3a"
             ],
             [
              0.8888888888888888,
              "#fdca26"
             ],
             [
              1,
              "#f0f921"
             ]
            ],
            "type": "heatmap"
           }
          ],
          "heatmapgl": [
           {
            "colorbar": {
             "outlinewidth": 0,
             "ticks": ""
            },
            "colorscale": [
             [
              0,
              "#0d0887"
             ],
             [
              0.1111111111111111,
              "#46039f"
             ],
             [
              0.2222222222222222,
              "#7201a8"
             ],
             [
              0.3333333333333333,
              "#9c179e"
             ],
             [
              0.4444444444444444,
              "#bd3786"
             ],
             [
              0.5555555555555556,
              "#d8576b"
             ],
             [
              0.6666666666666666,
              "#ed7953"
             ],
             [
              0.7777777777777778,
              "#fb9f3a"
             ],
             [
              0.8888888888888888,
              "#fdca26"
             ],
             [
              1,
              "#f0f921"
             ]
            ],
            "type": "heatmapgl"
           }
          ],
          "histogram": [
           {
            "marker": {
             "pattern": {
              "fillmode": "overlay",
              "size": 10,
              "solidity": 0.2
             }
            },
            "type": "histogram"
           }
          ],
          "histogram2d": [
           {
            "colorbar": {
             "outlinewidth": 0,
             "ticks": ""
            },
            "colorscale": [
             [
              0,
              "#0d0887"
             ],
             [
              0.1111111111111111,
              "#46039f"
             ],
             [
              0.2222222222222222,
              "#7201a8"
             ],
             [
              0.3333333333333333,
              "#9c179e"
             ],
             [
              0.4444444444444444,
              "#bd3786"
             ],
             [
              0.5555555555555556,
              "#d8576b"
             ],
             [
              0.6666666666666666,
              "#ed7953"
             ],
             [
              0.7777777777777778,
              "#fb9f3a"
             ],
             [
              0.8888888888888888,
              "#fdca26"
             ],
             [
              1,
              "#f0f921"
             ]
            ],
            "type": "histogram2d"
           }
          ],
          "histogram2dcontour": [
           {
            "colorbar": {
             "outlinewidth": 0,
             "ticks": ""
            },
            "colorscale": [
             [
              0,
              "#0d0887"
             ],
             [
              0.1111111111111111,
              "#46039f"
             ],
             [
              0.2222222222222222,
              "#7201a8"
             ],
             [
              0.3333333333333333,
              "#9c179e"
             ],
             [
              0.4444444444444444,
              "#bd3786"
             ],
             [
              0.5555555555555556,
              "#d8576b"
             ],
             [
              0.6666666666666666,
              "#ed7953"
             ],
             [
              0.7777777777777778,
              "#fb9f3a"
             ],
             [
              0.8888888888888888,
              "#fdca26"
             ],
             [
              1,
              "#f0f921"
             ]
            ],
            "type": "histogram2dcontour"
           }
          ],
          "mesh3d": [
           {
            "colorbar": {
             "outlinewidth": 0,
             "ticks": ""
            },
            "type": "mesh3d"
           }
          ],
          "parcoords": [
           {
            "line": {
             "colorbar": {
              "outlinewidth": 0,
              "ticks": ""
             }
            },
            "type": "parcoords"
           }
          ],
          "pie": [
           {
            "automargin": true,
            "type": "pie"
           }
          ],
          "scatter": [
           {
            "fillpattern": {
             "fillmode": "overlay",
             "size": 10,
             "solidity": 0.2
            },
            "type": "scatter"
           }
          ],
          "scatter3d": [
           {
            "line": {
             "colorbar": {
              "outlinewidth": 0,
              "ticks": ""
             }
            },
            "marker": {
             "colorbar": {
              "outlinewidth": 0,
              "ticks": ""
             }
            },
            "type": "scatter3d"
           }
          ],
          "scattercarpet": [
           {
            "marker": {
             "colorbar": {
              "outlinewidth": 0,
              "ticks": ""
             }
            },
            "type": "scattercarpet"
           }
          ],
          "scattergeo": [
           {
            "marker": {
             "colorbar": {
              "outlinewidth": 0,
              "ticks": ""
             }
            },
            "type": "scattergeo"
           }
          ],
          "scattergl": [
           {
            "marker": {
             "colorbar": {
              "outlinewidth": 0,
              "ticks": ""
             }
            },
            "type": "scattergl"
           }
          ],
          "scattermapbox": [
           {
            "marker": {
             "colorbar": {
              "outlinewidth": 0,
              "ticks": ""
             }
            },
            "type": "scattermapbox"
           }
          ],
          "scatterpolar": [
           {
            "marker": {
             "colorbar": {
              "outlinewidth": 0,
              "ticks": ""
             }
            },
            "type": "scatterpolar"
           }
          ],
          "scatterpolargl": [
           {
            "marker": {
             "colorbar": {
              "outlinewidth": 0,
              "ticks": ""
             }
            },
            "type": "scatterpolargl"
           }
          ],
          "scatterternary": [
           {
            "marker": {
             "colorbar": {
              "outlinewidth": 0,
              "ticks": ""
             }
            },
            "type": "scatterternary"
           }
          ],
          "surface": [
           {
            "colorbar": {
             "outlinewidth": 0,
             "ticks": ""
            },
            "colorscale": [
             [
              0,
              "#0d0887"
             ],
             [
              0.1111111111111111,
              "#46039f"
             ],
             [
              0.2222222222222222,
              "#7201a8"
             ],
             [
              0.3333333333333333,
              "#9c179e"
             ],
             [
              0.4444444444444444,
              "#bd3786"
             ],
             [
              0.5555555555555556,
              "#d8576b"
             ],
             [
              0.6666666666666666,
              "#ed7953"
             ],
             [
              0.7777777777777778,
              "#fb9f3a"
             ],
             [
              0.8888888888888888,
              "#fdca26"
             ],
             [
              1,
              "#f0f921"
             ]
            ],
            "type": "surface"
           }
          ],
          "table": [
           {
            "cells": {
             "fill": {
              "color": "#EBF0F8"
             },
             "line": {
              "color": "white"
             }
            },
            "header": {
             "fill": {
              "color": "#C8D4E3"
             },
             "line": {
              "color": "white"
             }
            },
            "type": "table"
           }
          ]
         },
         "layout": {
          "annotationdefaults": {
           "arrowcolor": "#2a3f5f",
           "arrowhead": 0,
           "arrowwidth": 1
          },
          "autotypenumbers": "strict",
          "coloraxis": {
           "colorbar": {
            "outlinewidth": 0,
            "ticks": ""
           }
          },
          "colorscale": {
           "diverging": [
            [
             0,
             "#8e0152"
            ],
            [
             0.1,
             "#c51b7d"
            ],
            [
             0.2,
             "#de77ae"
            ],
            [
             0.3,
             "#f1b6da"
            ],
            [
             0.4,
             "#fde0ef"
            ],
            [
             0.5,
             "#f7f7f7"
            ],
            [
             0.6,
             "#e6f5d0"
            ],
            [
             0.7,
             "#b8e186"
            ],
            [
             0.8,
             "#7fbc41"
            ],
            [
             0.9,
             "#4d9221"
            ],
            [
             1,
             "#276419"
            ]
           ],
           "sequential": [
            [
             0,
             "#0d0887"
            ],
            [
             0.1111111111111111,
             "#46039f"
            ],
            [
             0.2222222222222222,
             "#7201a8"
            ],
            [
             0.3333333333333333,
             "#9c179e"
            ],
            [
             0.4444444444444444,
             "#bd3786"
            ],
            [
             0.5555555555555556,
             "#d8576b"
            ],
            [
             0.6666666666666666,
             "#ed7953"
            ],
            [
             0.7777777777777778,
             "#fb9f3a"
            ],
            [
             0.8888888888888888,
             "#fdca26"
            ],
            [
             1,
             "#f0f921"
            ]
           ],
           "sequentialminus": [
            [
             0,
             "#0d0887"
            ],
            [
             0.1111111111111111,
             "#46039f"
            ],
            [
             0.2222222222222222,
             "#7201a8"
            ],
            [
             0.3333333333333333,
             "#9c179e"
            ],
            [
             0.4444444444444444,
             "#bd3786"
            ],
            [
             0.5555555555555556,
             "#d8576b"
            ],
            [
             0.6666666666666666,
             "#ed7953"
            ],
            [
             0.7777777777777778,
             "#fb9f3a"
            ],
            [
             0.8888888888888888,
             "#fdca26"
            ],
            [
             1,
             "#f0f921"
            ]
           ]
          },
          "colorway": [
           "#636efa",
           "#EF553B",
           "#00cc96",
           "#ab63fa",
           "#FFA15A",
           "#19d3f3",
           "#FF6692",
           "#B6E880",
           "#FF97FF",
           "#FECB52"
          ],
          "font": {
           "color": "#2a3f5f"
          },
          "geo": {
           "bgcolor": "white",
           "lakecolor": "white",
           "landcolor": "#E5ECF6",
           "showlakes": true,
           "showland": true,
           "subunitcolor": "white"
          },
          "hoverlabel": {
           "align": "left"
          },
          "hovermode": "closest",
          "mapbox": {
           "style": "light"
          },
          "paper_bgcolor": "white",
          "plot_bgcolor": "#E5ECF6",
          "polar": {
           "angularaxis": {
            "gridcolor": "white",
            "linecolor": "white",
            "ticks": ""
           },
           "bgcolor": "#E5ECF6",
           "radialaxis": {
            "gridcolor": "white",
            "linecolor": "white",
            "ticks": ""
           }
          },
          "scene": {
           "xaxis": {
            "backgroundcolor": "#E5ECF6",
            "gridcolor": "white",
            "gridwidth": 2,
            "linecolor": "white",
            "showbackground": true,
            "ticks": "",
            "zerolinecolor": "white"
           },
           "yaxis": {
            "backgroundcolor": "#E5ECF6",
            "gridcolor": "white",
            "gridwidth": 2,
            "linecolor": "white",
            "showbackground": true,
            "ticks": "",
            "zerolinecolor": "white"
           },
           "zaxis": {
            "backgroundcolor": "#E5ECF6",
            "gridcolor": "white",
            "gridwidth": 2,
            "linecolor": "white",
            "showbackground": true,
            "ticks": "",
            "zerolinecolor": "white"
           }
          },
          "shapedefaults": {
           "line": {
            "color": "#2a3f5f"
           }
          },
          "ternary": {
           "aaxis": {
            "gridcolor": "white",
            "linecolor": "white",
            "ticks": ""
           },
           "baxis": {
            "gridcolor": "white",
            "linecolor": "white",
            "ticks": ""
           },
           "bgcolor": "#E5ECF6",
           "caxis": {
            "gridcolor": "white",
            "linecolor": "white",
            "ticks": ""
           }
          },
          "title": {
           "x": 0.05
          },
          "xaxis": {
           "automargin": true,
           "gridcolor": "white",
           "linecolor": "white",
           "ticks": "",
           "title": {
            "standoff": 15
           },
           "zerolinecolor": "white",
           "zerolinewidth": 2
          },
          "yaxis": {
           "automargin": true,
           "gridcolor": "white",
           "linecolor": "white",
           "ticks": "",
           "title": {
            "standoff": 15
           },
           "zerolinecolor": "white",
           "zerolinewidth": 2
          }
         }
        },
        "width": 1200,
        "xaxis": {
         "anchor": "y",
         "domain": [
          0,
          1
         ],
         "title": {
          "text": "season"
         }
        },
        "yaxis": {
         "anchor": "x",
         "domain": [
          0,
          1
         ],
         "title": {
          "text": "target_runs"
         }
        }
       }
      }
     },
     "metadata": {},
     "output_type": "display_data"
    }
   ],
   "source": [
    "Virat_POM_chasing = ds[ds['player_of_match'].isin(['V Kohli'])& (ds['toss_winner'] == 'Royal Challengers Bangalore')&(ds['toss_decision'] == 'field')]\n",
    "\n",
    "fig = px.scatter(data_frame=Virat_POM_chasing,x='season',y='target_runs',color='winner',width=1200, height=700)\n",
    "fig.show()"
   ]
  },
  {
   "cell_type": "code",
   "execution_count": 17,
   "metadata": {},
   "outputs": [
    {
     "data": {
      "text/html": [
       "<div>\n",
       "<style scoped>\n",
       "    .dataframe tbody tr th:only-of-type {\n",
       "        vertical-align: middle;\n",
       "    }\n",
       "\n",
       "    .dataframe tbody tr th {\n",
       "        vertical-align: top;\n",
       "    }\n",
       "\n",
       "    .dataframe thead th {\n",
       "        text-align: right;\n",
       "    }\n",
       "</style>\n",
       "<table border=\"1\" class=\"dataframe\">\n",
       "  <thead>\n",
       "    <tr style=\"text-align: right;\">\n",
       "      <th></th>\n",
       "      <th>id</th>\n",
       "      <th>season</th>\n",
       "      <th>city</th>\n",
       "      <th>date</th>\n",
       "      <th>match_type</th>\n",
       "      <th>player_of_match</th>\n",
       "      <th>venue</th>\n",
       "      <th>team1</th>\n",
       "      <th>team2</th>\n",
       "      <th>toss_winner</th>\n",
       "      <th>toss_decision</th>\n",
       "      <th>winner</th>\n",
       "      <th>result</th>\n",
       "      <th>result_margin</th>\n",
       "      <th>target_runs</th>\n",
       "      <th>target_overs</th>\n",
       "      <th>super_over</th>\n",
       "      <th>method</th>\n",
       "      <th>umpire1</th>\n",
       "      <th>umpire2</th>\n",
       "    </tr>\n",
       "  </thead>\n",
       "  <tbody>\n",
       "    <tr>\n",
       "      <th>14</th>\n",
       "      <td>335996</td>\n",
       "      <td>2007/08</td>\n",
       "      <td>Bangalore</td>\n",
       "      <td>2008-04-28</td>\n",
       "      <td>League</td>\n",
       "      <td>MS Dhoni</td>\n",
       "      <td>M Chinnaswamy Stadium</td>\n",
       "      <td>Royal Challengers Bangalore</td>\n",
       "      <td>Chennai Super Kings</td>\n",
       "      <td>Chennai Super Kings</td>\n",
       "      <td>bat</td>\n",
       "      <td>Chennai Super Kings</td>\n",
       "      <td>runs</td>\n",
       "      <td>13.0</td>\n",
       "      <td>179.0</td>\n",
       "      <td>20.0</td>\n",
       "      <td>N</td>\n",
       "      <td>NaN</td>\n",
       "      <td>BR Doctrove</td>\n",
       "      <td>RB Tiffin</td>\n",
       "    </tr>\n",
       "    <tr>\n",
       "      <th>27</th>\n",
       "      <td>336009</td>\n",
       "      <td>2007/08</td>\n",
       "      <td>Delhi</td>\n",
       "      <td>2008-05-08</td>\n",
       "      <td>League</td>\n",
       "      <td>MS Dhoni</td>\n",
       "      <td>Feroz Shah Kotla</td>\n",
       "      <td>Delhi Daredevils</td>\n",
       "      <td>Chennai Super Kings</td>\n",
       "      <td>Chennai Super Kings</td>\n",
       "      <td>field</td>\n",
       "      <td>Chennai Super Kings</td>\n",
       "      <td>wickets</td>\n",
       "      <td>4.0</td>\n",
       "      <td>188.0</td>\n",
       "      <td>20.0</td>\n",
       "      <td>N</td>\n",
       "      <td>NaN</td>\n",
       "      <td>Aleem Dar</td>\n",
       "      <td>RB Tiffin</td>\n",
       "    </tr>\n",
       "    <tr>\n",
       "      <th>84</th>\n",
       "      <td>392209</td>\n",
       "      <td>2009</td>\n",
       "      <td>East London</td>\n",
       "      <td>2009-05-04</td>\n",
       "      <td>League</td>\n",
       "      <td>MS Dhoni</td>\n",
       "      <td>Buffalo Park</td>\n",
       "      <td>Chennai Super Kings</td>\n",
       "      <td>Deccan Chargers</td>\n",
       "      <td>Chennai Super Kings</td>\n",
       "      <td>bat</td>\n",
       "      <td>Chennai Super Kings</td>\n",
       "      <td>runs</td>\n",
       "      <td>78.0</td>\n",
       "      <td>179.0</td>\n",
       "      <td>20.0</td>\n",
       "      <td>N</td>\n",
       "      <td>NaN</td>\n",
       "      <td>BR Doctrove</td>\n",
       "      <td>M Erasmus</td>\n",
       "    </tr>\n",
       "    <tr>\n",
       "      <th>122</th>\n",
       "      <td>419113</td>\n",
       "      <td>2009/10</td>\n",
       "      <td>Kolkata</td>\n",
       "      <td>2010-03-16</td>\n",
       "      <td>League</td>\n",
       "      <td>MS Dhoni</td>\n",
       "      <td>Eden Gardens</td>\n",
       "      <td>Kolkata Knight Riders</td>\n",
       "      <td>Chennai Super Kings</td>\n",
       "      <td>Chennai Super Kings</td>\n",
       "      <td>bat</td>\n",
       "      <td>Chennai Super Kings</td>\n",
       "      <td>runs</td>\n",
       "      <td>55.0</td>\n",
       "      <td>165.0</td>\n",
       "      <td>20.0</td>\n",
       "      <td>N</td>\n",
       "      <td>NaN</td>\n",
       "      <td>HDPK Dharmasena</td>\n",
       "      <td>AM Saheba</td>\n",
       "    </tr>\n",
       "    <tr>\n",
       "      <th>168</th>\n",
       "      <td>419159</td>\n",
       "      <td>2009/10</td>\n",
       "      <td>Dharamsala</td>\n",
       "      <td>2010-04-18</td>\n",
       "      <td>League</td>\n",
       "      <td>MS Dhoni</td>\n",
       "      <td>Himachal Pradesh Cricket Association Stadium</td>\n",
       "      <td>Kings XI Punjab</td>\n",
       "      <td>Chennai Super Kings</td>\n",
       "      <td>Chennai Super Kings</td>\n",
       "      <td>field</td>\n",
       "      <td>Chennai Super Kings</td>\n",
       "      <td>wickets</td>\n",
       "      <td>6.0</td>\n",
       "      <td>193.0</td>\n",
       "      <td>20.0</td>\n",
       "      <td>N</td>\n",
       "      <td>NaN</td>\n",
       "      <td>BF Bowden</td>\n",
       "      <td>AM Saheba</td>\n",
       "    </tr>\n",
       "    <tr>\n",
       "      <th>229</th>\n",
       "      <td>501253</td>\n",
       "      <td>2011</td>\n",
       "      <td>Chennai</td>\n",
       "      <td>2011-05-12</td>\n",
       "      <td>League</td>\n",
       "      <td>MS Dhoni</td>\n",
       "      <td>MA Chidambaram Stadium, Chepauk</td>\n",
       "      <td>Chennai Super Kings</td>\n",
       "      <td>Delhi Daredevils</td>\n",
       "      <td>Chennai Super Kings</td>\n",
       "      <td>bat</td>\n",
       "      <td>Chennai Super Kings</td>\n",
       "      <td>runs</td>\n",
       "      <td>18.0</td>\n",
       "      <td>177.0</td>\n",
       "      <td>20.0</td>\n",
       "      <td>N</td>\n",
       "      <td>NaN</td>\n",
       "      <td>AM Saheba</td>\n",
       "      <td>SL Shastri</td>\n",
       "    </tr>\n",
       "    <tr>\n",
       "      <th>319</th>\n",
       "      <td>548379</td>\n",
       "      <td>2012</td>\n",
       "      <td>Bangalore</td>\n",
       "      <td>2012-05-23</td>\n",
       "      <td>Elimination Final</td>\n",
       "      <td>MS Dhoni</td>\n",
       "      <td>M Chinnaswamy Stadium</td>\n",
       "      <td>Chennai Super Kings</td>\n",
       "      <td>Mumbai Indians</td>\n",
       "      <td>Mumbai Indians</td>\n",
       "      <td>field</td>\n",
       "      <td>Chennai Super Kings</td>\n",
       "      <td>runs</td>\n",
       "      <td>38.0</td>\n",
       "      <td>188.0</td>\n",
       "      <td>20.0</td>\n",
       "      <td>N</td>\n",
       "      <td>NaN</td>\n",
       "      <td>BF Bowden</td>\n",
       "      <td>HDPK Dharmasena</td>\n",
       "    </tr>\n",
       "    <tr>\n",
       "      <th>355</th>\n",
       "      <td>598030</td>\n",
       "      <td>2013</td>\n",
       "      <td>Chennai</td>\n",
       "      <td>2013-04-25</td>\n",
       "      <td>League</td>\n",
       "      <td>MS Dhoni</td>\n",
       "      <td>MA Chidambaram Stadium, Chepauk</td>\n",
       "      <td>Chennai Super Kings</td>\n",
       "      <td>Sunrisers Hyderabad</td>\n",
       "      <td>Sunrisers Hyderabad</td>\n",
       "      <td>bat</td>\n",
       "      <td>Chennai Super Kings</td>\n",
       "      <td>wickets</td>\n",
       "      <td>5.0</td>\n",
       "      <td>160.0</td>\n",
       "      <td>20.0</td>\n",
       "      <td>N</td>\n",
       "      <td>NaN</td>\n",
       "      <td>Aleem Dar</td>\n",
       "      <td>S Das</td>\n",
       "    </tr>\n",
       "    <tr>\n",
       "      <th>363</th>\n",
       "      <td>598038</td>\n",
       "      <td>2013</td>\n",
       "      <td>Pune</td>\n",
       "      <td>2013-04-30</td>\n",
       "      <td>League</td>\n",
       "      <td>MS Dhoni</td>\n",
       "      <td>Subrata Roy Sahara Stadium</td>\n",
       "      <td>Pune Warriors</td>\n",
       "      <td>Chennai Super Kings</td>\n",
       "      <td>Chennai Super Kings</td>\n",
       "      <td>bat</td>\n",
       "      <td>Chennai Super Kings</td>\n",
       "      <td>runs</td>\n",
       "      <td>37.0</td>\n",
       "      <td>165.0</td>\n",
       "      <td>20.0</td>\n",
       "      <td>N</td>\n",
       "      <td>NaN</td>\n",
       "      <td>S Das</td>\n",
       "      <td>SJA Taufel</td>\n",
       "    </tr>\n",
       "    <tr>\n",
       "      <th>385</th>\n",
       "      <td>598062</td>\n",
       "      <td>2013</td>\n",
       "      <td>Chennai</td>\n",
       "      <td>2013-05-14</td>\n",
       "      <td>League</td>\n",
       "      <td>MS Dhoni</td>\n",
       "      <td>MA Chidambaram Stadium, Chepauk</td>\n",
       "      <td>Chennai Super Kings</td>\n",
       "      <td>Delhi Daredevils</td>\n",
       "      <td>Chennai Super Kings</td>\n",
       "      <td>bat</td>\n",
       "      <td>Chennai Super Kings</td>\n",
       "      <td>runs</td>\n",
       "      <td>33.0</td>\n",
       "      <td>169.0</td>\n",
       "      <td>20.0</td>\n",
       "      <td>N</td>\n",
       "      <td>NaN</td>\n",
       "      <td>C Shamshuddin</td>\n",
       "      <td>RJ Tucker</td>\n",
       "    </tr>\n",
       "    <tr>\n",
       "      <th>450</th>\n",
       "      <td>734035</td>\n",
       "      <td>2014</td>\n",
       "      <td>Bangalore</td>\n",
       "      <td>2014-05-24</td>\n",
       "      <td>League</td>\n",
       "      <td>MS Dhoni</td>\n",
       "      <td>M Chinnaswamy Stadium</td>\n",
       "      <td>Royal Challengers Bangalore</td>\n",
       "      <td>Chennai Super Kings</td>\n",
       "      <td>Chennai Super Kings</td>\n",
       "      <td>field</td>\n",
       "      <td>Chennai Super Kings</td>\n",
       "      <td>wickets</td>\n",
       "      <td>8.0</td>\n",
       "      <td>155.0</td>\n",
       "      <td>20.0</td>\n",
       "      <td>N</td>\n",
       "      <td>NaN</td>\n",
       "      <td>AK Chaudhary</td>\n",
       "      <td>NJ Llong</td>\n",
       "    </tr>\n",
       "    <tr>\n",
       "      <th>569</th>\n",
       "      <td>981005</td>\n",
       "      <td>2016</td>\n",
       "      <td>Visakhapatnam</td>\n",
       "      <td>2016-05-21</td>\n",
       "      <td>League</td>\n",
       "      <td>MS Dhoni</td>\n",
       "      <td>Dr. Y.S. Rajasekhara Reddy ACA-VDCA Cricket St...</td>\n",
       "      <td>Rising Pune Supergiants</td>\n",
       "      <td>Kings XI Punjab</td>\n",
       "      <td>Kings XI Punjab</td>\n",
       "      <td>bat</td>\n",
       "      <td>Rising Pune Supergiants</td>\n",
       "      <td>wickets</td>\n",
       "      <td>4.0</td>\n",
       "      <td>173.0</td>\n",
       "      <td>20.0</td>\n",
       "      <td>N</td>\n",
       "      <td>NaN</td>\n",
       "      <td>HDPK Dharmasena</td>\n",
       "      <td>Nitin Menon</td>\n",
       "    </tr>\n",
       "    <tr>\n",
       "      <th>601</th>\n",
       "      <td>1082615</td>\n",
       "      <td>2017</td>\n",
       "      <td>Pune</td>\n",
       "      <td>2017-04-22</td>\n",
       "      <td>League</td>\n",
       "      <td>MS Dhoni</td>\n",
       "      <td>Maharashtra Cricket Association Stadium</td>\n",
       "      <td>Rising Pune Supergiant</td>\n",
       "      <td>Sunrisers Hyderabad</td>\n",
       "      <td>Rising Pune Supergiant</td>\n",
       "      <td>field</td>\n",
       "      <td>Rising Pune Supergiant</td>\n",
       "      <td>wickets</td>\n",
       "      <td>6.0</td>\n",
       "      <td>177.0</td>\n",
       "      <td>20.0</td>\n",
       "      <td>N</td>\n",
       "      <td>NaN</td>\n",
       "      <td>AY Dandekar</td>\n",
       "      <td>A Deshmukh</td>\n",
       "    </tr>\n",
       "    <tr>\n",
       "      <th>659</th>\n",
       "      <td>1136584</td>\n",
       "      <td>2018</td>\n",
       "      <td>Bengaluru</td>\n",
       "      <td>2018-04-25</td>\n",
       "      <td>League</td>\n",
       "      <td>MS Dhoni</td>\n",
       "      <td>M.Chinnaswamy Stadium</td>\n",
       "      <td>Royal Challengers Bangalore</td>\n",
       "      <td>Chennai Super Kings</td>\n",
       "      <td>Chennai Super Kings</td>\n",
       "      <td>field</td>\n",
       "      <td>Chennai Super Kings</td>\n",
       "      <td>wickets</td>\n",
       "      <td>5.0</td>\n",
       "      <td>206.0</td>\n",
       "      <td>20.0</td>\n",
       "      <td>N</td>\n",
       "      <td>NaN</td>\n",
       "      <td>NJ Llong</td>\n",
       "      <td>VK Sharma</td>\n",
       "    </tr>\n",
       "    <tr>\n",
       "      <th>707</th>\n",
       "      <td>1175367</td>\n",
       "      <td>2019</td>\n",
       "      <td>Chennai</td>\n",
       "      <td>2019-03-31</td>\n",
       "      <td>League</td>\n",
       "      <td>MS Dhoni</td>\n",
       "      <td>MA Chidambaram Stadium</td>\n",
       "      <td>Chennai Super Kings</td>\n",
       "      <td>Rajasthan Royals</td>\n",
       "      <td>Rajasthan Royals</td>\n",
       "      <td>field</td>\n",
       "      <td>Chennai Super Kings</td>\n",
       "      <td>runs</td>\n",
       "      <td>8.0</td>\n",
       "      <td>176.0</td>\n",
       "      <td>20.0</td>\n",
       "      <td>N</td>\n",
       "      <td>NaN</td>\n",
       "      <td>CK Nandan</td>\n",
       "      <td>YC Barde</td>\n",
       "    </tr>\n",
       "    <tr>\n",
       "      <th>720</th>\n",
       "      <td>1178400</td>\n",
       "      <td>2019</td>\n",
       "      <td>Jaipur</td>\n",
       "      <td>2019-04-11</td>\n",
       "      <td>League</td>\n",
       "      <td>MS Dhoni</td>\n",
       "      <td>Sawai Mansingh Stadium</td>\n",
       "      <td>Rajasthan Royals</td>\n",
       "      <td>Chennai Super Kings</td>\n",
       "      <td>Chennai Super Kings</td>\n",
       "      <td>field</td>\n",
       "      <td>Chennai Super Kings</td>\n",
       "      <td>wickets</td>\n",
       "      <td>4.0</td>\n",
       "      <td>152.0</td>\n",
       "      <td>20.0</td>\n",
       "      <td>N</td>\n",
       "      <td>NaN</td>\n",
       "      <td>BNJ Oxenford</td>\n",
       "      <td>UV Gandhe</td>\n",
       "    </tr>\n",
       "    <tr>\n",
       "      <th>745</th>\n",
       "      <td>1178425</td>\n",
       "      <td>2019</td>\n",
       "      <td>Chennai</td>\n",
       "      <td>2019-05-01</td>\n",
       "      <td>League</td>\n",
       "      <td>MS Dhoni</td>\n",
       "      <td>MA Chidambaram Stadium</td>\n",
       "      <td>Chennai Super Kings</td>\n",
       "      <td>Delhi Capitals</td>\n",
       "      <td>Delhi Capitals</td>\n",
       "      <td>field</td>\n",
       "      <td>Chennai Super Kings</td>\n",
       "      <td>runs</td>\n",
       "      <td>80.0</td>\n",
       "      <td>180.0</td>\n",
       "      <td>20.0</td>\n",
       "      <td>N</td>\n",
       "      <td>NaN</td>\n",
       "      <td>AY Dandekar</td>\n",
       "      <td>Nitin Menon</td>\n",
       "    </tr>\n",
       "  </tbody>\n",
       "</table>\n",
       "</div>"
      ],
      "text/plain": [
       "          id   season           city        date         match_type  \\\n",
       "14    335996  2007/08      Bangalore  2008-04-28             League   \n",
       "27    336009  2007/08          Delhi  2008-05-08             League   \n",
       "84    392209     2009    East London  2009-05-04             League   \n",
       "122   419113  2009/10        Kolkata  2010-03-16             League   \n",
       "168   419159  2009/10     Dharamsala  2010-04-18             League   \n",
       "229   501253     2011        Chennai  2011-05-12             League   \n",
       "319   548379     2012      Bangalore  2012-05-23  Elimination Final   \n",
       "355   598030     2013        Chennai  2013-04-25             League   \n",
       "363   598038     2013           Pune  2013-04-30             League   \n",
       "385   598062     2013        Chennai  2013-05-14             League   \n",
       "450   734035     2014      Bangalore  2014-05-24             League   \n",
       "569   981005     2016  Visakhapatnam  2016-05-21             League   \n",
       "601  1082615     2017           Pune  2017-04-22             League   \n",
       "659  1136584     2018      Bengaluru  2018-04-25             League   \n",
       "707  1175367     2019        Chennai  2019-03-31             League   \n",
       "720  1178400     2019         Jaipur  2019-04-11             League   \n",
       "745  1178425     2019        Chennai  2019-05-01             League   \n",
       "\n",
       "    player_of_match                                              venue  \\\n",
       "14         MS Dhoni                              M Chinnaswamy Stadium   \n",
       "27         MS Dhoni                                   Feroz Shah Kotla   \n",
       "84         MS Dhoni                                       Buffalo Park   \n",
       "122        MS Dhoni                                       Eden Gardens   \n",
       "168        MS Dhoni       Himachal Pradesh Cricket Association Stadium   \n",
       "229        MS Dhoni                    MA Chidambaram Stadium, Chepauk   \n",
       "319        MS Dhoni                              M Chinnaswamy Stadium   \n",
       "355        MS Dhoni                    MA Chidambaram Stadium, Chepauk   \n",
       "363        MS Dhoni                         Subrata Roy Sahara Stadium   \n",
       "385        MS Dhoni                    MA Chidambaram Stadium, Chepauk   \n",
       "450        MS Dhoni                              M Chinnaswamy Stadium   \n",
       "569        MS Dhoni  Dr. Y.S. Rajasekhara Reddy ACA-VDCA Cricket St...   \n",
       "601        MS Dhoni            Maharashtra Cricket Association Stadium   \n",
       "659        MS Dhoni                              M.Chinnaswamy Stadium   \n",
       "707        MS Dhoni                             MA Chidambaram Stadium   \n",
       "720        MS Dhoni                             Sawai Mansingh Stadium   \n",
       "745        MS Dhoni                             MA Chidambaram Stadium   \n",
       "\n",
       "                           team1                team2             toss_winner  \\\n",
       "14   Royal Challengers Bangalore  Chennai Super Kings     Chennai Super Kings   \n",
       "27              Delhi Daredevils  Chennai Super Kings     Chennai Super Kings   \n",
       "84           Chennai Super Kings      Deccan Chargers     Chennai Super Kings   \n",
       "122        Kolkata Knight Riders  Chennai Super Kings     Chennai Super Kings   \n",
       "168              Kings XI Punjab  Chennai Super Kings     Chennai Super Kings   \n",
       "229          Chennai Super Kings     Delhi Daredevils     Chennai Super Kings   \n",
       "319          Chennai Super Kings       Mumbai Indians          Mumbai Indians   \n",
       "355          Chennai Super Kings  Sunrisers Hyderabad     Sunrisers Hyderabad   \n",
       "363                Pune Warriors  Chennai Super Kings     Chennai Super Kings   \n",
       "385          Chennai Super Kings     Delhi Daredevils     Chennai Super Kings   \n",
       "450  Royal Challengers Bangalore  Chennai Super Kings     Chennai Super Kings   \n",
       "569      Rising Pune Supergiants      Kings XI Punjab         Kings XI Punjab   \n",
       "601       Rising Pune Supergiant  Sunrisers Hyderabad  Rising Pune Supergiant   \n",
       "659  Royal Challengers Bangalore  Chennai Super Kings     Chennai Super Kings   \n",
       "707          Chennai Super Kings     Rajasthan Royals        Rajasthan Royals   \n",
       "720             Rajasthan Royals  Chennai Super Kings     Chennai Super Kings   \n",
       "745          Chennai Super Kings       Delhi Capitals          Delhi Capitals   \n",
       "\n",
       "    toss_decision                   winner   result  result_margin  \\\n",
       "14            bat      Chennai Super Kings     runs           13.0   \n",
       "27          field      Chennai Super Kings  wickets            4.0   \n",
       "84            bat      Chennai Super Kings     runs           78.0   \n",
       "122           bat      Chennai Super Kings     runs           55.0   \n",
       "168         field      Chennai Super Kings  wickets            6.0   \n",
       "229           bat      Chennai Super Kings     runs           18.0   \n",
       "319         field      Chennai Super Kings     runs           38.0   \n",
       "355           bat      Chennai Super Kings  wickets            5.0   \n",
       "363           bat      Chennai Super Kings     runs           37.0   \n",
       "385           bat      Chennai Super Kings     runs           33.0   \n",
       "450         field      Chennai Super Kings  wickets            8.0   \n",
       "569           bat  Rising Pune Supergiants  wickets            4.0   \n",
       "601         field   Rising Pune Supergiant  wickets            6.0   \n",
       "659         field      Chennai Super Kings  wickets            5.0   \n",
       "707         field      Chennai Super Kings     runs            8.0   \n",
       "720         field      Chennai Super Kings  wickets            4.0   \n",
       "745         field      Chennai Super Kings     runs           80.0   \n",
       "\n",
       "     target_runs  target_overs super_over method          umpire1  \\\n",
       "14         179.0          20.0          N    NaN      BR Doctrove   \n",
       "27         188.0          20.0          N    NaN        Aleem Dar   \n",
       "84         179.0          20.0          N    NaN      BR Doctrove   \n",
       "122        165.0          20.0          N    NaN  HDPK Dharmasena   \n",
       "168        193.0          20.0          N    NaN        BF Bowden   \n",
       "229        177.0          20.0          N    NaN        AM Saheba   \n",
       "319        188.0          20.0          N    NaN        BF Bowden   \n",
       "355        160.0          20.0          N    NaN        Aleem Dar   \n",
       "363        165.0          20.0          N    NaN            S Das   \n",
       "385        169.0          20.0          N    NaN    C Shamshuddin   \n",
       "450        155.0          20.0          N    NaN     AK Chaudhary   \n",
       "569        173.0          20.0          N    NaN  HDPK Dharmasena   \n",
       "601        177.0          20.0          N    NaN      AY Dandekar   \n",
       "659        206.0          20.0          N    NaN         NJ Llong   \n",
       "707        176.0          20.0          N    NaN        CK Nandan   \n",
       "720        152.0          20.0          N    NaN     BNJ Oxenford   \n",
       "745        180.0          20.0          N    NaN      AY Dandekar   \n",
       "\n",
       "             umpire2  \n",
       "14         RB Tiffin  \n",
       "27         RB Tiffin  \n",
       "84         M Erasmus  \n",
       "122        AM Saheba  \n",
       "168        AM Saheba  \n",
       "229       SL Shastri  \n",
       "319  HDPK Dharmasena  \n",
       "355            S Das  \n",
       "363       SJA Taufel  \n",
       "385        RJ Tucker  \n",
       "450         NJ Llong  \n",
       "569      Nitin Menon  \n",
       "601       A Deshmukh  \n",
       "659        VK Sharma  \n",
       "707         YC Barde  \n",
       "720        UV Gandhe  \n",
       "745      Nitin Menon  "
      ]
     },
     "execution_count": 17,
     "metadata": {},
     "output_type": "execute_result"
    }
   ],
   "source": [
    "Dhoni_POM"
   ]
  },
  {
   "cell_type": "code",
   "execution_count": 18,
   "metadata": {},
   "outputs": [
    {
     "data": {
      "text/html": [
       "<div>\n",
       "<style scoped>\n",
       "    .dataframe tbody tr th:only-of-type {\n",
       "        vertical-align: middle;\n",
       "    }\n",
       "\n",
       "    .dataframe tbody tr th {\n",
       "        vertical-align: top;\n",
       "    }\n",
       "\n",
       "    .dataframe thead th {\n",
       "        text-align: right;\n",
       "    }\n",
       "</style>\n",
       "<table border=\"1\" class=\"dataframe\">\n",
       "  <thead>\n",
       "    <tr style=\"text-align: right;\">\n",
       "      <th></th>\n",
       "      <th>id</th>\n",
       "      <th>season</th>\n",
       "      <th>city</th>\n",
       "      <th>date</th>\n",
       "      <th>match_type</th>\n",
       "      <th>player_of_match</th>\n",
       "      <th>venue</th>\n",
       "      <th>team1</th>\n",
       "      <th>team2</th>\n",
       "      <th>toss_winner</th>\n",
       "      <th>toss_decision</th>\n",
       "      <th>winner</th>\n",
       "      <th>result</th>\n",
       "      <th>result_margin</th>\n",
       "      <th>target_runs</th>\n",
       "      <th>target_overs</th>\n",
       "      <th>super_over</th>\n",
       "      <th>method</th>\n",
       "      <th>umpire1</th>\n",
       "      <th>umpire2</th>\n",
       "    </tr>\n",
       "  </thead>\n",
       "  <tbody>\n",
       "    <tr>\n",
       "      <th>203</th>\n",
       "      <td>501227</td>\n",
       "      <td>2011</td>\n",
       "      <td>Delhi</td>\n",
       "      <td>2011-04-26</td>\n",
       "      <td>League</td>\n",
       "      <td>V Kohli</td>\n",
       "      <td>Feroz Shah Kotla</td>\n",
       "      <td>Delhi Daredevils</td>\n",
       "      <td>Royal Challengers Bangalore</td>\n",
       "      <td>Royal Challengers Bangalore</td>\n",
       "      <td>field</td>\n",
       "      <td>Royal Challengers Bangalore</td>\n",
       "      <td>wickets</td>\n",
       "      <td>3.0</td>\n",
       "      <td>161.0</td>\n",
       "      <td>20.0</td>\n",
       "      <td>N</td>\n",
       "      <td>NaN</td>\n",
       "      <td>S Asnani</td>\n",
       "      <td>RJ Tucker</td>\n",
       "    </tr>\n",
       "    <tr>\n",
       "      <th>208</th>\n",
       "      <td>501232</td>\n",
       "      <td>2011</td>\n",
       "      <td>Bangalore</td>\n",
       "      <td>2011-04-29</td>\n",
       "      <td>League</td>\n",
       "      <td>V Kohli</td>\n",
       "      <td>M Chinnaswamy Stadium</td>\n",
       "      <td>Royal Challengers Bangalore</td>\n",
       "      <td>Pune Warriors</td>\n",
       "      <td>Pune Warriors</td>\n",
       "      <td>field</td>\n",
       "      <td>Royal Challengers Bangalore</td>\n",
       "      <td>runs</td>\n",
       "      <td>26.0</td>\n",
       "      <td>182.0</td>\n",
       "      <td>20.0</td>\n",
       "      <td>N</td>\n",
       "      <td>NaN</td>\n",
       "      <td>Aleem Dar</td>\n",
       "      <td>SS Hazare</td>\n",
       "    </tr>\n",
       "    <tr>\n",
       "      <th>331</th>\n",
       "      <td>598048</td>\n",
       "      <td>2013</td>\n",
       "      <td>Bangalore</td>\n",
       "      <td>2013-04-09</td>\n",
       "      <td>League</td>\n",
       "      <td>V Kohli</td>\n",
       "      <td>M Chinnaswamy Stadium</td>\n",
       "      <td>Royal Challengers Bangalore</td>\n",
       "      <td>Sunrisers Hyderabad</td>\n",
       "      <td>Sunrisers Hyderabad</td>\n",
       "      <td>bat</td>\n",
       "      <td>Royal Challengers Bangalore</td>\n",
       "      <td>wickets</td>\n",
       "      <td>7.0</td>\n",
       "      <td>162.0</td>\n",
       "      <td>20.0</td>\n",
       "      <td>N</td>\n",
       "      <td>NaN</td>\n",
       "      <td>S Ravi</td>\n",
       "      <td>SJA Taufel</td>\n",
       "    </tr>\n",
       "    <tr>\n",
       "      <th>342</th>\n",
       "      <td>598017</td>\n",
       "      <td>2013</td>\n",
       "      <td>Bangalore</td>\n",
       "      <td>2013-04-16</td>\n",
       "      <td>League</td>\n",
       "      <td>V Kohli</td>\n",
       "      <td>M Chinnaswamy Stadium</td>\n",
       "      <td>Royal Challengers Bangalore</td>\n",
       "      <td>Delhi Daredevils</td>\n",
       "      <td>Royal Challengers Bangalore</td>\n",
       "      <td>field</td>\n",
       "      <td>Royal Challengers Bangalore</td>\n",
       "      <td>tie</td>\n",
       "      <td>NaN</td>\n",
       "      <td>153.0</td>\n",
       "      <td>20.0</td>\n",
       "      <td>Y</td>\n",
       "      <td>NaN</td>\n",
       "      <td>M Erasmus</td>\n",
       "      <td>VA Kulkarni</td>\n",
       "    </tr>\n",
       "    <tr>\n",
       "      <th>391</th>\n",
       "      <td>598068</td>\n",
       "      <td>2013</td>\n",
       "      <td>Bangalore</td>\n",
       "      <td>2013-05-18</td>\n",
       "      <td>League</td>\n",
       "      <td>V Kohli</td>\n",
       "      <td>M Chinnaswamy Stadium</td>\n",
       "      <td>Royal Challengers Bangalore</td>\n",
       "      <td>Chennai Super Kings</td>\n",
       "      <td>Chennai Super Kings</td>\n",
       "      <td>field</td>\n",
       "      <td>Royal Challengers Bangalore</td>\n",
       "      <td>runs</td>\n",
       "      <td>24.0</td>\n",
       "      <td>107.0</td>\n",
       "      <td>8.0</td>\n",
       "      <td>N</td>\n",
       "      <td>NaN</td>\n",
       "      <td>C Shamshuddin</td>\n",
       "      <td>RJ Tucker</td>\n",
       "    </tr>\n",
       "    <tr>\n",
       "      <th>508</th>\n",
       "      <td>829807</td>\n",
       "      <td>2015</td>\n",
       "      <td>Hyderabad</td>\n",
       "      <td>2015-05-15</td>\n",
       "      <td>League</td>\n",
       "      <td>V Kohli</td>\n",
       "      <td>Rajiv Gandhi International Stadium, Uppal</td>\n",
       "      <td>Sunrisers Hyderabad</td>\n",
       "      <td>Royal Challengers Bangalore</td>\n",
       "      <td>Sunrisers Hyderabad</td>\n",
       "      <td>bat</td>\n",
       "      <td>Royal Challengers Bangalore</td>\n",
       "      <td>wickets</td>\n",
       "      <td>6.0</td>\n",
       "      <td>81.0</td>\n",
       "      <td>6.0</td>\n",
       "      <td>N</td>\n",
       "      <td>D/L</td>\n",
       "      <td>AK Chaudhary</td>\n",
       "      <td>HDPK Dharmasena</td>\n",
       "    </tr>\n",
       "    <tr>\n",
       "      <th>535</th>\n",
       "      <td>980937</td>\n",
       "      <td>2016</td>\n",
       "      <td>Rajkot</td>\n",
       "      <td>2016-04-24</td>\n",
       "      <td>League</td>\n",
       "      <td>V Kohli</td>\n",
       "      <td>Saurashtra Cricket Association Stadium</td>\n",
       "      <td>Gujarat Lions</td>\n",
       "      <td>Royal Challengers Bangalore</td>\n",
       "      <td>Royal Challengers Bangalore</td>\n",
       "      <td>bat</td>\n",
       "      <td>Gujarat Lions</td>\n",
       "      <td>wickets</td>\n",
       "      <td>6.0</td>\n",
       "      <td>181.0</td>\n",
       "      <td>20.0</td>\n",
       "      <td>N</td>\n",
       "      <td>NaN</td>\n",
       "      <td>K Bharatan</td>\n",
       "      <td>BNJ Oxenford</td>\n",
       "    </tr>\n",
       "    <tr>\n",
       "      <th>551</th>\n",
       "      <td>980969</td>\n",
       "      <td>2016</td>\n",
       "      <td>Bangalore</td>\n",
       "      <td>2016-05-07</td>\n",
       "      <td>League</td>\n",
       "      <td>V Kohli</td>\n",
       "      <td>M Chinnaswamy Stadium</td>\n",
       "      <td>Royal Challengers Bangalore</td>\n",
       "      <td>Rising Pune Supergiants</td>\n",
       "      <td>Royal Challengers Bangalore</td>\n",
       "      <td>field</td>\n",
       "      <td>Royal Challengers Bangalore</td>\n",
       "      <td>wickets</td>\n",
       "      <td>7.0</td>\n",
       "      <td>192.0</td>\n",
       "      <td>20.0</td>\n",
       "      <td>N</td>\n",
       "      <td>NaN</td>\n",
       "      <td>CB Gaffaney</td>\n",
       "      <td>BNJ Oxenford</td>\n",
       "    </tr>\n",
       "    <tr>\n",
       "      <th>564</th>\n",
       "      <td>980995</td>\n",
       "      <td>2016</td>\n",
       "      <td>Kolkata</td>\n",
       "      <td>2016-05-16</td>\n",
       "      <td>League</td>\n",
       "      <td>V Kohli</td>\n",
       "      <td>Eden Gardens</td>\n",
       "      <td>Kolkata Knight Riders</td>\n",
       "      <td>Royal Challengers Bangalore</td>\n",
       "      <td>Royal Challengers Bangalore</td>\n",
       "      <td>field</td>\n",
       "      <td>Royal Challengers Bangalore</td>\n",
       "      <td>wickets</td>\n",
       "      <td>9.0</td>\n",
       "      <td>184.0</td>\n",
       "      <td>20.0</td>\n",
       "      <td>N</td>\n",
       "      <td>NaN</td>\n",
       "      <td>CB Gaffaney</td>\n",
       "      <td>A Nand Kishore</td>\n",
       "    </tr>\n",
       "    <tr>\n",
       "      <th>566</th>\n",
       "      <td>980999</td>\n",
       "      <td>2016</td>\n",
       "      <td>Bangalore</td>\n",
       "      <td>2016-05-18</td>\n",
       "      <td>League</td>\n",
       "      <td>V Kohli</td>\n",
       "      <td>M Chinnaswamy Stadium</td>\n",
       "      <td>Royal Challengers Bangalore</td>\n",
       "      <td>Kings XI Punjab</td>\n",
       "      <td>Kings XI Punjab</td>\n",
       "      <td>field</td>\n",
       "      <td>Royal Challengers Bangalore</td>\n",
       "      <td>runs</td>\n",
       "      <td>82.0</td>\n",
       "      <td>203.0</td>\n",
       "      <td>14.0</td>\n",
       "      <td>N</td>\n",
       "      <td>D/L</td>\n",
       "      <td>KN Ananthapadmanabhan</td>\n",
       "      <td>M Erasmus</td>\n",
       "    </tr>\n",
       "    <tr>\n",
       "      <th>572</th>\n",
       "      <td>981011</td>\n",
       "      <td>2016</td>\n",
       "      <td>Raipur</td>\n",
       "      <td>2016-05-22</td>\n",
       "      <td>League</td>\n",
       "      <td>V Kohli</td>\n",
       "      <td>Shaheed Veer Narayan Singh International Stadium</td>\n",
       "      <td>Delhi Daredevils</td>\n",
       "      <td>Royal Challengers Bangalore</td>\n",
       "      <td>Royal Challengers Bangalore</td>\n",
       "      <td>field</td>\n",
       "      <td>Royal Challengers Bangalore</td>\n",
       "      <td>wickets</td>\n",
       "      <td>6.0</td>\n",
       "      <td>139.0</td>\n",
       "      <td>20.0</td>\n",
       "      <td>N</td>\n",
       "      <td>NaN</td>\n",
       "      <td>A Nand Kishore</td>\n",
       "      <td>BNJ Oxenford</td>\n",
       "    </tr>\n",
       "    <tr>\n",
       "      <th>730</th>\n",
       "      <td>1178410</td>\n",
       "      <td>2019</td>\n",
       "      <td>Kolkata</td>\n",
       "      <td>2019-04-19</td>\n",
       "      <td>League</td>\n",
       "      <td>V Kohli</td>\n",
       "      <td>Eden Gardens</td>\n",
       "      <td>Royal Challengers Bangalore</td>\n",
       "      <td>Kolkata Knight Riders</td>\n",
       "      <td>Kolkata Knight Riders</td>\n",
       "      <td>field</td>\n",
       "      <td>Royal Challengers Bangalore</td>\n",
       "      <td>runs</td>\n",
       "      <td>10.0</td>\n",
       "      <td>214.0</td>\n",
       "      <td>20.0</td>\n",
       "      <td>N</td>\n",
       "      <td>NaN</td>\n",
       "      <td>IJ Gould</td>\n",
       "      <td>Nitin Menon</td>\n",
       "    </tr>\n",
       "    <tr>\n",
       "      <th>780</th>\n",
       "      <td>1216525</td>\n",
       "      <td>2020/21</td>\n",
       "      <td>NaN</td>\n",
       "      <td>2020-10-10</td>\n",
       "      <td>League</td>\n",
       "      <td>V Kohli</td>\n",
       "      <td>Dubai International Cricket Stadium</td>\n",
       "      <td>Royal Challengers Bangalore</td>\n",
       "      <td>Chennai Super Kings</td>\n",
       "      <td>Royal Challengers Bangalore</td>\n",
       "      <td>bat</td>\n",
       "      <td>Royal Challengers Bangalore</td>\n",
       "      <td>runs</td>\n",
       "      <td>37.0</td>\n",
       "      <td>170.0</td>\n",
       "      <td>20.0</td>\n",
       "      <td>N</td>\n",
       "      <td>NaN</td>\n",
       "      <td>AK Chaudhary</td>\n",
       "      <td>PR Reiffel</td>\n",
       "    </tr>\n",
       "    <tr>\n",
       "      <th>942</th>\n",
       "      <td>1304113</td>\n",
       "      <td>2022</td>\n",
       "      <td>Mumbai</td>\n",
       "      <td>2022-05-19</td>\n",
       "      <td>League</td>\n",
       "      <td>V Kohli</td>\n",
       "      <td>Wankhede Stadium, Mumbai</td>\n",
       "      <td>Gujarat Titans</td>\n",
       "      <td>Royal Challengers Bangalore</td>\n",
       "      <td>Gujarat Titans</td>\n",
       "      <td>bat</td>\n",
       "      <td>Royal Challengers Bangalore</td>\n",
       "      <td>wickets</td>\n",
       "      <td>8.0</td>\n",
       "      <td>169.0</td>\n",
       "      <td>20.0</td>\n",
       "      <td>N</td>\n",
       "      <td>NaN</td>\n",
       "      <td>KN Ananthapadmanabhan</td>\n",
       "      <td>GR Sadashiv Iyer</td>\n",
       "    </tr>\n",
       "    <tr>\n",
       "      <th>969</th>\n",
       "      <td>1359494</td>\n",
       "      <td>2023</td>\n",
       "      <td>Bengaluru</td>\n",
       "      <td>2023-04-15</td>\n",
       "      <td>League</td>\n",
       "      <td>V Kohli</td>\n",
       "      <td>M Chinnaswamy Stadium, Bengaluru</td>\n",
       "      <td>Royal Challengers Bangalore</td>\n",
       "      <td>Delhi Capitals</td>\n",
       "      <td>Delhi Capitals</td>\n",
       "      <td>field</td>\n",
       "      <td>Royal Challengers Bangalore</td>\n",
       "      <td>runs</td>\n",
       "      <td>23.0</td>\n",
       "      <td>175.0</td>\n",
       "      <td>20.0</td>\n",
       "      <td>N</td>\n",
       "      <td>NaN</td>\n",
       "      <td>KN Ananthapadmanabhan</td>\n",
       "      <td>MV Saidharshan Kumar</td>\n",
       "    </tr>\n",
       "    <tr>\n",
       "      <th>1014</th>\n",
       "      <td>1359539</td>\n",
       "      <td>2023</td>\n",
       "      <td>Hyderabad</td>\n",
       "      <td>2023-05-18</td>\n",
       "      <td>League</td>\n",
       "      <td>V Kohli</td>\n",
       "      <td>Rajiv Gandhi International Stadium, Uppal, Hyd...</td>\n",
       "      <td>Sunrisers Hyderabad</td>\n",
       "      <td>Royal Challengers Bangalore</td>\n",
       "      <td>Royal Challengers Bangalore</td>\n",
       "      <td>field</td>\n",
       "      <td>Royal Challengers Bangalore</td>\n",
       "      <td>wickets</td>\n",
       "      <td>8.0</td>\n",
       "      <td>187.0</td>\n",
       "      <td>20.0</td>\n",
       "      <td>N</td>\n",
       "      <td>NaN</td>\n",
       "      <td>BNJ Oxenford</td>\n",
       "      <td>VK Sharma</td>\n",
       "    </tr>\n",
       "    <tr>\n",
       "      <th>1029</th>\n",
       "      <td>1422124</td>\n",
       "      <td>2024</td>\n",
       "      <td>Bengaluru</td>\n",
       "      <td>2024-03-25</td>\n",
       "      <td>League</td>\n",
       "      <td>V Kohli</td>\n",
       "      <td>M Chinnaswamy Stadium, Bengaluru</td>\n",
       "      <td>Punjab Kings</td>\n",
       "      <td>Royal Challengers Bengaluru</td>\n",
       "      <td>Royal Challengers Bengaluru</td>\n",
       "      <td>field</td>\n",
       "      <td>Royal Challengers Bengaluru</td>\n",
       "      <td>wickets</td>\n",
       "      <td>4.0</td>\n",
       "      <td>177.0</td>\n",
       "      <td>20.0</td>\n",
       "      <td>N</td>\n",
       "      <td>NaN</td>\n",
       "      <td>AK Chaudhary</td>\n",
       "      <td>MV Saidharshan Kumar</td>\n",
       "    </tr>\n",
       "    <tr>\n",
       "      <th>1081</th>\n",
       "      <td>1426296</td>\n",
       "      <td>2024</td>\n",
       "      <td>Dharamsala</td>\n",
       "      <td>2024-05-09</td>\n",
       "      <td>League</td>\n",
       "      <td>V Kohli</td>\n",
       "      <td>Himachal Pradesh Cricket Association Stadium, ...</td>\n",
       "      <td>Royal Challengers Bengaluru</td>\n",
       "      <td>Punjab Kings</td>\n",
       "      <td>Punjab Kings</td>\n",
       "      <td>field</td>\n",
       "      <td>Royal Challengers Bengaluru</td>\n",
       "      <td>runs</td>\n",
       "      <td>60.0</td>\n",
       "      <td>242.0</td>\n",
       "      <td>20.0</td>\n",
       "      <td>N</td>\n",
       "      <td>NaN</td>\n",
       "      <td>Nitin Menon</td>\n",
       "      <td>HAS Khalid</td>\n",
       "    </tr>\n",
       "  </tbody>\n",
       "</table>\n",
       "</div>"
      ],
      "text/plain": [
       "           id   season        city        date match_type player_of_match  \\\n",
       "203    501227     2011       Delhi  2011-04-26     League         V Kohli   \n",
       "208    501232     2011   Bangalore  2011-04-29     League         V Kohli   \n",
       "331    598048     2013   Bangalore  2013-04-09     League         V Kohli   \n",
       "342    598017     2013   Bangalore  2013-04-16     League         V Kohli   \n",
       "391    598068     2013   Bangalore  2013-05-18     League         V Kohli   \n",
       "508    829807     2015   Hyderabad  2015-05-15     League         V Kohli   \n",
       "535    980937     2016      Rajkot  2016-04-24     League         V Kohli   \n",
       "551    980969     2016   Bangalore  2016-05-07     League         V Kohli   \n",
       "564    980995     2016     Kolkata  2016-05-16     League         V Kohli   \n",
       "566    980999     2016   Bangalore  2016-05-18     League         V Kohli   \n",
       "572    981011     2016      Raipur  2016-05-22     League         V Kohli   \n",
       "730   1178410     2019     Kolkata  2019-04-19     League         V Kohli   \n",
       "780   1216525  2020/21         NaN  2020-10-10     League         V Kohli   \n",
       "942   1304113     2022      Mumbai  2022-05-19     League         V Kohli   \n",
       "969   1359494     2023   Bengaluru  2023-04-15     League         V Kohli   \n",
       "1014  1359539     2023   Hyderabad  2023-05-18     League         V Kohli   \n",
       "1029  1422124     2024   Bengaluru  2024-03-25     League         V Kohli   \n",
       "1081  1426296     2024  Dharamsala  2024-05-09     League         V Kohli   \n",
       "\n",
       "                                                  venue  \\\n",
       "203                                    Feroz Shah Kotla   \n",
       "208                               M Chinnaswamy Stadium   \n",
       "331                               M Chinnaswamy Stadium   \n",
       "342                               M Chinnaswamy Stadium   \n",
       "391                               M Chinnaswamy Stadium   \n",
       "508           Rajiv Gandhi International Stadium, Uppal   \n",
       "535              Saurashtra Cricket Association Stadium   \n",
       "551                               M Chinnaswamy Stadium   \n",
       "564                                        Eden Gardens   \n",
       "566                               M Chinnaswamy Stadium   \n",
       "572    Shaheed Veer Narayan Singh International Stadium   \n",
       "730                                        Eden Gardens   \n",
       "780                 Dubai International Cricket Stadium   \n",
       "942                            Wankhede Stadium, Mumbai   \n",
       "969                    M Chinnaswamy Stadium, Bengaluru   \n",
       "1014  Rajiv Gandhi International Stadium, Uppal, Hyd...   \n",
       "1029                   M Chinnaswamy Stadium, Bengaluru   \n",
       "1081  Himachal Pradesh Cricket Association Stadium, ...   \n",
       "\n",
       "                            team1                        team2  \\\n",
       "203              Delhi Daredevils  Royal Challengers Bangalore   \n",
       "208   Royal Challengers Bangalore                Pune Warriors   \n",
       "331   Royal Challengers Bangalore          Sunrisers Hyderabad   \n",
       "342   Royal Challengers Bangalore             Delhi Daredevils   \n",
       "391   Royal Challengers Bangalore          Chennai Super Kings   \n",
       "508           Sunrisers Hyderabad  Royal Challengers Bangalore   \n",
       "535                 Gujarat Lions  Royal Challengers Bangalore   \n",
       "551   Royal Challengers Bangalore      Rising Pune Supergiants   \n",
       "564         Kolkata Knight Riders  Royal Challengers Bangalore   \n",
       "566   Royal Challengers Bangalore              Kings XI Punjab   \n",
       "572              Delhi Daredevils  Royal Challengers Bangalore   \n",
       "730   Royal Challengers Bangalore        Kolkata Knight Riders   \n",
       "780   Royal Challengers Bangalore          Chennai Super Kings   \n",
       "942                Gujarat Titans  Royal Challengers Bangalore   \n",
       "969   Royal Challengers Bangalore               Delhi Capitals   \n",
       "1014          Sunrisers Hyderabad  Royal Challengers Bangalore   \n",
       "1029                 Punjab Kings  Royal Challengers Bengaluru   \n",
       "1081  Royal Challengers Bengaluru                 Punjab Kings   \n",
       "\n",
       "                      toss_winner toss_decision                       winner  \\\n",
       "203   Royal Challengers Bangalore         field  Royal Challengers Bangalore   \n",
       "208                 Pune Warriors         field  Royal Challengers Bangalore   \n",
       "331           Sunrisers Hyderabad           bat  Royal Challengers Bangalore   \n",
       "342   Royal Challengers Bangalore         field  Royal Challengers Bangalore   \n",
       "391           Chennai Super Kings         field  Royal Challengers Bangalore   \n",
       "508           Sunrisers Hyderabad           bat  Royal Challengers Bangalore   \n",
       "535   Royal Challengers Bangalore           bat                Gujarat Lions   \n",
       "551   Royal Challengers Bangalore         field  Royal Challengers Bangalore   \n",
       "564   Royal Challengers Bangalore         field  Royal Challengers Bangalore   \n",
       "566               Kings XI Punjab         field  Royal Challengers Bangalore   \n",
       "572   Royal Challengers Bangalore         field  Royal Challengers Bangalore   \n",
       "730         Kolkata Knight Riders         field  Royal Challengers Bangalore   \n",
       "780   Royal Challengers Bangalore           bat  Royal Challengers Bangalore   \n",
       "942                Gujarat Titans           bat  Royal Challengers Bangalore   \n",
       "969                Delhi Capitals         field  Royal Challengers Bangalore   \n",
       "1014  Royal Challengers Bangalore         field  Royal Challengers Bangalore   \n",
       "1029  Royal Challengers Bengaluru         field  Royal Challengers Bengaluru   \n",
       "1081                 Punjab Kings         field  Royal Challengers Bengaluru   \n",
       "\n",
       "       result  result_margin  target_runs  target_overs super_over method  \\\n",
       "203   wickets            3.0        161.0          20.0          N    NaN   \n",
       "208      runs           26.0        182.0          20.0          N    NaN   \n",
       "331   wickets            7.0        162.0          20.0          N    NaN   \n",
       "342       tie            NaN        153.0          20.0          Y    NaN   \n",
       "391      runs           24.0        107.0           8.0          N    NaN   \n",
       "508   wickets            6.0         81.0           6.0          N    D/L   \n",
       "535   wickets            6.0        181.0          20.0          N    NaN   \n",
       "551   wickets            7.0        192.0          20.0          N    NaN   \n",
       "564   wickets            9.0        184.0          20.0          N    NaN   \n",
       "566      runs           82.0        203.0          14.0          N    D/L   \n",
       "572   wickets            6.0        139.0          20.0          N    NaN   \n",
       "730      runs           10.0        214.0          20.0          N    NaN   \n",
       "780      runs           37.0        170.0          20.0          N    NaN   \n",
       "942   wickets            8.0        169.0          20.0          N    NaN   \n",
       "969      runs           23.0        175.0          20.0          N    NaN   \n",
       "1014  wickets            8.0        187.0          20.0          N    NaN   \n",
       "1029  wickets            4.0        177.0          20.0          N    NaN   \n",
       "1081     runs           60.0        242.0          20.0          N    NaN   \n",
       "\n",
       "                    umpire1               umpire2  \n",
       "203                S Asnani             RJ Tucker  \n",
       "208               Aleem Dar             SS Hazare  \n",
       "331                  S Ravi            SJA Taufel  \n",
       "342               M Erasmus           VA Kulkarni  \n",
       "391           C Shamshuddin             RJ Tucker  \n",
       "508            AK Chaudhary       HDPK Dharmasena  \n",
       "535              K Bharatan          BNJ Oxenford  \n",
       "551             CB Gaffaney          BNJ Oxenford  \n",
       "564             CB Gaffaney        A Nand Kishore  \n",
       "566   KN Ananthapadmanabhan             M Erasmus  \n",
       "572          A Nand Kishore          BNJ Oxenford  \n",
       "730                IJ Gould           Nitin Menon  \n",
       "780            AK Chaudhary            PR Reiffel  \n",
       "942   KN Ananthapadmanabhan      GR Sadashiv Iyer  \n",
       "969   KN Ananthapadmanabhan  MV Saidharshan Kumar  \n",
       "1014           BNJ Oxenford             VK Sharma  \n",
       "1029           AK Chaudhary  MV Saidharshan Kumar  \n",
       "1081            Nitin Menon            HAS Khalid  "
      ]
     },
     "execution_count": 18,
     "metadata": {},
     "output_type": "execute_result"
    }
   ],
   "source": [
    "Virat_POM"
   ]
  }
 ],
 "metadata": {
  "kernelspec": {
   "display_name": "Python 3",
   "language": "python",
   "name": "python3"
  },
  "language_info": {
   "codemirror_mode": {
    "name": "ipython",
    "version": 3
   },
   "file_extension": ".py",
   "mimetype": "text/x-python",
   "name": "python",
   "nbconvert_exporter": "python",
   "pygments_lexer": "ipython3",
   "version": "3.12.3"
  }
 },
 "nbformat": 4,
 "nbformat_minor": 2
}
